{
 "cells": [
  {
   "cell_type": "markdown",
   "id": "bbcb6ff3",
   "metadata": {},
   "source": [
    "# Listák, indexek\n",
    "\n",
    "Néztünk már egyszerű típusokat, mint például egész számok (`int`) vagy szövegek (`str`). Mi van akkor ha például nagyon sok egész számot kell eltárolnunk? Például egy egész osztály minden diákjának az életkorát? Ehhez 20-40 külön változóra lenne szükségünk?"
   ]
  },
  {
   "cell_type": "code",
   "execution_count": 1,
   "id": "13b81e33",
   "metadata": {},
   "outputs": [],
   "source": [
    "diák1 = 12\n",
    "diák2 = 13\n",
    "diák3 = 11\n",
    "diák4 = 12"
   ]
  },
  {
   "cell_type": "markdown",
   "id": "9768f5fb",
   "metadata": {},
   "source": [
    "Ez nem tűnik egy praktikus megoldásnak. Szerencsére vannak különböző **adatszerkezetek** (# TODO: mi az hogy adatszerkezet?), amik segítségével könnyen eltárolhatjuk a 20-40 vagy akár annál sokkal több diák adatait is egyetlen egy változóban."
   ]
  },
  {
   "cell_type": "code",
   "execution_count": 2,
   "id": "d5a8897f",
   "metadata": {},
   "outputs": [],
   "source": [
    "diákok = [12, 13, 11, 12]"
   ]
  },
  {
   "cell_type": "markdown",
   "id": "db85e67a",
   "metadata": {},
   "source": [
    "Az elemeket vesszővel válatszjuk el köréjük pedik szögletes zárójelet teszünk, ezzel jelezve hogy ezek egy listába tartoznak. Mi történik ha ki akarjuk iratni a diákok változó értékét?"
   ]
  },
  {
   "cell_type": "code",
   "execution_count": 3,
   "id": "00b32ef9",
   "metadata": {},
   "outputs": [
    {
     "name": "stdout",
     "output_type": "stream",
     "text": [
      "[12, 13, 11, 12]\n"
     ]
    }
   ],
   "source": [
    "print(diákok)"
   ]
  },
  {
   "cell_type": "markdown",
   "id": "0c682a63",
   "metadata": {},
   "source": [
    "Minden, a listában szereplő elemet kiír abban a sorrendben, mint ahogy mi megadtuk. De hogyan tudnánk csak az első diák életkorát elérni és csak azt kiíratni? A listákban az elemeket elérhetjük úgynevezett **index**eken keresztül. Az indexek olyanok mint a sorszámok, csupán annyi a különbség, hogy míg a sorszámok 1-től indulnak az indexek 0-től. Megmondhatjuk, hogy a listának, csak a második elemét írja ki, tehát azt az elemet, aminek az indexe 1. Ha pedig az első elemet szeretnénk kiíratni, akkor a 0. indexre kell hivatkoznunk. \n",
    "\n",
    "Leírjuk, hogy melyik változóban szereplő listát szeretnénk elérni, majd szögletes zárójelek között megadjuk, hogy hanyas indexű elemet."
   ]
  },
  {
   "cell_type": "code",
   "execution_count": 4,
   "id": "4df546c7",
   "metadata": {},
   "outputs": [
    {
     "name": "stdout",
     "output_type": "stream",
     "text": [
      "12\n"
     ]
    }
   ],
   "source": [
    "print(diákok[0]) # a diákok változóban tárolt lista első elemének kiírása"
   ]
  },
  {
   "cell_type": "code",
   "execution_count": 5,
   "id": "e04591af",
   "metadata": {},
   "outputs": [
    {
     "name": "stdout",
     "output_type": "stream",
     "text": [
      "['a', 'b', 'c', 'd']\n",
      "a\n",
      "b\n",
      "c\n",
      "d\n"
     ]
    }
   ],
   "source": [
    "lista = ['a', 'b', 'c', 'd']\n",
    "\n",
    "print(lista) # a teljes lista kiírása\n",
    "\n",
    "print(lista[0]) # lista nevű változóban tárolt lista első (nulladik indexű) elemének kiírása\n",
    "print(lista[1])\n",
    "print(lista[2])\n",
    "print(lista[3])"
   ]
  },
  {
   "cell_type": "markdown",
   "id": "7a9260c7",
   "metadata": {},
   "source": [
    "Mi történik, ha olyan indexű elemet szeretnénk lekérni a listából, ami nem létezik? Például egy négy hosszú lista 100. indexű elemét?"
   ]
  },
  {
   "cell_type": "code",
   "execution_count": 6,
   "id": "4190194d",
   "metadata": {},
   "outputs": [
    {
     "name": "stdout",
     "output_type": "stream",
     "text": [
      "['a', 'b', 'c', 'd']\n"
     ]
    },
    {
     "ename": "IndexError",
     "evalue": "list index out of range",
     "output_type": "error",
     "traceback": [
      "\u001b[0;31m---------------------------------------------------------------------------\u001b[0m",
      "\u001b[0;31mIndexError\u001b[0m                                Traceback (most recent call last)",
      "Cell \u001b[0;32mIn [6], line 4\u001b[0m\n\u001b[1;32m      1\u001b[0m lista \u001b[38;5;241m=\u001b[39m [\u001b[38;5;124m'\u001b[39m\u001b[38;5;124ma\u001b[39m\u001b[38;5;124m'\u001b[39m, \u001b[38;5;124m'\u001b[39m\u001b[38;5;124mb\u001b[39m\u001b[38;5;124m'\u001b[39m, \u001b[38;5;124m'\u001b[39m\u001b[38;5;124mc\u001b[39m\u001b[38;5;124m'\u001b[39m, \u001b[38;5;124m'\u001b[39m\u001b[38;5;124md\u001b[39m\u001b[38;5;124m'\u001b[39m]\n\u001b[1;32m      3\u001b[0m \u001b[38;5;28mprint\u001b[39m(lista)\n\u001b[0;32m----> 4\u001b[0m \u001b[38;5;28mprint\u001b[39m(\u001b[43mlista\u001b[49m\u001b[43m[\u001b[49m\u001b[38;5;241;43m100\u001b[39;49m\u001b[43m]\u001b[49m)\n",
      "\u001b[0;31mIndexError\u001b[0m: list index out of range"
     ]
    }
   ],
   "source": [
    "lista = ['a', 'b', 'c', 'd']\n",
    "\n",
    "print(lista)\n",
    "print(lista[100])"
   ]
  },
  {
   "cell_type": "markdown",
   "id": "0b796abd",
   "metadata": {},
   "source": [
    "Olyankor egy ilyen hibaüzenetet kapunk."
   ]
  },
  {
   "cell_type": "code",
   "execution_count": 7,
   "id": "a759eb6a",
   "metadata": {},
   "outputs": [
    {
     "ename": "IndexError",
     "evalue": "list index out of range",
     "output_type": "error",
     "traceback": [
      "\u001b[0;31m---------------------------------------------------------------------------\u001b[0m",
      "\u001b[0;31mIndexError\u001b[0m                                Traceback (most recent call last)",
      "Cell \u001b[0;32mIn [7], line 3\u001b[0m\n\u001b[1;32m      1\u001b[0m lista \u001b[38;5;241m=\u001b[39m [\u001b[38;5;124m'\u001b[39m\u001b[38;5;124ma\u001b[39m\u001b[38;5;124m'\u001b[39m, \u001b[38;5;124m'\u001b[39m\u001b[38;5;124mb\u001b[39m\u001b[38;5;124m'\u001b[39m, \u001b[38;5;124m'\u001b[39m\u001b[38;5;124mc\u001b[39m\u001b[38;5;124m'\u001b[39m, \u001b[38;5;124m'\u001b[39m\u001b[38;5;124md\u001b[39m\u001b[38;5;124m'\u001b[39m]\n\u001b[0;32m----> 3\u001b[0m \u001b[38;5;28mprint\u001b[39m(\u001b[43mlista\u001b[49m\u001b[43m[\u001b[49m\u001b[38;5;241;43m4\u001b[39;49m\u001b[43m]\u001b[49m)\n",
      "\u001b[0;31mIndexError\u001b[0m: list index out of range"
     ]
    }
   ],
   "source": [
    "lista = ['a', 'b', 'c', 'd']\n",
    "\n",
    "print(lista[4])"
   ]
  },
  {
   "cell_type": "markdown",
   "id": "1c9a2e60",
   "metadata": {},
   "source": [
    "A lista hiába tartalmaz négy elemet (ezt úgy szoktuk mondani, hogy a **lista hossza** négy) mégsincsen négyes indexű eleme. Gondoljunk bele miért: 0. index, 1. index, 2. index, 3. index. Tehát a lista utolsó elemének az indexe mindig eggyel kisebb, mint a lista hossza."
   ]
  },
  {
   "cell_type": "markdown",
   "id": "a7c7af34",
   "metadata": {},
   "source": [
    "# Lista elemek megváltoztatása\n",
    "\n",
    "Nem csak lekérni tudjuk, hogy milyen érték szerepel a lista 0. indexén, hanem az indexek segítségével meg is tudjuk változtatni a lista elemeit. Sőt, csak az indexekkel tudjuk megváltoztatni a lista elemeit! Például:"
   ]
  },
  {
   "cell_type": "code",
   "execution_count": 8,
   "id": "1c711879",
   "metadata": {},
   "outputs": [
    {
     "name": "stdout",
     "output_type": "stream",
     "text": [
      "['a', 'b', 'c', 'd']\n",
      "['g', 'b', 'c', 'd']\n"
     ]
    }
   ],
   "source": [
    "lista = ['a', 'b', 'c', 'd']\n",
    "\n",
    "print(lista) # változtatás előtt\n",
    "\n",
    "lista[0] = 'g'\n",
    "\n",
    "print(lista) # változtatás után"
   ]
  },
  {
   "cell_type": "markdown",
   "id": "650401f2",
   "metadata": {},
   "source": [
    ">Megjegyzések\n",
    "* Egy listában egy érték többször is (akárhányszor) szerepelhet. Például: `[1, 2, 1, 1, 3]`\n",
    "* Egy listában nem csak egy típusú értékek szerepelhetnek, hanem több féle is (akárhányféle). Például számok és szövegek vegyesen: `[\"alma\", 12, 2.2, \"körte\", \"szilva\"]`\n",
    "\n",
    "Tehát, ha valamilyen bonyolultabb dolgot szeretnénk, például az összes `'b'` betűt szeretnénk lecserélni, akkor először valahogyan ki kel találnunk a `'b'` betűk indexét (meg kell őket keresnünk) és utána az index(ek) segítségével le tudjuk cserélni az értékét. Ilyen és hasonló feladatokra a következő fejezet feladatai között láthatunk majd példákat.\n",
    "\n",
    "# Elem hozzáfűzése a listához\n",
    "\n",
    "Ha van egy már létező listánk, akkor azt nem csak úgy módosíthatjuk, hogy a meglévő elemeit lecseréljük, hanem új elemet is hozzá tudunk fűzni a lista végéhez. Így például az `['a', 'b']` listából a `'c'` érték hozzá fűzűse után az `['a', 'b', 'c']` lista lesz. Ennek a végrehajtásához egy függvényre van szükségünk, amit `append`-nek hívnak. Ez a függvény hívás kicsit másabb, mint az eddigiek, kicsit furcsább. Eddig a függvény paramétereit mindet a zárójelben soroltuk fel vesszővel elválasztva és azt mondtuk, hogy minden függvénynek meg van adva, hogy hány paramétere van. Az `append`-nek 2 paramétere van: a lista, amihez hozzá akarunk fűzni és az elem, amit hozzáfűzűnk. Az első paramétert viszont (a listát) nem a zárójelen belülre írjuk, hanem a függvény elé ponttal elválasztva:"
   ]
  },
  {
   "cell_type": "code",
   "execution_count": 9,
   "id": "2a43e239",
   "metadata": {},
   "outputs": [
    {
     "name": "stdout",
     "output_type": "stream",
     "text": [
      "['a', 'b']\n",
      "['a', 'b', 'c']\n"
     ]
    }
   ],
   "source": [
    "lista = ['a', 'b']\n",
    "\n",
    "print(lista)\n",
    "\n",
    "lista.append('c')\n",
    "\n",
    "print(lista)"
   ]
  },
  {
   "cell_type": "markdown",
   "id": "8c706370",
   "metadata": {},
   "source": [
    "Mivel a lista hossza változhat, ezért hasznos lehet, hogy lekérdezzük, hogy éppen aktuálisan hány elemet tartalmaz a listánk. Ezt szintén egy függvény segítségével tehetjük meg. Ezt a függvényt `len`-nek hívják, ami az angol \"length\" (hossz) szó rövidítése. Ez a függvény a szokásos módon működik. Egyetlen egy paramétere van: a lista, aminek a hosszára kíváncsiak vagyunk. A visszatérési értéke pedig egy egész szám, a lista hossza."
   ]
  },
  {
   "cell_type": "code",
   "execution_count": 10,
   "id": "1ca0c31c",
   "metadata": {},
   "outputs": [
    {
     "name": "stdout",
     "output_type": "stream",
     "text": [
      "2\n",
      "3\n"
     ]
    }
   ],
   "source": [
    "lista = ['a', 'b']\n",
    "\n",
    "print(len(lista))\n",
    "\n",
    "lista.append('c')\n",
    "\n",
    "print(len(lista))"
   ]
  },
  {
   "cell_type": "markdown",
   "id": "40ce4e1b",
   "metadata": {},
   "source": [
    "Mint ahogy az `int` függvény például, ez is egy számmal tér vissza, ami azt jelenti, hogy például el is tárolhatjuk egy változóban."
   ]
  },
  {
   "cell_type": "code",
   "execution_count": 11,
   "id": "2ea726b0",
   "metadata": {},
   "outputs": [
    {
     "name": "stdout",
     "output_type": "stream",
     "text": [
      "2\n",
      "2\n",
      "3\n"
     ]
    }
   ],
   "source": [
    "lista = ['a', 'b']\n",
    "\n",
    "hossz = len(lista)\n",
    "print(hossz)\n",
    "\n",
    "lista.append('c')\n",
    "\n",
    "print(hossz) # a listát megváltoztattam, de a hossz változót még nem\n",
    "\n",
    "hossz = len(lista)\n",
    "print(hossz)"
   ]
  },
  {
   "cell_type": "markdown",
   "id": "cb2ee6b7",
   "metadata": {},
   "source": [
    "# Üres lista\n",
    "\n",
    "Létrehozhatunk akár egy üres listát is, tehát egy olyan listát, ami nem tartalmaz elemeket (a hossza 0). Majd hozzáfűzhetünk az üres listához új elemeket, hogy ne legyen üres."
   ]
  },
  {
   "cell_type": "code",
   "execution_count": 13,
   "id": "60f25459",
   "metadata": {},
   "outputs": [
    {
     "name": "stdout",
     "output_type": "stream",
     "text": [
      "Lista hossza: 0\n",
      "[1]\n"
     ]
    }
   ],
   "source": [
    "üresLista = []\n",
    "\n",
    "print(\"Lista hossza:\", len(üresLista))\n",
    "\n",
    "üresLista.append(1)\n",
    "\n",
    "print(üresLista)"
   ]
  },
  {
   "cell_type": "markdown",
   "id": "e8cbadbf",
   "metadata": {},
   "source": [
    "Az `append` segítségével egyszerre csak egy elemet tudunk hozzáfűzni a listához. Tehát ha több elemet szeretnénk hozzáfűzni, akkor azt egyáms után egyessével kell megtennünk."
   ]
  },
  {
   "cell_type": "code",
   "execution_count": 15,
   "id": "c11d9999",
   "metadata": {},
   "outputs": [
    {
     "name": "stdout",
     "output_type": "stream",
     "text": [
      "Lista hossza: 0\n",
      "[1]\n",
      "[1, 0]\n",
      "[1, 0, 1]\n"
     ]
    }
   ],
   "source": [
    "üresLista = []\n",
    "\n",
    "print(\"Lista hossza:\", len(üresLista))\n",
    "\n",
    "üresLista.append(1)\n",
    "print(üresLista)\n",
    "\n",
    "üresLista.append(0)\n",
    "print(üresLista)\n",
    "\n",
    "üresLista.append(1)\n",
    "print(üresLista)"
   ]
  },
  {
   "cell_type": "markdown",
   "id": "bf7b03e2",
   "metadata": {},
   "source": [
    "# Listák összefűzése\n",
    "\n",
    "A szövegekhez hasonlóan a listákat is összefűzhetjük."
   ]
  },
  {
   "cell_type": "code",
   "execution_count": 17,
   "id": "2ac9cc4b",
   "metadata": {},
   "outputs": [
    {
     "name": "stdout",
     "output_type": "stream",
     "text": [
      "[1, 2, 3, 5, 6]\n",
      "[5, 6, 1, 2, 3]\n"
     ]
    }
   ],
   "source": [
    "lista1 = [1,2,3]\n",
    "lista2 = [5,6]\n",
    "\n",
    "újLista1 = lista1 + lista2\n",
    "újLista2 = lista2 + lista1\n",
    "\n",
    "print(újLista1)\n",
    "print(újLista2)"
   ]
  },
  {
   "cell_type": "markdown",
   "id": "504ca13f",
   "metadata": {},
   "source": [
    "# String (szöveg)\n",
    "\n",
    "A szövegekről már sok mindent tudunk, például hogy a `+` jel segítségével össze lehet őket fűzni, akár csak a listákat. De nem csak ebben hasonlítanak a listákhoz. A szövegeket is tudjuk indexelni. Ki tudjuk íratni csak az első betűjét. Viszont, amiben különböznek, hogy nem tudjuk megváltoztatni a szöveg elemeit az indexek segítségével."
   ]
  },
  {
   "cell_type": "code",
   "execution_count": 18,
   "id": "613fdf38",
   "metadata": {},
   "outputs": [
    {
     "name": "stdout",
     "output_type": "stream",
     "text": [
      "Alma\n",
      "A\n"
     ]
    }
   ],
   "source": [
    "szó = \"Alma\"\n",
    "\n",
    "print(szó)\n",
    "print(szó[0])"
   ]
  },
  {
   "cell_type": "code",
   "execution_count": 20,
   "id": "a16b4343",
   "metadata": {},
   "outputs": [
    {
     "ename": "TypeError",
     "evalue": "'str' object does not support item assignment",
     "output_type": "error",
     "traceback": [
      "\u001b[0;31m---------------------------------------------------------------------------\u001b[0m",
      "\u001b[0;31mTypeError\u001b[0m                                 Traceback (most recent call last)",
      "Cell \u001b[0;32mIn [20], line 1\u001b[0m\n\u001b[0;32m----> 1\u001b[0m \u001b[43mszó\u001b[49m\u001b[43m[\u001b[49m\u001b[38;5;241;43m0\u001b[39;49m\u001b[43m]\u001b[49m \u001b[38;5;241m=\u001b[39m \u001b[38;5;124m\"\u001b[39m\u001b[38;5;124ma\u001b[39m\u001b[38;5;124m\"\u001b[39m\n",
      "\u001b[0;31mTypeError\u001b[0m: 'str' object does not support item assignment"
     ]
    }
   ],
   "source": [
    "szó[0] = \"a\" # nem változtathatjuk meg a szöveg elemeit"
   ]
  },
  {
   "cell_type": "code",
   "execution_count": 22,
   "id": "555f5255",
   "metadata": {},
   "outputs": [
    {
     "name": "stdout",
     "output_type": "stream",
     "text": [
      "alma\n"
     ]
    }
   ],
   "source": [
    "# a változó értékét lecserélhetjük egy új szövegre, de csak egy betűjét (elemét) nem tudjuk megváltoztatni\n",
    "szó = \"alma\" \n",
    "\n",
    "print(szó)"
   ]
  },
  {
   "cell_type": "markdown",
   "id": "81abbc09",
   "metadata": {},
   "source": [
    "# Visszafelé indexelés\n",
    "\n",
    "Gyakran van, hogy egy listának az utolsó elemét szeretnénk elérni. Azt beszéltük, hogy a lista utolsó indexe könnyen kideríthatő, ha tudjuk a lista hosszát, mivel az utolsó index mindig a `lista hossza - 1`."
   ]
  },
  {
   "cell_type": "code",
   "execution_count": 23,
   "id": "4785669f",
   "metadata": {},
   "outputs": [
    {
     "name": "stdout",
     "output_type": "stream",
     "text": [
      "d\n"
     ]
    }
   ],
   "source": [
    "lista = ['a', 'b', 'c', 'd']\n",
    "\n",
    "hossz = len(lista)\n",
    "\n",
    "print(lista[hossz-1])"
   ]
  },
  {
   "cell_type": "markdown",
   "id": "c247b3cd",
   "metadata": {},
   "source": [
    "De ennél egy sokkal egyszerűbb módszer is van Pythonban. Ezek a negatív indexek. Néztük, hogy ha indexnek egy túl nagy számot írunk be, akkor hibát kapunk. Mi történik ha például `-1`-et írunk be indexnek?"
   ]
  },
  {
   "cell_type": "code",
   "execution_count": 24,
   "id": "4df5c507",
   "metadata": {},
   "outputs": [
    {
     "name": "stdout",
     "output_type": "stream",
     "text": [
      "d\n"
     ]
    }
   ],
   "source": [
    "lista = ['a', 'b', 'c', 'd']\n",
    "\n",
    "print(lista[-1])"
   ]
  },
  {
   "cell_type": "markdown",
   "id": "250c94de",
   "metadata": {},
   "source": [
    "Úgy tűnik erre nem kaptunk hibát. Sőt kiírta a `'d'` betűt. Mi történik ha `-2`-t adunk meg?"
   ]
  },
  {
   "cell_type": "code",
   "execution_count": 25,
   "id": "8ee612be",
   "metadata": {},
   "outputs": [
    {
     "name": "stdout",
     "output_type": "stream",
     "text": [
      "c\n"
     ]
    }
   ],
   "source": [
    "lista = ['a', 'b', 'c', 'd']\n",
    "\n",
    "print(lista[-2])"
   ]
  },
  {
   "cell_type": "markdown",
   "id": "56ddbe2b",
   "metadata": {},
   "source": [
    "Azt vehetjük észre, hogy a mínusz számokkal hátulról tudjuk indexelni a listát -1-től kezdve. Túl kicsi mínusz számot megadva ugyanaz történik, mint ha túl nagyot adnánk meg:"
   ]
  },
  {
   "cell_type": "code",
   "execution_count": 26,
   "id": "de29bd49",
   "metadata": {},
   "outputs": [
    {
     "name": "stdout",
     "output_type": "stream",
     "text": [
      "d\n",
      "c\n",
      "b\n",
      "a\n"
     ]
    },
    {
     "ename": "IndexError",
     "evalue": "list index out of range",
     "output_type": "error",
     "traceback": [
      "\u001b[0;31m---------------------------------------------------------------------------\u001b[0m",
      "\u001b[0;31mIndexError\u001b[0m                                Traceback (most recent call last)",
      "Cell \u001b[0;32mIn [26], line 7\u001b[0m\n\u001b[1;32m      5\u001b[0m \u001b[38;5;28mprint\u001b[39m(lista[\u001b[38;5;241m-\u001b[39m\u001b[38;5;241m3\u001b[39m])\n\u001b[1;32m      6\u001b[0m \u001b[38;5;28mprint\u001b[39m(lista[\u001b[38;5;241m-\u001b[39m\u001b[38;5;241m4\u001b[39m])\n\u001b[0;32m----> 7\u001b[0m \u001b[38;5;28mprint\u001b[39m(\u001b[43mlista\u001b[49m\u001b[43m[\u001b[49m\u001b[38;5;241;43m-\u001b[39;49m\u001b[38;5;241;43m5\u001b[39;49m\u001b[43m]\u001b[49m)\n",
      "\u001b[0;31mIndexError\u001b[0m: list index out of range"
     ]
    }
   ],
   "source": [
    "lista = ['a', 'b', 'c', 'd']\n",
    "\n",
    "print(lista[-1])\n",
    "print(lista[-2])\n",
    "print(lista[-3])\n",
    "print(lista[-4])\n",
    "print(lista[-5])"
   ]
  },
  {
   "cell_type": "markdown",
   "id": "61a92bbe",
   "metadata": {},
   "source": [
    "Amit fontos megjegyezni, hogy a `-1`. indexxel a lista utolsó elemét érhetjük el."
   ]
  }
 ],
 "metadata": {
  "kernelspec": {
   "display_name": "Python 3 (ipykernel)",
   "language": "python",
   "name": "python3"
  },
  "language_info": {
   "codemirror_mode": {
    "name": "ipython",
    "version": 3
   },
   "file_extension": ".py",
   "mimetype": "text/x-python",
   "name": "python",
   "nbconvert_exporter": "python",
   "pygments_lexer": "ipython3",
   "version": "3.8.10"
  }
 },
 "nbformat": 4,
 "nbformat_minor": 5
}
