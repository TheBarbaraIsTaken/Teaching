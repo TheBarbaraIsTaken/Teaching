{
 "cells": [
  {
   "cell_type": "markdown",
   "id": "e0dd73ed",
   "metadata": {},
   "source": [
    "# Logikai típus (bool)\n",
    "\n",
    "Eddig megismertük az egész számok (`int`), a lebegőpontos számok (`float`) és a szövegek (`str`) típusát. Ezeken kívül még van egy nagyon fontos típus. Ez a logikai azaz `bool` típus. \n",
    "\n",
    "Amíg az egész számot tartalmazó változók végtelen sok értéket vehetnek fel (például `-1`, `0`, `1` stb.) addig a logikai értékekből csak kettő van: `True` (igaz) és `False` (hamis).\n",
    "\n",
    "Logikai eredményeket általában összehasonlításoknál szoktunk kapni. Például a `2 < 3` kifejezés eredménye `True` hiszen az állítás igaz. Az általános összehasonlításokat használjuk programozás során is."
   ]
  },
  {
   "cell_type": "code",
   "execution_count": 1,
   "id": "9c1e4ba0",
   "metadata": {},
   "outputs": [
    {
     "name": "stdout",
     "output_type": "stream",
     "text": [
      "True\n",
      "True\n",
      "True\n",
      "True\n",
      "True\n",
      "True\n"
     ]
    }
   ],
   "source": [
    "print(2 < 3) # 2 kisebb, mint 3\n",
    "print(5 > 1) # 5 nagyobb, mint 1\n",
    "print(3 <= 3) # 3 kisebb vagy egyenlő, mint 3\n",
    "print(5 >= 2) # 5 nagyobb vagy egyenlő, mint 2\n",
    "print(2 == 2) # 2 egyenlő 2-vel\n",
    "print(8 != 3) # 8 nem egyenlő 3-mal"
   ]
  },
  {
   "cell_type": "markdown",
   "id": "32e477e0",
   "metadata": {},
   "source": [
    ">Figyelem:\n",
    "* Az egyenlőség vizsgálat során 2 darab egyenlőség jelet kell rakni egymás mellé, az egy darab egyenlőség jel az érték adás jele!\n",
    "* Az egyenlőség tagadása, tehát a nem egyenlő jele !="
   ]
  },
  {
   "cell_type": "markdown",
   "id": "5014d690",
   "metadata": {},
   "source": [
    "# Logikai műveletek"
   ]
  },
  {
   "cell_type": "markdown",
   "id": "c6f53d71",
   "metadata": {},
   "source": [
    "A logikai értékekkel is szoktunk műveleteket végezni, csak kicsit más féléket, mint például a számokkal. Ezeket nem szoktuk összeadni például. Programozás során 3 féle logikai művelet van értelmezve: és `and`, vagy (megengedő) `or`, tagadás `not`. Ezeknek a használatai a matematikában alkalmazott logikával azonos. A következő táblázatok összefoglalják, hogy az `A` és `B` kifejezések értékétől függően hogyan változik az `A and B`, `A or B`, illetve a `not A` értéke.\n",
    "\n",
    "|A    |not A|\n",
    "|-----|-----|\n",
    "|True |False|\n",
    "|False|True |\n",
    "\n",
    "Ez azt jelenti, hogy ha `A` igaz, akkor a tagadása hamis, ha pedig hamis, akkor a tagadása igaz.\n",
    "\n",
    "|A    |B    |A and B|\n",
    "|-----|-----|-------|\n",
    "|True |True |True   |\n",
    "|True |False|False  |\n",
    "|False|True |False  |\n",
    "|False|False|False  |\n",
    "\n",
    "Tehát `A` és `B` pontosan akkor igaz, ha mind a kettő igaz.\n",
    "\n",
    "|A    |B    |A or B|\n",
    "|-----|-----|------|\n",
    "|True |True |True  |\n",
    "|True |False|True  |\n",
    "|False|True |True  |\n",
    "|False|False|False |\n",
    "\n",
    "Ebben az esetben `A` vagy `B` csak akkor lesz hamis ha mind a kettő hamis. Azaz, ha almát vagy körtét kérek, akkor akkor is boldog vagyok ha egy almát kapok, ha egy körtét vagy ha mind a kettőt.\n",
    "\n",
    "Ugyanez pythonban leírva:"
   ]
  },
  {
   "cell_type": "code",
   "execution_count": 12,
   "id": "792274a9",
   "metadata": {},
   "outputs": [
    {
     "name": "stdout",
     "output_type": "stream",
     "text": [
      "x\tnot x\n",
      "--------------\n",
      "True\tFalse\n",
      "False\tTrue\n",
      "\n",
      "\n",
      "x\ty\tx and y\n",
      "------------------------\n",
      "True\tTrue\tTrue\n",
      "True\tFalse\tFalse\n",
      "False\tTrue\tFalse\n",
      "False\tFalse\tFalse\n",
      "\n",
      "\n",
      "x\ty\tx or y\n",
      "-----------------------\n",
      "True\tTrue\tTrue\n",
      "True\tFalse\tTrue\n",
      "False\tTrue\tTrue\n",
      "False\tFalse\tFalse\n"
     ]
    }
   ],
   "source": [
    "# Tagadás\n",
    "\n",
    "print(\"x\\tnot x\") # a \\t a tabulátor jele\n",
    "print(\"--------------\")\n",
    "\n",
    "x = True\n",
    "print(x, not x, sep='\\t') # a print-ben beállíthatjuk, hogy a space helyett valami más legyen az elválasztó: sep='\\t'\n",
    "\n",
    "x = False\n",
    "print(x, not x, sep='\\t')\n",
    "\n",
    "print('\\n') # a \\n sortörés (új sor) jele\n",
    "\n",
    "\n",
    "# És\n",
    "\n",
    "print('x\\ty\\tx and y')\n",
    "print('------------------------')\n",
    "\n",
    "x = True\n",
    "y = True\n",
    "print(x, y, x and y, sep='\\t')\n",
    "\n",
    "x = True\n",
    "y = False\n",
    "print(x, y, x and y, sep='\\t')\n",
    "\n",
    "x = False\n",
    "y = True\n",
    "print(x, y, x and y, sep='\\t')\n",
    "\n",
    "x = False\n",
    "y = False\n",
    "print(x, y, x and y, sep='\\t')\n",
    "\n",
    "print('\\n')\n",
    "\n",
    "# És\n",
    "\n",
    "print('x\\ty\\tx or y')\n",
    "print('-----------------------')\n",
    "\n",
    "x = True\n",
    "y = True\n",
    "print(x, y, x or y, sep='\\t')\n",
    "\n",
    "x = True\n",
    "y = False\n",
    "print(x, y, x or y, sep='\\t')\n",
    "\n",
    "x = False\n",
    "y = True\n",
    "print(x, y, x or y, sep='\\t')\n",
    "\n",
    "x = False\n",
    "y = False\n",
    "print(x, y, x or y, sep='\\t')"
   ]
  },
  {
   "cell_type": "markdown",
   "id": "14c87acc",
   "metadata": {},
   "source": [
    "# Elágazások\n",
    "\n",
    "A gyakorlatban a logikai értékek nagyon hasznosak tudnak lenni, amikor össze akarjuk hasonlítani változók aktuális értékeit. Ugyanis a programozásban létezik 2 nagyon sokszor használt úgynevezett vezérlési struktúra, tehát olyan elem, ami megváltoztatja valamilyen formában a soroknak a sorrendjét a program futásakor.\n",
    "\n",
    "Az egyik az elágazások. Az elágazásoknál leellenőrizzük, hogy valamilyen feltétel igaz-e (teljesül a feltétel, mint hogy `x > 2`: x nagyobb-e mint 2) és az utána következő pár sor csak akkor fut le, ha a feltétel igaz volt."
   ]
  },
  {
   "cell_type": "code",
   "execution_count": 13,
   "id": "169f4b0c",
   "metadata": {},
   "outputs": [
    {
     "name": "stdout",
     "output_type": "stream",
     "text": [
      "Vége\n"
     ]
    }
   ],
   "source": [
    "x = 3\n",
    "\n",
    "if x > 4:\n",
    "    print(\"x nagyobb, mint 4\")\n",
    "    \n",
    "print(\"Vége\")"
   ]
  },
  {
   "cell_type": "markdown",
   "id": "dd4bb87d",
   "metadata": {},
   "source": [
    "Az elágazást először az `if` kulcsszóval vezetjük be. Közvetlenül utána írjuk a feltételt, amit **egy kettőspont követ**. Ezután azok a sorok, amelyek beljebb vannak kezdve az elágazáshoz tartoznak, tehát csak akkor futnak le, ha az `if` kulcsszó után írt feltétel igaznak bizonyult. Majd ha már nincsen beljebb kezdve a sor, onnantól kezdve  minden sor mindenképpen végrehajtódik egyesével fentről lefelé.\n",
    "\n",
    "A fenti példában, ezért nem íródott ki, hogy `\"x nagyobb, mint 4\"`, mert nem teljesült a feltétel, hogy `x > 4`.\n",
    "\n",
    "Használhatunk bonyolultabb feltételeket is, ha például azt szeretnénk ellenőrizni, hogy `x` beleesik-e egy bizonyos intervallumba (az intervallum egy szakasza a számegyenesnek): például a [0, 5] intervallumba (tehát abba a szakaszba, aminek az eleje a 0 a vége pedig az 5) pontosan akkor esik bele, ha $0\\leq x \\leq 5$ tehát `0<=x and x<=5`, mivel az a feltétel is teljesül, hogy `x` nagyobb vagy egyenlő, mint 0 **és** az is, hogy kisebb vagy egyenlő, mint 5. Számegyenesen a kettős vonallal jelzett rész:\n",
    "\n",
    "<pre>\n",
    "-------,---|===========|---,------------> [1]\n",
    "      -1   0           5   6\n",
    "</pre>\n",
    "\n",
    "De leírhatjuk azt is, hogy `x` pont hogy **nem** esik bele a [0,5] intervallumba. Ez akkor lehetséges, ha `x<0 or x>5`. A számegyenesen ez ezt a részt jelenti:\n",
    "\n",
    "<pre>\n",
    "=======,===|-----------|===,============> [2]\n",
    "      -1   0           5   6\n",
    "</pre>\n",
    "\n"
   ]
  },
  {
   "cell_type": "code",
   "execution_count": 14,
   "id": "05dc72d9",
   "metadata": {},
   "outputs": [
    {
     "name": "stdout",
     "output_type": "stream",
     "text": [
      "Adjon meg egy számot: 3\n",
      "A megadott szám beleesik a [0,5] intervallumba:\n",
      "-------,---|===========|---,------------>\n",
      "      -1   0           5   6\n"
     ]
    }
   ],
   "source": [
    "# [1]: \"ha x beleesik a [0, 5] intervallumba.\"\n",
    "\n",
    "x = int(input(\"Adjon meg egy számot: \"))\n",
    "\n",
    "if 0<=x and x<=5:\n",
    "    print(\"A megadott szám beleesik a [0,5] intervallumba:\")\n",
    "    print(\"-------,---|===========|---,------------>\")\n",
    "    print(\"      -1   0           5   6\")"
   ]
  },
  {
   "cell_type": "code",
   "execution_count": 15,
   "id": "069fb27a",
   "metadata": {},
   "outputs": [
    {
     "name": "stdout",
     "output_type": "stream",
     "text": [
      "Adjon meg egy számot: 6\n",
      "A megadott szám NEM esik bele a [0,5] intervallumba:\n",
      "=======,===|-----------|===,============>\n",
      "      -1   0           5   6\n"
     ]
    }
   ],
   "source": [
    "# [2]: \"ha x NEM esik bele a [0, 5] intervallumba.\"\n",
    "\n",
    "x = int(input(\"Adjon meg egy számot: \"))\n",
    "\n",
    "if x<0 or x>5:\n",
    "    print(\"A megadott szám NEM esik bele a [0,5] intervallumba:\")\n",
    "    print(\"=======,===|-----------|===,============>\")\n",
    "    print(\"      -1   0           5   6\")"
   ]
  },
  {
   "cell_type": "markdown",
   "id": "8232d70e",
   "metadata": {},
   "source": [
    "## elif, else\n",
    "\n",
    "Az elágazások azért is nagyszerűek, mert nem csak egy ágat adhatunk meg. Ez azt jelenti, hogy megadhatunk további feltételeket is, ha egyik felette lévő sem teljesült, akkor mi történjen.\n",
    "\n",
    "Az első ágat mindig `if`-el vezetjük be, az újabbakat utána **egy elágazáson belül** pedig az `elif` kulcsszóval. Ha egy `if`-hez ér a program, akkor az egy új elágazás, azt mindig leellenőrzi. Az `elif`-eknél ezzelszemben csak akkor nézi meg, ha azon az elágazáson belül a felette lévő ágak (`if` és `elif`-ek) közül egyik sem teljesült addig. Ha egy `if` vagy `elif` feltétel igaz, akkor a benne lévő blokk (a beljebb húzott rész) lefut, majd az elágazás aljára ugrik meg se nézve a többi feltételt."
   ]
  },
  {
   "cell_type": "code",
   "execution_count": 16,
   "id": "5549b7c3",
   "metadata": {},
   "outputs": [
    {
     "name": "stdout",
     "output_type": "stream",
     "text": [
      "Adjon meg egy számot: 3\n",
      "X értéke pozitív\n"
     ]
    }
   ],
   "source": [
    "x = int(input(\"Adjon meg egy számot: \"))\n",
    "\n",
    "if x == 0:\n",
    "    print(\"X értéke 0\")\n",
    "elif x > 0:\n",
    "    print(\"X értéke pozitív\")\n",
    "elif x < 0:\n",
    "    print(\"X értéke negatív\")"
   ]
  },
  {
   "cell_type": "markdown",
   "id": "0c9f853c",
   "metadata": {},
   "source": [
    "`elif` ágakból bármennyi lehet, de az első ágnak mindig `if`-nek kell lennie egy elágazáson belül. Ezen kívül az utolsó ágnak megadható egy `else` ág. Az `else` ágnál nem írunk semmilyen feltételt, csupán annyit, hogy `else:`. Ennek a jelentése az hogy \"máskülönben\". Tehát, ha felette egyik ág feltétele sem volt igaz az elágazásban, akkor az `else` ág fog lefutni és ebben az esetben mindig lefut, nincsen feltétel. Az előző példát tehát akár a következő módon is írhatjuk, mivel ha `x` nem nulla és nem nagyobb, mint 0, akkor csak kisebb lehet. Emiatt az utolsó ágat lecserélhetjük, arra hogy \"máskülönben\"."
   ]
  },
  {
   "cell_type": "code",
   "execution_count": 17,
   "id": "e134aaf8",
   "metadata": {},
   "outputs": [
    {
     "name": "stdout",
     "output_type": "stream",
     "text": [
      "Adjon meg egy számot: -1\n",
      "X értéke negatív\n"
     ]
    }
   ],
   "source": [
    "x = int(input(\"Adjon meg egy számot: \"))\n",
    "\n",
    "if x == 0:\n",
    "    print(\"X értéke 0\")\n",
    "elif x > 0:\n",
    "    print(\"X értéke pozitív\")\n",
    "else:\n",
    "    print(\"X értéke negatív\")"
   ]
  },
  {
   "cell_type": "markdown",
   "id": "65c428d8",
   "metadata": {},
   "source": [
    ">Fontos:\n",
    "* `if` és `else` ágakból csak egy lehet egy elágazásban: az `if` a legelején, `else` a legvégén.\n",
    "* `elif` és `else` ágakat nem kötelező írni, de `if`-et igen.\n",
    "* Egy álagazásban csak az `if`, `elif` és `else` kezdetű sorok kezdődhetnek a sor elején, a többinek egy bekezdéssel beljebb kell lennie. Ha a sor elejére kezdünk el utasítást írni az az elágazás végét jelenti!"
   ]
  },
  {
   "cell_type": "markdown",
   "id": "beb5fc94",
   "metadata": {},
   "source": [
    "Ha `elif` helyett mindenhova `if`-et írok, akkor az nem feltétlenül jelenti ugyanazt. Mivel az `if`-eket minden esetben leellenőrzi, de az `elif`-eket csak akkor, ha a felette lévőek nem teljesültek. Tehát egy `elif` esetében tudjuk, hogy csak akkor ér oda, ha a felette lévő ágak hamisak:"
   ]
  },
  {
   "cell_type": "code",
   "execution_count": 22,
   "id": "22dcda71",
   "metadata": {},
   "outputs": [
    {
     "name": "stdout",
     "output_type": "stream",
     "text": [
      "Adjon meg egy számot: 11\n",
      "X nagyobb, mint 10\n",
      "Elágazás vége\n"
     ]
    }
   ],
   "source": [
    "x = int(input(\"Adjon meg egy számot: \"))\n",
    "\n",
    "if x > 10:\n",
    "    print(\"X nagyobb, mint 10\")\n",
    "elif x > 5:\n",
    "    # Azért tudjuk, hogy nem nagyobb mint 10, mert akkor az if feltétele teljesül, tehát az elif már nem fut le\n",
    "    print(\"X nagyobb, mint 5, de nem nagyobb, mint 10.\")\n",
    "else:\n",
    "    print(\"X kisebb, mint 5.\")\n",
    "\n",
    "print(\"Elágazás vége\")"
   ]
  },
  {
   "cell_type": "code",
   "execution_count": 23,
   "id": "d647b2ee",
   "metadata": {},
   "outputs": [
    {
     "name": "stdout",
     "output_type": "stream",
     "text": [
      "Adjon meg egy számot: 11\n",
      "X nagyobb, mint 10\n",
      "X nagyobb, mint 5.\n",
      "Elágazás vége\n"
     ]
    }
   ],
   "source": [
    "x = int(input(\"Adjon meg egy számot: \"))\n",
    "\n",
    "if x > 10:\n",
    "    print(\"X nagyobb, mint 10\")\n",
    "if x > 5:\n",
    "    # itt nem tudhatom, hogy x kisebb-e, mint 10\n",
    "    print(\"X nagyobb, mint 5.\")\n",
    "else:\n",
    "    print(\"X kisebb, mint 5.\")\n",
    "\n",
    "print(\"Elágazás vége\")"
   ]
  },
  {
   "cell_type": "markdown",
   "id": "c5aa792f",
   "metadata": {},
   "source": [
    "# Elágazások egymásba ágyazása\n",
    "\n",
    "Egy ágnak a blokkjába (mint például a `print(\"X kisebb, mint 5.\")` sor az előző példából) nem csak egy utasítást tehetünk. Hanem akár többet is, lényegében akármilyet. Arra kell figyelni, hogy ne elágazáson belül hozzunk létre új változót, vagy legalábbis minden ágban hozzuk akkor létre. Különben később hibát kaphatunk ha arra a változóra szeretnénk hivatkozni:"
   ]
  },
  {
   "cell_type": "code",
   "execution_count": 24,
   "id": "3031ec79",
   "metadata": {},
   "outputs": [
    {
     "name": "stdout",
     "output_type": "stream",
     "text": [
      "Adjon meg egy számot: 1\n"
     ]
    },
    {
     "ename": "NameError",
     "evalue": "name 'z' is not defined",
     "output_type": "error",
     "traceback": [
      "\u001b[0;31m---------------------------------------------------------------------------\u001b[0m",
      "\u001b[0;31mNameError\u001b[0m                                 Traceback (most recent call last)",
      "Cell \u001b[0;32mIn [24], line 10\u001b[0m\n\u001b[1;32m      7\u001b[0m \u001b[38;5;28;01melse\u001b[39;00m:\n\u001b[1;32m      8\u001b[0m     z \u001b[38;5;241m=\u001b[39m \u001b[38;5;241m3\u001b[39m\n\u001b[0;32m---> 10\u001b[0m \u001b[38;5;28mprint\u001b[39m(x\u001b[38;5;241m+\u001b[39my\u001b[38;5;241m+\u001b[39m\u001b[43mz\u001b[49m)\n",
      "\u001b[0;31mNameError\u001b[0m: name 'z' is not defined"
     ]
    }
   ],
   "source": [
    "x = int(input(\"Adjon meg egy számot: \"))\n",
    "\n",
    "if x == 0:\n",
    "    y = 5\n",
    "elif x == 1:\n",
    "    y = 2\n",
    "else:\n",
    "    z = 3\n",
    "\n",
    "print(x+y+z)"
   ]
  },
  {
   "cell_type": "markdown",
   "id": "9e075666",
   "metadata": {},
   "source": [
    "Helyette előre értéket adunk a változóknak és a különböző ágakban felülírhatjuk azokat az értékeket, így már semmilyen bemenet esetén nem fogunk hibát kapni"
   ]
  },
  {
   "cell_type": "code",
   "execution_count": 26,
   "id": "d39f68bd",
   "metadata": {},
   "outputs": [
    {
     "name": "stdout",
     "output_type": "stream",
     "text": [
      "Adjon meg egy számot: 0\n",
      "X egyenlő 0\n",
      "5\n"
     ]
    }
   ],
   "source": [
    "x = int(input(\"Adjon meg egy számot: \"))\n",
    "y = 0\n",
    "z = 0\n",
    "\n",
    "if x == 0:\n",
    "    print(\"X egyenlő 0\")\n",
    "    y = 5\n",
    "elif x == 1:\n",
    "    y = 2\n",
    "else:\n",
    "    z = 3\n",
    "\n",
    "print(x+y+z)"
   ]
  },
  {
   "cell_type": "markdown",
   "id": "02af83d5",
   "metadata": {},
   "source": [
    "Sőt még ennél is összetetteb dolgokat is írhatunk egy ágon belül. Egy elágazáshoz tartozó részek egyforma bekezdési szinten helyezkednek el és nincsen közöttük más. A következő példát érdemes több bemenetre lefuttatni és megvizsgálni, hogy mikor, mit ír ki:"
   ]
  },
  {
   "cell_type": "code",
   "execution_count": 27,
   "id": "c0eff333",
   "metadata": {},
   "outputs": [
    {
     "name": "stdout",
     "output_type": "stream",
     "text": [
      "Adjon meg egy számot: 4\n",
      "X négy.\n"
     ]
    }
   ],
   "source": [
    "x = int(input(\"Adjon meg egy számot: \"))\n",
    "\n",
    "if x == 0:\n",
    "    print(\"X nulla.\")\n",
    "elif x > 3:\n",
    "    if x > 10:\n",
    "        print(\"X nagyobb, mint 10.\")\n",
    "    elif x > 5:\n",
    "        print(\"X nagyobb, mint 5, de kisebb, mint 10.\")\n",
    "    else:\n",
    "        if x == 5:\n",
    "            print(\"X öt.\")\n",
    "        elif True:\n",
    "            print(\"X négy.\")\n",
    "elif x > 6:\n",
    "    print(\"Ide sosem fog eljutni. Miért?\") # megoldás: azért, mert az x>3 biztosan igaz, ha x>6\n",
    "else:\n",
    "    print(\"X kisebb vagy egyenlő, mint 3 de nem egyenlő 0-val\")"
   ]
  }
 ],
 "metadata": {
  "kernelspec": {
   "display_name": "Python 3 (ipykernel)",
   "language": "python",
   "name": "python3"
  },
  "language_info": {
   "codemirror_mode": {
    "name": "ipython",
    "version": 3
   },
   "file_extension": ".py",
   "mimetype": "text/x-python",
   "name": "python",
   "nbconvert_exporter": "python",
   "pygments_lexer": "ipython3",
   "version": "3.8.10"
  }
 },
 "nbformat": 4,
 "nbformat_minor": 5
}
