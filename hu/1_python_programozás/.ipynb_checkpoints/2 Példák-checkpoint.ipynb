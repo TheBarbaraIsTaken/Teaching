{
 "cells": [
  {
   "cell_type": "markdown",
   "id": "994f9e58",
   "metadata": {},
   "source": [
    "# Tartalom jegyzék\n",
    "\n",
    "1. Kérjünk be egy nevet és életkort, majd írassunk ki egy szöveget a következő formában: \"Szia, `név` vagyok! Az életkorom: `kor`. Jövőre már `kor+1` éves leszek!\"\n",
    "2. Kérjük be egy téglalap két oldalának hosszát (`a`, `b`), majd írassuk ki a téglalap kerületét ($2*a + 2*b$) és területét ($a*b$)\n",
    "3. Kérjük be egy kör sugarát (`r`), majd írassuk ki a kerületét ($2*r*pi$) és területét ($r^2*pi$)\n",
    "4. Kérjünk be egy szót és egy számot. Írassuk ki egymás mellé szóközzel elválasztva a szót, annyiszor amelyik számot megadta a felhasználó.\n",
    "5. Kérjük be, hogy mennyi benzin van a tankban (l), mekkora utat kell megtenni (km) és hogy mekkora az autó fogyasztása (l/100km) majd kiírja, hogy hány tankolással tudja megtenni az utat."
   ]
  },
  {
   "cell_type": "markdown",
   "id": "84e4b620",
   "metadata": {},
   "source": [
    "# Megoldások\n",
    "\n",
    "## 1. Feladat - köszönés\n",
    "\n",
    "Kérjünk be egy nevet és életkort, majd írassunk ki egy szöveget a következő formában: \"Szia, név vagyok! Az életkorom: kor. Jövőre már kor+1 éves leszek!\"\n",
    "\n",
    "### I. Megoldás\n",
    "\n",
    "* Bekérjük a `nev`-et [1]\n",
    "* Mivel a `kor` egy szám, amihez hozzá kell majd adnunk egyet, így azt a bekérés után számmá alakítjuk [2]\n",
    "* A kiíratásnál a `nev`-et egyszerűen vesszővel elválasztva adjuk meg [3]\n",
    "* A `kor` kiírásánal közvetlenül utána egy pontot kell írni. A `print` függvény a vesszővel elválasztott paraméterek közé szóközt rak a kiíratásnál, ezért a `kor`-t átalakítjuk szöveggé, hogy szóköz nélkül össze tudjuk fűzni a ponttal. [4]\n",
    "* Itt egyszerűen vesszővel elválasztott paraméterként megadhatjuk a `kor + 1`-et, mivel előtte és utána is szóköz van. [5]\n",
    "\n",
    "A megoldás során 3 `print` függvényt használok először, hogy kommentekben tudjam jelezni mikor mi történt."
   ]
  },
  {
   "cell_type": "code",
   "execution_count": 3,
   "id": "a4f59008",
   "metadata": {},
   "outputs": [
    {
     "name": "stdout",
     "output_type": "stream",
     "text": [
      "Add meg a nevet: Barbara\n",
      "Add meg az eletkort: 22\n",
      "Szia, Barbara vagyok!\n",
      "Az életkorom: 22.\n",
      "Jövőre már 23 éves leszek!\n"
     ]
    }
   ],
   "source": [
    "nev = input(\"Add meg a nevet: \") # [1]\n",
    "kor = int(input(\"Add meg az eletkort: \")) # [2]\n",
    "\n",
    "print(\"Szia,\", nev, \"vagyok!\") # [3]\n",
    "print(\"Az életkorom:\",str(kor) + \".\") # [4]\n",
    "print(\"Jövőre már\", kor+1, \"éves leszek!\") # [5]"
   ]
  },
  {
   "cell_type": "markdown",
   "id": "b7b080a7",
   "metadata": {},
   "source": [
    "### II. Megoldás"
   ]
  },
  {
   "cell_type": "code",
   "execution_count": 4,
   "id": "cad693f8",
   "metadata": {},
   "outputs": [
    {
     "name": "stdout",
     "output_type": "stream",
     "text": [
      "Add meg a nevet: Barbara\n",
      "Add meg az eletkort: 22\n",
      "Szia, Barbara vagyok! Az életkorom: 22. Jövőre már 23 éves leszek!\n"
     ]
    }
   ],
   "source": [
    "nev = input(\"Add meg a nevet: \") # [1]\n",
    "kor = int(input(\"Add meg az eletkort: \")) # [2]\n",
    "\n",
    "print(\"Szia,\", nev, \"vagyok! Az életkorom:\", str(kor) + \". Jövőre már\", kor+1, \"éves leszek!\") # [3-5]"
   ]
  },
  {
   "cell_type": "markdown",
   "id": "660e5c7d",
   "metadata": {},
   "source": [
    "## 2. Feladat - téglalap\n",
    "\n",
    "Kérjük be egy téglalap két oldalának hosszát (a, b), majd írassuk ki a téglalap kerületét ($2a + 2b$) és területét ($a*b$)\n",
    "\n",
    "### Megoldás\n",
    "\n",
    "* Bekérjük a két oldalt és rögtön át is alakítjuk számokká, hiszen később így lesz rá szükségünk [1]\n",
    "* A kiíratásnál figyeljünk, hogy a számolásoknál ki kell írnunk a szorzásjelet! [2]"
   ]
  },
  {
   "cell_type": "code",
   "execution_count": 5,
   "id": "17aa26d2",
   "metadata": {},
   "outputs": [
    {
     "name": "stdout",
     "output_type": "stream",
     "text": [
      "Adja meg a téglalap egyik oldalának hosszát: 6\n",
      "Adja meg a téglalap másik oldalának hosszát: 2\n",
      "A téglalap kerülete: 16.\n",
      "A téglalap területe: 12.\n"
     ]
    }
   ],
   "source": [
    "a = int(input(\"Adja meg a téglalap egyik oldalának hosszát: \")) # [1]\n",
    "b = int(input(\"Adja meg a téglalap másik oldalának hosszát: \")) # [1]\n",
    "\n",
    "print(\"A téglalap kerülete:\", str(2*a+2*b) + \".\") # [2]\n",
    "print(\"A téglalap területe:\", str(a*b) + \".\") # [2]"
   ]
  },
  {
   "cell_type": "markdown",
   "id": "bff095da",
   "metadata": {},
   "source": [
    "## 3. Feladat - kör\n",
    "\n",
    "Kérjük be egy kör sugarát (`r`), majd írassuk ki a kerületét ($2*r*pi$) és területét ($r^2*pi$)\n",
    "\n",
    "### Megoldás\n",
    "\n",
    "* Ezúttal figyelünk rá, hogy a kör sugara nem csak egész szám lehet, hanem tört is"
   ]
  },
  {
   "cell_type": "code",
   "execution_count": 6,
   "id": "7a8d066d",
   "metadata": {},
   "outputs": [
    {
     "name": "stdout",
     "output_type": "stream",
     "text": [
      "Adja meg a kör sugarát: 5.5\n",
      "A kör kerülete: 34.54.\n",
      "A kör területe: 94.985.\n"
     ]
    }
   ],
   "source": [
    "r = float(input(\"Adja meg a kör sugarát: \"))\n",
    "\n",
    "print(\"A kör kerülete:\", str(2*r*3.14) + \".\")\n",
    "print(\"A kör területe:\", str(r**2 * 3.14) + \".\")"
   ]
  },
  {
   "cell_type": "markdown",
   "id": "e0b1a9fa",
   "metadata": {},
   "source": [
    "## 4. Feladat - ismétlés\n",
    "\n",
    "Kérjünk be egy szót és egy számot. Írassuk ki egymás mellé szóközzel elválasztva a szót, annyiszor amelyik számot megadta a felhasználó.\n",
    "\n",
    "* A szóra szöveg, a számra egész szám formában lesz szükségünk.\n",
    "* Az ismétlést szorzással hajtjuk végre\n",
    "* Figyeljünk, hogy szóközzel kell elválasztani az ismétléseket, ezért az eredeti szóhoz hozzáfüzünk `+` jel segítségével egy szóközt is. A műveleti sorrend miatt ezt zárójelbe kell tennünk.\n",
    "\n",
    "Megjegyzés: az utolsó szó után is szóköz fog kerülni. Ezt egyenlőre nem tudjuk másképpen megoldani."
   ]
  },
  {
   "cell_type": "code",
   "execution_count": 7,
   "id": "f2630547",
   "metadata": {},
   "outputs": [
    {
     "name": "stdout",
     "output_type": "stream",
     "text": [
      "Adjon meg egy szót: alma\n",
      "Adja meg az ismétlések számát: 5\n",
      "alma alma alma alma alma \n"
     ]
    }
   ],
   "source": [
    "szó = input(\"Adjon meg egy szót: \")\n",
    "szám = int(input(\"Adja meg az ismétlések számát: \"))\n",
    "elválasztó = \" \"\n",
    "\n",
    "print((szó + elválasztó) * szám)"
   ]
  },
  {
   "cell_type": "markdown",
   "id": "0ebdc9b9",
   "metadata": {},
   "source": [
    "## 5. Feladat - tankolás\n",
    "\n",
    "Kérjük be, hogy mekkora a tank mérete, mekkora utat kell megtenni (km) és hogy mekkora az autó fogyasztása (l/100km) majd kiírja, hogy hány tankolással tudja megtenni az utat.\n",
    "\n",
    "### Megoldás\n",
    "\n",
    "* Bekérjük az adatokat\n",
    "* Kiszámoljuk, hogy egy kilométeren hány liter benzint fogyaszt az autó [2]\n",
    "* Az előző érték segítségével kiszámoljuk, hogy az út megtételéhez hány liter benzin kell összesen [3]\n",
    "* A tank méretével elosztva a szükséges benzin mennyiséget megkapjuk, hogy hányszor kell teletöltenünk a tankot. [4]\n",
    "\n",
    "Megjegyzés: A pontos értékhez felfelé kellene kerekíteni a számot, erre később nézünk majd meg módszereket."
   ]
  },
  {
   "cell_type": "code",
   "execution_count": 8,
   "id": "09244948",
   "metadata": {},
   "outputs": [
    {
     "name": "stdout",
     "output_type": "stream",
     "text": [
      "Adja meg, hogy mennyi benzin fér a tankban (l): 10\n",
      "Adja meg az utat (km): 100\n",
      "Adja meg a fogyasztást (l/100km): 8\n",
      "0.8 alkalommal kell tankolni az út során.\n"
     ]
    }
   ],
   "source": [
    "tank = float(input(\"Adja meg, hogy mennyi benzin fér a tankban (l): \"))\n",
    "út = float(input(\"Adja meg az utat (km): \"))\n",
    "fogyasztás = float(input(\"Adja meg a fogyasztást (l/100km): \"))\n",
    "\n",
    "fogyasztás_1 = fogyasztás/100 # [2]\n",
    "kell = fogyasztás_1*út # [3]\n",
    "\n",
    "print(kell/tank, \"alkalommal kell tankolni az út során.\") # [4]"
   ]
  },
  {
   "cell_type": "code",
   "execution_count": null,
   "id": "3fe57297",
   "metadata": {},
   "outputs": [],
   "source": []
  }
 ],
 "metadata": {
  "kernelspec": {
   "display_name": "Python 3 (ipykernel)",
   "language": "python",
   "name": "python3"
  },
  "language_info": {
   "codemirror_mode": {
    "name": "ipython",
    "version": 3
   },
   "file_extension": ".py",
   "mimetype": "text/x-python",
   "name": "python",
   "nbconvert_exporter": "python",
   "pygments_lexer": "ipython3",
   "version": "3.8.10"
  }
 },
 "nbformat": 4,
 "nbformat_minor": 5
}
