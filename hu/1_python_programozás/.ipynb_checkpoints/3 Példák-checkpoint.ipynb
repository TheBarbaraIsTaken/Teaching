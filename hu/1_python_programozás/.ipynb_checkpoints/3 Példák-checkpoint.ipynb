{
 "cells": [
  {
   "cell_type": "markdown",
   "id": "67970816",
   "metadata": {},
   "source": [
    "# Tartalom jegyzék\n",
    "1. Kérjünk be egy számot a felhasználótól, majd írassuk ki a szám abszolútértékét.\n",
    "2. Kérjünk be két számot és írassuk ki a hányadosukat. Figyeljünk rá, hogy nullával nem oszthatunk.\n",
    "3. Kérje be az egyenlet együtthatóit (a*x2 + b*x + c) a, b, c alakban, majd írja ki, hogy van-e valós gyöke az egyenletnek, ha van mennyi és mi(k) az(ok).\n",
    "\n",
    "# Megoldások\n",
    "\n",
    "## 1. Feladat - abszolútérték\n",
    "Kérjünk be egy számot a felhasználótól, majd írassuk ki a szám abszolútértékét.\n",
    "\n",
    "Egy szám abszolút értéke a 0-tól való távolságát jelenti, tehát\\\n",
    "$|0| = 0$\\\n",
    "$|3| = 3$\\\n",
    "$|-3| = 3$\n",
    "\n",
    "### Megoldás\n",
    "* A bekért számot egész számként tároljuk el [1]\n",
    "* **Ha** a szám pozitív vagy egyenlő 0-val, akkor a szám abszolút értéke egyenlő önmagával [2]\n",
    "* **Ha** a szám negatív, akkor az abszolút értéke a minusz egyszerese [3]"
   ]
  },
  {
   "cell_type": "code",
   "execution_count": 2,
   "id": "67846f31",
   "metadata": {},
   "outputs": [
    {
     "name": "stdout",
     "output_type": "stream",
     "text": [
      "Adjon meg egy számot: -3\n",
      "-3 abszolút értéke: 3\n"
     ]
    }
   ],
   "source": [
    "x = int(input(\"Adjon meg egy számot: \")) # [1]\n",
    "\n",
    "if x >= 0: # [2]\n",
    "    print(x, \"abszolút értéke:\", x)\n",
    "else: # [3]\n",
    "    print(x, \"abszolút értéke:\", -x)"
   ]
  },
  {
   "cell_type": "markdown",
   "id": "5f6a74d1",
   "metadata": {},
   "source": [
    "## 2. Feladat - osztás\n",
    "Kérjünk be két számot és írassuk ki a hányadosukat. Figyeljünk rá, hogy nullával nem oszthatunk\n",
    "\n",
    "### Megoldás\n",
    "* A bekért számokat egész számként tároljuk el [1]\n",
    "* **Ha** a második szám egyenlő nullával, akkor hibaüzenetet adunk a felhasználó számára [2]\n",
    "* **Máskülönben** elvégezzük az osztást [3]"
   ]
  },
  {
   "cell_type": "code",
   "execution_count": 3,
   "id": "95fc9a3f",
   "metadata": {},
   "outputs": [
    {
     "name": "stdout",
     "output_type": "stream",
     "text": [
      "Adjon meg egy számot: 1\n",
      "Adjon meg egy számot: 2\n",
      "1/2 = 0.5\n"
     ]
    }
   ],
   "source": [
    "a = int(input(\"Adjon meg egy számot: \")) # [1]\n",
    "b = int(input(\"Adjon meg egy számot: \")) # [1]\n",
    "\n",
    "if b == 0: # [2]\n",
    "    print(\"Nullával nem osztunk!\")\n",
    "else: # [3]\n",
    "    print(str(a) + \"/\" + str(b), \"=\", a/b)"
   ]
  },
  {
   "cell_type": "markdown",
   "id": "f369bdd5",
   "metadata": {},
   "source": [
    "## 3. Feladat - másodfokú egyenlet\n",
    "\n",
    "Kérje be az egyenlet együtthatóit $(a\\cdot x^2 + b\\cdot x + c = 0)$ a, b, c alakban, majd írja ki, hogy van-e valós megoldása az egyenletnek, ha van mennyi és mi(k) az(ok).\n",
    "\n",
    "### Megoldás\n",
    "* A bekért számokat egész számként tároljuk el [1]\n",
    "* Kiszámoljuk a diszkrimináns értékét [2]\n",
    "* **Ha** a diszkrimináns negatív, akkor az egyenletnek nincsen valós megoldása [3]\n",
    "* **Ha** a diszkrimináns 0, akkor az egyenletnek egy valós megoldása van, ezt a megoldó képlet segítségével meghatározzuk. Figyelünk a zárójelezésre a megfelelő sorrend miatt. [4]\n",
    "* **Ha** a diszkrimináns pozitív, akkor az egyenletnek két valós megoldása van, ezeket a megoldó képlet segítségével meghatározzuk [5]"
   ]
  },
  {
   "cell_type": "code",
   "execution_count": 4,
   "id": "4f408fd6",
   "metadata": {},
   "outputs": [
    {
     "name": "stdout",
     "output_type": "stream",
     "text": [
      "Adjon meg a négyzetes tag együtthatóját: 1\n",
      "Adjon meg a lineáris (elsőfokú) tag együtthatóját: 4\n",
      "Adjon meg a konstanstagot: 1\n",
      "1 *x^2 + 4 *x + 1 = 0 egyenlet megoldása(i):\n",
      "Az egyenletnek két valós megoldása van: -0.2679491924311228 -3.732050807568877\n"
     ]
    }
   ],
   "source": [
    "a = int(input(\"Adjon meg a négyzetes tag együtthatóját: \")) # [1]\n",
    "b = int(input(\"Adjon meg a lineáris (elsőfokú) tag együtthatóját: \")) # [1]\n",
    "c = int(input(\"Adjon meg a konstanstagot: \")) # [1]\n",
    "\n",
    "d = b**2 - 4*a*c # [2]\n",
    "\n",
    "print(a,\"*x^2 +\",b,\"*x +\",c, \"= 0 egyenlet megoldása(i):\")\n",
    "\n",
    "if d < 0: # [3]\n",
    "    print(\"Az egyenletnek nincs valós megoldása\")\n",
    "elif d == 0: # [4]\n",
    "    x = (-b + d**0.5)/(2*a)\n",
    "    print(\"Az egyenletnek egy valós megoldása van:\", x)\n",
    "else: # [5]\n",
    "    x1 = (-b + d**0.5)/(2*a)\n",
    "    x2 = (-b - d**0.5)/(2*a)\n",
    "    print(\"Az egyenletnek két valós megoldása van:\", x1, x2)"
   ]
  },
  {
   "cell_type": "markdown",
   "id": "7cc58f0f",
   "metadata": {},
   "source": [
    "## 4. Feladat\n"
   ]
  }
 ],
 "metadata": {
  "kernelspec": {
   "display_name": "Python 3 (ipykernel)",
   "language": "python",
   "name": "python3"
  },
  "language_info": {
   "codemirror_mode": {
    "name": "ipython",
    "version": 3
   },
   "file_extension": ".py",
   "mimetype": "text/x-python",
   "name": "python",
   "nbconvert_exporter": "python",
   "pygments_lexer": "ipython3",
   "version": "3.8.10"
  }
 },
 "nbformat": 4,
 "nbformat_minor": 5
}
