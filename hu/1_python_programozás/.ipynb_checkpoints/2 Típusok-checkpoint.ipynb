{
 "cells": [
  {
   "cell_type": "markdown",
   "id": "1454286a",
   "metadata": {},
   "source": [
    "# Bevezető\n",
    "\n",
    "Egy program során különöző számokat és szövegeket manipulálunk, hogy megkapjuk a kívánt végeredményt (például két szám összegét). És ezek az értékek (számok, szövegek) különbözőképpen viselkednek, mert különböző típusúak.\n",
    "\n",
    "# Számok\n",
    "\n",
    "A szám típusú értékeket, mint például a `4` vagy `2.0` már láttuk párszor. Össze lehet őket adni, ki lehet őket íratni stb. De nézzük meg egészen pontosan, hogy hogyan is működnek. A programozásban még a számokat is további kategóriákra szokás bontani. Pythonban egészen pontosan kettőre: az egész számok és a tört számok.\n",
    "\n",
    "## Egész számok (integer)\n",
    "\n",
    "Egész számokat összeadhatunk, kivonhatunk és szorozhatunk bármilyen probléma nélkül (sőt hatványozhatunk is). Néhány példa:"
   ]
  },
  {
   "cell_type": "code",
   "execution_count": 5,
   "id": "81df038c",
   "metadata": {},
   "outputs": [
    {
     "name": "stdout",
     "output_type": "stream",
     "text": [
      "3\n",
      "3\n",
      "12\n"
     ]
    }
   ],
   "source": [
    "print(2+1)\n",
    "print(5-2)\n",
    "print(3*4)"
   ]
  },
  {
   "cell_type": "markdown",
   "id": "2a3f6956",
   "metadata": {},
   "source": [
    "A `type` függvénynek egy paramétere van és visszatér a paraméterben kapott érték típusúval. Itt például minden esetben `int` típusú értékeink vannak. Az int az integer rövidítése, ami az egész számokat jelenti."
   ]
  },
  {
   "cell_type": "code",
   "execution_count": 7,
   "id": "32bf9331",
   "metadata": {},
   "outputs": [
    {
     "name": "stdout",
     "output_type": "stream",
     "text": [
      "<class 'int'>\n",
      "<class 'int'>\n",
      "<class 'int'>\n",
      "<class 'int'>\n"
     ]
    }
   ],
   "source": [
    "print(type(2))\n",
    "print(type(2+1))\n",
    "print(type(5-2))\n",
    "print(type(3*4))"
   ]
  },
  {
   "cell_type": "markdown",
   "id": "2171ac01",
   "metadata": {},
   "source": [
    "Osztásnál arra kell figyelni, hogy az eredmény már nem egész típusú lesz. Ezt jelzi az is, hogy nem `3` hanem `3.0`-ként jelenik meg az eredmény."
   ]
  },
  {
   "cell_type": "code",
   "execution_count": 8,
   "id": "655a91e9",
   "metadata": {},
   "outputs": [
    {
     "name": "stdout",
     "output_type": "stream",
     "text": [
      "3.0\n",
      "<class 'float'>\n"
     ]
    }
   ],
   "source": [
    "print(6/2)\n",
    "print(type(6/2))"
   ]
  },
  {
   "cell_type": "markdown",
   "id": "434aac09",
   "metadata": {},
   "source": [
    "## Tört számok (float)\n",
    "\n",
    "A tizedes tört számokra lebegőpontos számként szoktunk hivatkozni, innen ered az angol `float` kifejezés. Mégnéztük, hogy az alapvető művelete működnek egész és egész szám között. Megfigyelhetjük, hogy ez igaz tört és tört számokra is sőt, várható, hogy a matematikai műveletek tört és egész számok között is értelmezve vannak."
   ]
  },
  {
   "cell_type": "code",
   "execution_count": 9,
   "id": "aa5fae31",
   "metadata": {},
   "outputs": [
    {
     "name": "stdout",
     "output_type": "stream",
     "text": [
      "4.2\n",
      "<class 'float'>\n",
      "0.6000000000000001\n",
      "<class 'float'>\n",
      "6.300000000000001\n",
      "<class 'float'>\n",
      "4.0\n",
      "<class 'float'>\n"
     ]
    }
   ],
   "source": [
    "x = 2 + 2.2\n",
    "print(x)\n",
    "print(type(x))\n",
    "\n",
    "x = 2.6 - 2\n",
    "print(x)\n",
    "print(type(x))\n",
    "\n",
    "x = 2.1 * 3\n",
    "print(x)\n",
    "print(type(x))\n",
    "\n",
    "x = 2/0.5\n",
    "print(x)\n",
    "print(type(x))"
   ]
  },
  {
   "cell_type": "markdown",
   "id": "c28c8458",
   "metadata": {},
   "source": [
    "Megfigyelhetjük azt is, hogy a `2.6 - 2` eredménye nem pontosan `0.6` lett, hanem `0.6000000000000001`. Ennek az az oka, hogy a számítógépben tört számokat nem tudunk teljesen pontosan tárolni."
   ]
  },
  {
   "cell_type": "markdown",
   "id": "eaed0bc9",
   "metadata": {},
   "source": [
    "# Szövegek (string)\n",
    "\n",
    "Egy másik nagyon fontos ítpus, ami már előkerült azok a szövegek. A szövegeket mindig idézőjel `\"` vagy aposztóf jel `'` közé kell tennünk. Amit nem jelölönk így, azt változó vagy esetleg függvény név ként próbálja meg értelmezni a számítógép és hiba üzenetet kapunk ha nem létezik olyan."
   ]
  },
  {
   "cell_type": "code",
   "execution_count": 11,
   "id": "4424df3c",
   "metadata": {},
   "outputs": [
    {
     "ename": "SyntaxError",
     "evalue": "invalid syntax (798644086.py, line 1)",
     "output_type": "error",
     "traceback": [
      "\u001b[0;36m  Cell \u001b[0;32mIn [11], line 1\u001b[0;36m\u001b[0m\n\u001b[0;31m    print(Az x az ábécé utolsó betűi közé tartozik)\u001b[0m\n\u001b[0m             ^\u001b[0m\n\u001b[0;31mSyntaxError\u001b[0m\u001b[0;31m:\u001b[0m invalid syntax\n"
     ]
    }
   ],
   "source": [
    "print(Az x az ábécé utolsó betűi közé tartozik) # itt minden változó"
   ]
  },
  {
   "cell_type": "code",
   "execution_count": 14,
   "id": "f0d11553",
   "metadata": {},
   "outputs": [
    {
     "name": "stdout",
     "output_type": "stream",
     "text": [
      "Az x az ábécé utolsó betűi közé tartozik\n",
      "Az x az ábécé utolsó betűi közé tartozik\n"
     ]
    }
   ],
   "source": [
    "print(\"Az x az ábécé utolsó betűi közé tartozik\") # itt ez egy szöveg\n",
    "print(\"Az\", \"x\", \"az\", \"ábécé\", \"utolsó\", \"betűi\", \"közé\", \"tartozik\") # itt 8 szöveg (string) típusú paraméter van"
   ]
  },
  {
   "cell_type": "code",
   "execution_count": 13,
   "id": "6365f861",
   "metadata": {},
   "outputs": [
    {
     "name": "stdout",
     "output_type": "stream",
     "text": [
      "Az 7 az ábécé utolsó betűi közé tartozik\n"
     ]
    }
   ],
   "source": [
    "x = 7\n",
    "print(\"Az\", x, \"az ábécé utolsó betűi közé tartozik\") # itt az x egy változó"
   ]
  },
  {
   "cell_type": "code",
   "execution_count": 15,
   "id": "7d95235c",
   "metadata": {},
   "outputs": [
    {
     "name": "stdout",
     "output_type": "stream",
     "text": [
      "<class 'str'>\n"
     ]
    }
   ],
   "source": [
    "print(type(\"szöveg\"))"
   ]
  },
  {
   "cell_type": "markdown",
   "id": "2ae28495",
   "metadata": {},
   "source": [
    "A szöveg típust pythonban `str`-nek hívjuk (a string rövidítése).\n",
    "\n",
    "Szövegek között már nem annyira egyértelmű, hogy létezik-e például az összeadás vagy a kivonás művelete. Tippelj melyik az amelyik értelmezve van és vajon mi történik?"
   ]
  },
  {
   "cell_type": "code",
   "execution_count": 17,
   "id": "320f0df0",
   "metadata": {},
   "outputs": [
    {
     "name": "stdout",
     "output_type": "stream",
     "text": [
      "almafa\n",
      "villanykörte\n"
     ]
    }
   ],
   "source": [
    "print(\"alma\" + \"fa\")\n",
    "\n",
    "szo1 = \"körte\"\n",
    "szo2 = \"villany\"\n",
    "\n",
    "print(szo2 + szo1)"
   ]
  },
  {
   "cell_type": "markdown",
   "id": "750ad53d",
   "metadata": {},
   "source": [
    "A szövegek összeadása tehát működik és a két string összefűzését jelenti. Ezzel szemben szövegeket nem tudunk egymásból kivonni, vagy összeszorozni vagy osztani. Ezek értelmetlenek pythonban és hiba üzenetet kapunk."
   ]
  },
  {
   "cell_type": "code",
   "execution_count": 18,
   "id": "149fd8bb",
   "metadata": {},
   "outputs": [
    {
     "ename": "TypeError",
     "evalue": "unsupported operand type(s) for -: 'str' and 'str'",
     "output_type": "error",
     "traceback": [
      "\u001b[0;31m---------------------------------------------------------------------------\u001b[0m",
      "\u001b[0;31mTypeError\u001b[0m                                 Traceback (most recent call last)",
      "Cell \u001b[0;32mIn [18], line 1\u001b[0m\n\u001b[0;32m----> 1\u001b[0m \u001b[38;5;28mprint\u001b[39m(\u001b[38;5;124;43m\"\u001b[39;49m\u001b[38;5;124;43malma\u001b[39;49m\u001b[38;5;124;43m\"\u001b[39;49m\u001b[43m \u001b[49m\u001b[38;5;241;43m-\u001b[39;49m\u001b[43m \u001b[49m\u001b[38;5;124;43m\"\u001b[39;49m\u001b[38;5;124;43mma\u001b[39;49m\u001b[38;5;124;43m\"\u001b[39;49m)\n",
      "\u001b[0;31mTypeError\u001b[0m: unsupported operand type(s) for -: 'str' and 'str'"
     ]
    }
   ],
   "source": [
    "print(\"alma\" - \"ma\") # Hiba!"
   ]
  },
  {
   "cell_type": "code",
   "execution_count": 19,
   "id": "c17d4cd5",
   "metadata": {},
   "outputs": [
    {
     "ename": "TypeError",
     "evalue": "can't multiply sequence by non-int of type 'str'",
     "output_type": "error",
     "traceback": [
      "\u001b[0;31m---------------------------------------------------------------------------\u001b[0m",
      "\u001b[0;31mTypeError\u001b[0m                                 Traceback (most recent call last)",
      "Cell \u001b[0;32mIn [19], line 1\u001b[0m\n\u001b[0;32m----> 1\u001b[0m \u001b[38;5;28mprint\u001b[39m(\u001b[38;5;124;43m\"\u001b[39;49m\u001b[38;5;124;43malma\u001b[39;49m\u001b[38;5;124;43m\"\u001b[39;49m\u001b[43m \u001b[49m\u001b[38;5;241;43m*\u001b[39;49m\u001b[43m \u001b[49m\u001b[38;5;124;43m\"\u001b[39;49m\u001b[38;5;124;43mkörte\u001b[39;49m\u001b[38;5;124;43m\"\u001b[39;49m)\n",
      "\u001b[0;31mTypeError\u001b[0m: can't multiply sequence by non-int of type 'str'"
     ]
    }
   ],
   "source": [
    "print(\"alma\" * \"körte\") # Hiba!"
   ]
  },
  {
   "cell_type": "code",
   "execution_count": 20,
   "id": "96099da8",
   "metadata": {},
   "outputs": [
    {
     "ename": "TypeError",
     "evalue": "unsupported operand type(s) for /: 'str' and 'str'",
     "output_type": "error",
     "traceback": [
      "\u001b[0;31m---------------------------------------------------------------------------\u001b[0m",
      "\u001b[0;31mTypeError\u001b[0m                                 Traceback (most recent call last)",
      "Cell \u001b[0;32mIn [20], line 1\u001b[0m\n\u001b[0;32m----> 1\u001b[0m \u001b[38;5;28mprint\u001b[39m(\u001b[38;5;124;43m\"\u001b[39;49m\u001b[38;5;124;43malma\u001b[39;49m\u001b[38;5;124;43m\"\u001b[39;49m\u001b[43m \u001b[49m\u001b[38;5;241;43m/\u001b[39;49m\u001b[43m \u001b[49m\u001b[38;5;124;43m\"\u001b[39;49m\u001b[38;5;124;43malma\u001b[39;49m\u001b[38;5;124;43m\"\u001b[39;49m)\n",
      "\u001b[0;31mTypeError\u001b[0m: unsupported operand type(s) for /: 'str' and 'str'"
     ]
    }
   ],
   "source": [
    "print(\"alma\" / \"alma\") # Hiba!"
   ]
  },
  {
   "cell_type": "markdown",
   "id": "7fc8cc09",
   "metadata": {},
   "source": [
    "Vajon szövegek és számok között milyen műveletek vannak értelmezve? Szövegeket nem tudunk összeadni számokkal, még akkor sem, ha az idézőjel között valamilyen szám van."
   ]
  },
  {
   "cell_type": "code",
   "execution_count": 21,
   "id": "9b823347",
   "metadata": {},
   "outputs": [
    {
     "ename": "TypeError",
     "evalue": "can only concatenate str (not \"int\") to str",
     "output_type": "error",
     "traceback": [
      "\u001b[0;31m---------------------------------------------------------------------------\u001b[0m",
      "\u001b[0;31mTypeError\u001b[0m                                 Traceback (most recent call last)",
      "Cell \u001b[0;32mIn [21], line 1\u001b[0m\n\u001b[0;32m----> 1\u001b[0m \u001b[38;5;28mprint\u001b[39m(\u001b[38;5;124;43m\"\u001b[39;49m\u001b[38;5;124;43m6\u001b[39;49m\u001b[38;5;124;43m\"\u001b[39;49m\u001b[43m \u001b[49m\u001b[38;5;241;43m+\u001b[39;49m\u001b[43m \u001b[49m\u001b[38;5;241;43m3\u001b[39;49m)\n",
      "\u001b[0;31mTypeError\u001b[0m: can only concatenate str (not \"int\") to str"
     ]
    }
   ],
   "source": [
    "print(\"6\" + 3)"
   ]
  },
  {
   "cell_type": "markdown",
   "id": "d2742a3d",
   "metadata": {},
   "source": [
    "Ugyanígy osztani és kivonni sem tudunk. Azonban a szorzás értelmezve van. Ilyenkor annyiszor ismértli meg és fűzi a végére, amennyivel megszoroztuk"
   ]
  },
  {
   "cell_type": "code",
   "execution_count": 23,
   "id": "1c77732b",
   "metadata": {},
   "outputs": [
    {
     "name": "stdout",
     "output_type": "stream",
     "text": [
      "hahaha\n",
      "hahaha\n"
     ]
    }
   ],
   "source": [
    "print(3*\"ha\")\n",
    "print(\"ha\"*3)"
   ]
  },
  {
   "cell_type": "markdown",
   "id": "b2219c80",
   "metadata": {},
   "source": [
    "Sőt, mivel a szorzás hamarabb kerül végrehajtásra a műveleti sorrend miatt, így ilyet is írhatunk akár:"
   ]
  },
  {
   "cell_type": "code",
   "execution_count": 25,
   "id": "2a2b3c24",
   "metadata": {},
   "outputs": [
    {
     "name": "stdout",
     "output_type": "stream",
     "text": [
      "Muhahaha\n",
      "Muhahaha\n"
     ]
    }
   ],
   "source": [
    "print(\"Mu\" + 3*\"ha\")\n",
    "print(\"Mu\" + (3*\"ha\"))"
   ]
  },
  {
   "cell_type": "markdown",
   "id": "fe99ba85",
   "metadata": {},
   "source": [
    "Itt figyelni kell rá, hogy a szorzás is csak egész számok (int) és szövegek között van értelmezve."
   ]
  },
  {
   "cell_type": "code",
   "execution_count": 26,
   "id": "2cb5b127",
   "metadata": {},
   "outputs": [
    {
     "ename": "TypeError",
     "evalue": "can't multiply sequence by non-int of type 'float'",
     "output_type": "error",
     "traceback": [
      "\u001b[0;31m---------------------------------------------------------------------------\u001b[0m",
      "\u001b[0;31mTypeError\u001b[0m                                 Traceback (most recent call last)",
      "Cell \u001b[0;32mIn [26], line 1\u001b[0m\n\u001b[0;32m----> 1\u001b[0m \u001b[38;5;28mprint\u001b[39m(\u001b[38;5;124;43m\"\u001b[39;49m\u001b[38;5;124;43mha\u001b[39;49m\u001b[38;5;124;43m\"\u001b[39;49m\u001b[43m \u001b[49m\u001b[38;5;241;43m*\u001b[39;49m\u001b[43m \u001b[49m\u001b[38;5;241;43m1.5\u001b[39;49m)\n",
      "\u001b[0;31mTypeError\u001b[0m: can't multiply sequence by non-int of type 'float'"
     ]
    }
   ],
   "source": [
    "print(\"ha\" * 1.5)"
   ]
  },
  {
   "cell_type": "code",
   "execution_count": 27,
   "id": "d525fd36",
   "metadata": {},
   "outputs": [
    {
     "ename": "TypeError",
     "evalue": "can't multiply sequence by non-int of type 'float'",
     "output_type": "error",
     "traceback": [
      "\u001b[0;31m---------------------------------------------------------------------------\u001b[0m",
      "\u001b[0;31mTypeError\u001b[0m                                 Traceback (most recent call last)",
      "Cell \u001b[0;32mIn [27], line 1\u001b[0m\n\u001b[0;32m----> 1\u001b[0m \u001b[38;5;28mprint\u001b[39m(\u001b[38;5;124;43m\"\u001b[39;49m\u001b[38;5;124;43mha\u001b[39;49m\u001b[38;5;124;43m\"\u001b[39;49m\u001b[43m \u001b[49m\u001b[38;5;241;43m*\u001b[39;49m\u001b[43m \u001b[49m\u001b[38;5;241;43m1.0\u001b[39;49m)\n",
      "\u001b[0;31mTypeError\u001b[0m: can't multiply sequence by non-int of type 'float'"
     ]
    }
   ],
   "source": [
    "print(\"ha\" * 1.0)"
   ]
  },
  {
   "cell_type": "markdown",
   "id": "6923a973",
   "metadata": {},
   "source": [
    "Tehát ha egy osztás eredményével szeretnénk szöveget szorozni, az hibás lesz, mert az osztás eredménye minden esetben tört szám."
   ]
  },
  {
   "cell_type": "code",
   "execution_count": 28,
   "id": "9e957641",
   "metadata": {},
   "outputs": [
    {
     "ename": "TypeError",
     "evalue": "can't multiply sequence by non-int of type 'float'",
     "output_type": "error",
     "traceback": [
      "\u001b[0;31m---------------------------------------------------------------------------\u001b[0m",
      "\u001b[0;31mTypeError\u001b[0m                                 Traceback (most recent call last)",
      "Cell \u001b[0;32mIn [28], line 2\u001b[0m\n\u001b[1;32m      1\u001b[0m x \u001b[38;5;241m=\u001b[39m \u001b[38;5;241m4\u001b[39m\u001b[38;5;241m/\u001b[39m\u001b[38;5;241m2\u001b[39m\n\u001b[0;32m----> 2\u001b[0m \u001b[38;5;28mprint\u001b[39m(\u001b[43mx\u001b[49m\u001b[38;5;241;43m*\u001b[39;49m\u001b[38;5;124;43m\"\u001b[39;49m\u001b[38;5;124;43mAlma\u001b[39;49m\u001b[38;5;124;43m\"\u001b[39;49m)\n",
      "\u001b[0;31mTypeError\u001b[0m: can't multiply sequence by non-int of type 'float'"
     ]
    }
   ],
   "source": [
    "x = 4/2\n",
    "print(x*\"Alma\")"
   ]
  },
  {
   "cell_type": "markdown",
   "id": "157dc7e0",
   "metadata": {},
   "source": [
    ">Figyelem:\\\n",
    "Ha számokat akarunk összeadni figyelni kell rá, hogy nem szövegként vannak-e eltárolva, különben érdekes eredményeket kaphatunk. Ilyenkor ugyanis csak egymás mellé fűzi a két szöveget, ahelyett, hogy összeadná a számokat."
   ]
  },
  {
   "cell_type": "code",
   "execution_count": 29,
   "id": "0bcfc67d",
   "metadata": {},
   "outputs": [
    {
     "name": "stdout",
     "output_type": "stream",
     "text": [
      "11\n"
     ]
    }
   ],
   "source": [
    "x = \"1\"\n",
    "y = \"1\"\n",
    "print(x+y)"
   ]
  },
  {
   "cell_type": "markdown",
   "id": "465853ec",
   "metadata": {},
   "source": [
    "Ugyanez történik akkor is, ha az `input` segítségével számot próbálunk bekérni a felhasználótól. Ugyanis, az `input` minden esetben szöveget ad vissza, még ha az a szöveg úgy is néz ki hogy `\"123\"`."
   ]
  },
  {
   "cell_type": "code",
   "execution_count": 31,
   "id": "334b1cb2",
   "metadata": {},
   "outputs": [
    {
     "name": "stdout",
     "output_type": "stream",
     "text": [
      "Adjon meg egy számot: 2\n",
      "Adjon meg még egy számot: 4\n",
      "A két szám összege: 24\n"
     ]
    }
   ],
   "source": [
    "szám1 = input(\"Adjon meg egy számot: \")\n",
    "szám2 = input(\"Adjon meg még egy számot: \")\n",
    "\n",
    "print(\"A két szám összege:\", szám1 + szám2)"
   ]
  },
  {
   "cell_type": "markdown",
   "id": "1dd9ce15",
   "metadata": {},
   "source": [
    "# Átjárás típusok között (type casting)\n",
    "\n",
    "Mit tehetünk a fentebb említett esetekben, ha nekünk mégis számként lenne szükségünk arra a szövegre? \n",
    "\n",
    "Létezik 3 függvény (`int`, `float`, `str`), aminek segítségével átalakíthatjuk egyik típust a másikba. De csak akkor ha ez értelmesen megtehető, például az `\"alma\"` szöveg értelem szerűen nem alakítható át számmá, azonban a `\"22\"` mint szöveg egyszerűen átalakítható számmá. Ha az átalakítás nem végezhető el, akkor hibát kapunk.\n",
    "\n",
    "Szöveggé bármilyen egyszerű típus átalakítható (egész, tört számok). Néhány példa:"
   ]
  },
  {
   "cell_type": "code",
   "execution_count": 32,
   "id": "4f7bfac9",
   "metadata": {},
   "outputs": [
    {
     "name": "stdout",
     "output_type": "stream",
     "text": [
      "14\n"
     ]
    }
   ],
   "source": [
    "x = \"12\" # egy szöveg típusú változó\n",
    "\n",
    "# print(x + 2)-> ez így hibás lenne, mert x szöveg típusú\n",
    "\n",
    "print(int(x) + 2)"
   ]
  },
  {
   "cell_type": "code",
   "execution_count": 34,
   "id": "e8c69be2",
   "metadata": {},
   "outputs": [
    {
     "name": "stdout",
     "output_type": "stream",
     "text": [
      "Adjon meg egy számot: 22\n",
      "22 kétszerese: 44\n"
     ]
    }
   ],
   "source": [
    "szám = input(\"Adjon meg egy számot: \")\n",
    "\n",
    "# print(szám * 2) -> ez így hibás lenne, mert a szám változóban szöveg típusú érték van\n",
    "\n",
    "szám = int(szám) # a szám változó értékét lecseréljük az átalakított értékre\n",
    "print(szám,\"kétszerese:\",szám * 2) # az előző sor miatt ez már helyes"
   ]
  },
  {
   "cell_type": "markdown",
   "id": "d23e099a",
   "metadata": {},
   "source": [
    "A függvényeket egymásba is ágyazhatjuk. Ahelyett, hogy különsorban bekérnénk a felhasználótól egy számot, majd átalakítanánk annak a típusát. Ezt leírhatjuk egyben, egy sorban. Bekérünk egy számot, majd a bekért számot átkonvertáljuk (átalakítjuk) rögtön. EZ azért lehetséges, mert az `input` függvény visszatér azzal az értékkel (\"a gép kidobja magából azt az értéket\"), amit megadott a felhasználó. Ezért tudtuk egy változóban eltárolni is."
   ]
  },
  {
   "cell_type": "code",
   "execution_count": 35,
   "id": "d5ec7168",
   "metadata": {},
   "outputs": [
    {
     "name": "stdout",
     "output_type": "stream",
     "text": [
      "Adjon meg egy számot: 11\n",
      "A megadott szám háromszorosa: 33\n"
     ]
    }
   ],
   "source": [
    "szám = int(input(\"Adjon meg egy számot: \"))\n",
    "\n",
    "print(\"A megadott szám háromszorosa:\", szám*3)"
   ]
  },
  {
   "cell_type": "code",
   "execution_count": 37,
   "id": "e8479076",
   "metadata": {},
   "outputs": [
    {
     "name": "stdout",
     "output_type": "stream",
     "text": [
      "123\n"
     ]
    }
   ],
   "source": [
    "x = \"00123\"\n",
    "print(int(x))"
   ]
  },
  {
   "cell_type": "code",
   "execution_count": 36,
   "id": "deba0fd4",
   "metadata": {},
   "outputs": [
    {
     "ename": "ValueError",
     "evalue": "invalid literal for int() with base 10: '1.1'",
     "output_type": "error",
     "traceback": [
      "\u001b[0;31m---------------------------------------------------------------------------\u001b[0m",
      "\u001b[0;31mValueError\u001b[0m                                Traceback (most recent call last)",
      "Cell \u001b[0;32mIn [36], line 2\u001b[0m\n\u001b[1;32m      1\u001b[0m x \u001b[38;5;241m=\u001b[39m \u001b[38;5;124m\"\u001b[39m\u001b[38;5;124m1.1\u001b[39m\u001b[38;5;124m\"\u001b[39m\n\u001b[0;32m----> 2\u001b[0m \u001b[38;5;28mprint\u001b[39m(\u001b[38;5;28;43mint\u001b[39;49m\u001b[43m(\u001b[49m\u001b[43mx\u001b[49m\u001b[43m)\u001b[49m)\n",
      "\u001b[0;31mValueError\u001b[0m: invalid literal for int() with base 10: '1.1'"
     ]
    }
   ],
   "source": [
    "x = \"1.1\"\n",
    "print(int(x)) # Hiba! Egész számmá csak az a szöveg alakítható, ami csak számokat tartalmaz"
   ]
  },
  {
   "cell_type": "code",
   "execution_count": 39,
   "id": "31d63208",
   "metadata": {},
   "outputs": [
    {
     "name": "stdout",
     "output_type": "stream",
     "text": [
      "1.11.1\n",
      "2.2\n"
     ]
    }
   ],
   "source": [
    "x = \"1.1\"\n",
    "\n",
    "print(x*2)\n",
    "print(float(x) * 2)"
   ]
  },
  {
   "cell_type": "code",
   "execution_count": 40,
   "id": "0d99deff",
   "metadata": {},
   "outputs": [
    {
     "name": "stdout",
     "output_type": "stream",
     "text": [
      "24\n",
      "1212\n"
     ]
    }
   ],
   "source": [
    "x = 12\n",
    "\n",
    "print(x*2) # itt x szám\n",
    "print(str(x)*2) # itt x szöveg"
   ]
  }
 ],
 "metadata": {
  "kernelspec": {
   "display_name": "Python 3 (ipykernel)",
   "language": "python",
   "name": "python3"
  },
  "language_info": {
   "codemirror_mode": {
    "name": "ipython",
    "version": 3
   },
   "file_extension": ".py",
   "mimetype": "text/x-python",
   "name": "python",
   "nbconvert_exporter": "python",
   "pygments_lexer": "ipython3",
   "version": "3.8.10"
  }
 },
 "nbformat": 4,
 "nbformat_minor": 5
}
