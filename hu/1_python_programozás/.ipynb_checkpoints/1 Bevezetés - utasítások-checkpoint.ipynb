{
 "cells": [
  {
   "cell_type": "markdown",
   "id": "cb22b39b",
   "metadata": {},
   "source": [
    "# Mi az a programozás?\n",
    "\n",
    "A programozás során utasításokat adunk a számítógépnek, amiket annak végre kell hajtania és várhatóan ennek az eredményét valamilyen formában megmutatni nekünk. Azért, hogy a gép képes legyen megérteni, hogy mi mit szeretnénk egy közös nyelvet kell használnunk: ez a programozási nyelv, mint például a python, vagy a c++. A számítógépek ezt a nyelvet már ismerik, más programozók \"megtanították\" neki már csak nekünk kell megtanulnunk, hogy a kommunikáció működhessen közöttünk.\n",
    "\n",
    "# Milyen utasításokat tud végrehajtani egy számítógép?\n",
    "\n",
    "Egészen sok félét. A legalapvetőbb utasítások valamilyen matematikai művelet kiszámolását várják el. Itt látható egy példa, ahol a számítógépet megkérjük, hogy végezze el az összeadását két számnak, alatta pedig a \"válasz\" tehát az eredmény."
   ]
  },
  {
   "cell_type": "code",
   "execution_count": 1,
   "id": "9308a0a3",
   "metadata": {},
   "outputs": [
    {
     "data": {
      "text/plain": [
       "5"
      ]
     },
     "execution_count": 1,
     "metadata": {},
     "output_type": "execute_result"
    }
   ],
   "source": [
    "2 + 3"
   ]
  },
  {
   "cell_type": "markdown",
   "id": "43cbc854",
   "metadata": {},
   "source": [
    "Nagyon fontos, hogy a különöző értékeket (mint például a `2`, a `3` vagy akár az `5`) eltárolhatjuk úgynevezett változókban. Az itt látható módon. Jelentése: `x` legyen egyenlő `2`-vel."
   ]
  },
  {
   "cell_type": "code",
   "execution_count": 3,
   "id": "af257c56",
   "metadata": {},
   "outputs": [],
   "source": [
    "x = 2"
   ]
  },
  {
   "cell_type": "markdown",
   "id": "b4f22438",
   "metadata": {},
   "source": [
    "## Változók"
   ]
  },
  {
   "cell_type": "markdown",
   "id": "458fb3a8",
   "metadata": {},
   "source": [
    "Az `x`-et, úgy kell elképzelni, mint egy címkét egy dobozon, a `2`-t pedig, mint a doboz tartalmát. Ezután, ha később az `x` címkére hivatkozunk, akkor a helyére mindig a dobozban található érték, most például a kettes fog behelyettesítődni. Tehát, ha az `x + 3` kifejezést szeretném kiértékelni, azaz megtudni az eredményét, akkor azt megtehetem így:"
   ]
  },
  {
   "cell_type": "code",
   "execution_count": 4,
   "id": "f3b0e5d9",
   "metadata": {},
   "outputs": [
    {
     "data": {
      "text/plain": [
       "5"
      ]
     },
     "execution_count": 4,
     "metadata": {},
     "output_type": "execute_result"
    }
   ],
   "source": [
    "x + 3"
   ]
  },
  {
   "cell_type": "code",
   "execution_count": 5,
   "id": "570dc577",
   "metadata": {},
   "outputs": [
    {
     "data": {
      "text/plain": [
       "3"
      ]
     },
     "execution_count": 5,
     "metadata": {},
     "output_type": "execute_result"
    }
   ],
   "source": [
    "x + 1"
   ]
  },
  {
   "cell_type": "code",
   "execution_count": 6,
   "id": "44763302",
   "metadata": {},
   "outputs": [
    {
     "data": {
      "text/plain": [
       "2"
      ]
     },
     "execution_count": 6,
     "metadata": {},
     "output_type": "execute_result"
    }
   ],
   "source": [
    "x"
   ]
  },
  {
   "cell_type": "markdown",
   "id": "2a9eee0d",
   "metadata": {},
   "source": [
    "A változóknak adhatunk új értéket is, ilyenkor, mintha kivennénk a `2`-est az `x` címkéjű dobozból és beraknánk a helyére például a `4`-est."
   ]
  },
  {
   "cell_type": "code",
   "execution_count": 7,
   "id": "379cba0c",
   "metadata": {},
   "outputs": [],
   "source": [
    "x = 4"
   ]
  },
  {
   "cell_type": "code",
   "execution_count": 8,
   "id": "6d836023",
   "metadata": {},
   "outputs": [
    {
     "data": {
      "text/plain": [
       "4"
      ]
     },
     "execution_count": 8,
     "metadata": {},
     "output_type": "execute_result"
    }
   ],
   "source": [
    "x"
   ]
  },
  {
   "cell_type": "code",
   "execution_count": 9,
   "id": "9951630c",
   "metadata": {},
   "outputs": [
    {
     "data": {
      "text/plain": [
       "6"
      ]
     },
     "execution_count": 9,
     "metadata": {},
     "output_type": "execute_result"
    }
   ],
   "source": [
    "x + 2"
   ]
  },
  {
   "cell_type": "code",
   "execution_count": 10,
   "id": "63164ea1",
   "metadata": {},
   "outputs": [
    {
     "data": {
      "text/plain": [
       "8"
      ]
     },
     "execution_count": 10,
     "metadata": {},
     "output_type": "execute_result"
    }
   ],
   "source": [
    "x + x"
   ]
  },
  {
   "cell_type": "markdown",
   "id": "460bdf15",
   "metadata": {},
   "source": [
    "> Megjegyzések: változó elnevezések\n",
    "* Python-ban nem lehetnek \"üres dobozaink\", azaz olyan változóink, amiben nincsen valamilyen érték\n",
    "* Egy változóban végig ugyanaz az érték marad, amíg le nem cseréljük\n",
    "* A változó neve egy szóból kell, hogy álljon, tehát nem tartalmazhat space-t\n",
    "* Tartalmazhat számot, de nem keződhet vele\n",
    "* Kis és nagybetűket is tartalmazhat és ezek különbözőnek számítanak, például `alma` és `Alma` nem ugyanaz a változó\n",
    "* Ha olyan változóra hivatkozunk, aminek nem adtunk előtte értéket, akkor hibát kapunk"
   ]
  },
  {
   "cell_type": "code",
   "execution_count": 13,
   "id": "cf1ed444",
   "metadata": {},
   "outputs": [
    {
     "data": {
      "text/plain": [
       "6"
      ]
     },
     "execution_count": 13,
     "metadata": {},
     "output_type": "execute_result"
    }
   ],
   "source": [
    "szám = 1\n",
    "Szám = 2\n",
    "szám3 = 3\n",
    "\n",
    "szám + Szám + szám3"
   ]
  },
  {
   "cell_type": "markdown",
   "id": "6e8f0997",
   "metadata": {},
   "source": [
    "A változókra nem csak matematikai műveletekben hivatkozhatunk, hanem bárhol, ahol értelmes, hogy oda egy valamilyen érték kerüljön. Például egy új változó megkaphatja ugyanazt az értéket, ami addig egy másikban volt. A következő példában `x` kap egy értéket (`1`-et);12 `y` megkapja azt az értéket, ami akkor éppen `x`-ben van; `x` megkapja azt az értéket, ami addig volt `x`-ben plusz `1`-et **ezt úgy szoktuk hívni, hogy megnöveljük `x` értékét eggyel**. Ezután láthatjuk, hogy `y`-ban az az érték van, amit eredetileg megkapott `x`-től, `x`-ben pedig az eggyel megnőtt."
   ]
  },
  {
   "cell_type": "code",
   "execution_count": 14,
   "id": "b1f9fb13",
   "metadata": {},
   "outputs": [],
   "source": [
    "x = 1"
   ]
  },
  {
   "cell_type": "code",
   "execution_count": 15,
   "id": "85a26d1d",
   "metadata": {},
   "outputs": [
    {
     "data": {
      "text/plain": [
       "1"
      ]
     },
     "execution_count": 15,
     "metadata": {},
     "output_type": "execute_result"
    }
   ],
   "source": [
    "x"
   ]
  },
  {
   "cell_type": "code",
   "execution_count": 16,
   "id": "079dc193",
   "metadata": {},
   "outputs": [],
   "source": [
    "y = x"
   ]
  },
  {
   "cell_type": "code",
   "execution_count": 17,
   "id": "4fd19efe",
   "metadata": {},
   "outputs": [
    {
     "data": {
      "text/plain": [
       "1"
      ]
     },
     "execution_count": 17,
     "metadata": {},
     "output_type": "execute_result"
    }
   ],
   "source": [
    "y"
   ]
  },
  {
   "cell_type": "code",
   "execution_count": 18,
   "id": "6649b976",
   "metadata": {},
   "outputs": [],
   "source": [
    "x = x + 1"
   ]
  },
  {
   "cell_type": "code",
   "execution_count": 19,
   "id": "d5d42b8c",
   "metadata": {},
   "outputs": [
    {
     "data": {
      "text/plain": [
       "2"
      ]
     },
     "execution_count": 19,
     "metadata": {},
     "output_type": "execute_result"
    }
   ],
   "source": [
    "x"
   ]
  },
  {
   "cell_type": "code",
   "execution_count": 20,
   "id": "93a74dcf",
   "metadata": {},
   "outputs": [
    {
     "data": {
      "text/plain": [
       "1"
      ]
     },
     "execution_count": 20,
     "metadata": {},
     "output_type": "execute_result"
    }
   ],
   "source": [
    "y"
   ]
  },
  {
   "cell_type": "markdown",
   "id": "b9c51f5b",
   "metadata": {},
   "source": [
    "Tehát ha egy változó neve az egyenlőség bal oldalán szerepel, akkor az azt a műveletet (utasítást) jelenti, hogy abba a változóba kerüljön bele az az érték, ami az egyenlőség jel jobb oldalán szerepel. Tehát a jobb oldalra mindig valami olyan kifejezést (például matematikai kifejezést, mint a 3 + 2) kell írnunk, ami egy értékké (például egy számmá) tud kiértékelődni, kiszámolódni."
   ]
  },
  {
   "cell_type": "markdown",
   "id": "892dd06b",
   "metadata": {},
   "source": [
    "## Egyéb matematikai műveletek"
   ]
  },
  {
   "cell_type": "markdown",
   "id": "6cd41321",
   "metadata": {},
   "source": [
    "Az összeadáson kívül a többi matematikában megszokott műveletet is használhatjuk, mint kivonás: `-`, szorzás: `*`, osztás: `/` vagy hatványozás: `**`"
   ]
  },
  {
   "cell_type": "code",
   "execution_count": 26,
   "id": "2a359602",
   "metadata": {},
   "outputs": [
    {
     "data": {
      "text/plain": [
       "-4"
      ]
     },
     "execution_count": 26,
     "metadata": {},
     "output_type": "execute_result"
    }
   ],
   "source": [
    "2 - 6 # negatív számok is lehetnek"
   ]
  },
  {
   "cell_type": "code",
   "execution_count": 23,
   "id": "b53dcbab",
   "metadata": {},
   "outputs": [
    {
     "data": {
      "text/plain": [
       "12"
      ]
     },
     "execution_count": 23,
     "metadata": {},
     "output_type": "execute_result"
    }
   ],
   "source": [
    "3*4"
   ]
  },
  {
   "cell_type": "code",
   "execution_count": 22,
   "id": "baeb2a8e",
   "metadata": {},
   "outputs": [
    {
     "data": {
      "text/plain": [
       "2.0"
      ]
     },
     "execution_count": 22,
     "metadata": {},
     "output_type": "execute_result"
    }
   ],
   "source": [
    "4/2 # a tizedes törtek ponttal jelennek meg"
   ]
  },
  {
   "cell_type": "code",
   "execution_count": 24,
   "id": "35128abd",
   "metadata": {},
   "outputs": [
    {
     "data": {
      "text/plain": [
       "8"
      ]
     },
     "execution_count": 24,
     "metadata": {},
     "output_type": "execute_result"
    }
   ],
   "source": [
    "2**3"
   ]
  },
  {
   "cell_type": "markdown",
   "id": "54092b6c",
   "metadata": {},
   "source": [
    "## Kommentek"
   ]
  },
  {
   "cell_type": "markdown",
   "id": "a2cab411",
   "metadata": {},
   "source": [
    "Van, hogy a programunkban (a kódban, tehát az utasítások sorozatában) el akarunk helyezni apró megjegyzéseket. Valami olyan kis szövegeket, amik nem szeretnénk, hogy hatása legyen az eredményre. Ezeket nevezzük kommenteknek. Python-ban a `#` jellel kezdődő sorok a kommentek. Ezzel a jellel kezdődő a sorok tehát teljes mértékben figyelmen kívül lesznek hagyva az eredmény számítása során. A sorok végére is írhatunk kommenteket, ilyenkor a `#` utáni rész lesz figyelmen kívül hagyva abban a sorban."
   ]
  },
  {
   "cell_type": "code",
   "execution_count": 25,
   "id": "02855c1c",
   "metadata": {},
   "outputs": [
    {
     "data": {
      "text/plain": [
       "6"
      ]
     },
     "execution_count": 25,
     "metadata": {},
     "output_type": "execute_result"
    }
   ],
   "source": [
    "# x legyen egyenlő 1-gyel\n",
    "x = 1\n",
    "x = x + 2\n",
    "y = 3 # y legyen egyenlő 3-mal\n",
    "# y = 1\n",
    "x + y"
   ]
  },
  {
   "cell_type": "markdown",
   "id": "0a36444b",
   "metadata": {},
   "source": [
    "Az eredmény azért lett 6, mert az `y = 1` utasítás ki van kommentezve, azaz egy `#` van elé írva, tehát figyelmen kívül hagyódik"
   ]
  },
  {
   "cell_type": "markdown",
   "id": "3a58830e",
   "metadata": {},
   "source": [
    "## Kimenet, bemenet"
   ]
  },
  {
   "cell_type": "code",
   "execution_count": null,
   "id": "abeb82eb",
   "metadata": {},
   "outputs": [],
   "source": [
    "# TODO"
   ]
  },
  {
   "cell_type": "markdown",
   "id": "dca594ab",
   "metadata": {},
   "source": [
    "# Tehát mi is egy program?"
   ]
  },
  {
   "cell_type": "markdown",
   "id": "efd550a8",
   "metadata": {},
   "source": [
    "Egy program egy kódból áll. A kód egymást követő utasításokból áll (utasítások sorozata). Ezeket az utasításokat, amikor végrehajtja a számítógép úgy nevezzük, hogy a program fut vagy lefut. \n",
    "\n",
    "Az utasítások például a fentebb leírt változó értékadások, matematikai műveletek vagy ki és bemeneti utasítások lehetnek többek között.\n",
    "\n",
    "Ezeket a program futása során fentról lefelé sorba hajta végre a számítógép átugorva a `#`-el kezdődő részeket."
   ]
  },
  {
   "cell_type": "code",
   "execution_count": null,
   "id": "a741f095",
   "metadata": {},
   "outputs": [],
   "source": []
  }
 ],
 "metadata": {
  "kernelspec": {
   "display_name": "Python 3 (ipykernel)",
   "language": "python",
   "name": "python3"
  },
  "language_info": {
   "codemirror_mode": {
    "name": "ipython",
    "version": 3
   },
   "file_extension": ".py",
   "mimetype": "text/x-python",
   "name": "python",
   "nbconvert_exporter": "python",
   "pygments_lexer": "ipython3",
   "version": "3.8.10"
  }
 },
 "nbformat": 4,
 "nbformat_minor": 5
}
