{
 "cells": [
  {
   "cell_type": "markdown",
   "id": "1f122ee6",
   "metadata": {},
   "source": [
    "# Tartalomjegyzék\n",
    "\n",
    "1. Írasd ki két szám összegét, különbségét és szorzatát.\n",
    "2. Kérj be egy szót a felhasználótól és írasd ki.\n",
    "3. Kérj be a felhasználótól egy nevet majd köszönj neki."
   ]
  },
  {
   "cell_type": "markdown",
   "id": "4a95b4fb",
   "metadata": {},
   "source": [
    "# Néhány példa részletes magyarázattal\n",
    "\n",
    "Kidolgozott mintafeladatok"
   ]
  },
  {
   "cell_type": "markdown",
   "id": "4544cd60",
   "metadata": {},
   "source": [
    "## 1. Feladat - változók, műveletek\n",
    "\n",
    "Írasd ki két szám összegét, különbségét és szorzatát."
   ]
  },
  {
   "cell_type": "markdown",
   "id": "1f7620ae",
   "metadata": {},
   "source": [
    "### I. Megoldás"
   ]
  },
  {
   "cell_type": "code",
   "execution_count": 4,
   "id": "072f465e",
   "metadata": {},
   "outputs": [
    {
     "name": "stdout",
     "output_type": "stream",
     "text": [
      "5\n",
      "-1\n",
      "6\n"
     ]
    }
   ],
   "source": [
    "print(2+3)\n",
    "print(2-3)\n",
    "print(2*3)"
   ]
  },
  {
   "cell_type": "markdown",
   "id": "ccc0641a",
   "metadata": {},
   "source": [
    "### II. Megoldás \n",
    "\n",
    "A számokat érdemes lehet egy-egy változóban eltárolni és a változókra hivatkozva íratni ki az összeget stb. Ez azért hasznos, mert csak egy helyen kell átírnunk (`x = 5` utasításnál) ha ezután már nem az 5-ös hanem a 3-mas számmal kapcsolatban szeretnénk kiíratni ezeket az értékeket\n",
    "\n",
    "* Először létrehozunk egy `x` és egy `y` nevű változót és eltárolunk bennük két számot [1]\n",
    "* Egy új, `összeg` nevű változóban eltároljuk az összegüket [2]\n",
    "* Kiíratjuk az összegüket az `összeg` nevű változó segítségével [3]\n",
    "* Hasonlóan oldjuk meg a különségre és a szorzatra is"
   ]
  },
  {
   "cell_type": "code",
   "execution_count": 3,
   "id": "4057a50a",
   "metadata": {},
   "outputs": [
    {
     "name": "stdout",
     "output_type": "stream",
     "text": [
      "A két szám összege: 3\n",
      "A két szám különbsége: 7\n",
      "A két szám szorzata: -10\n"
     ]
    }
   ],
   "source": [
    "# Változó értékadás\n",
    "x = 5 # [1]\n",
    "y = -2 # [1]\n",
    "\n",
    "# Összeg\n",
    "összeg = x + y # [2]\n",
    "print(\"A két szám összege:\", összeg) # [3]\n",
    "\n",
    "# Különbség\n",
    "különbség = x - y\n",
    "print(\"A két szám különbsége:\", különbség)\n",
    "\n",
    "# Szorzat\n",
    "szorzat = x*y\n",
    "print(\"A két szám szorzata:\", szorzat)"
   ]
  },
  {
   "cell_type": "markdown",
   "id": "aff9b76d",
   "metadata": {},
   "source": [
    "### III. Megoldás\n",
    "\n",
    "Az összeget, különséget és szorzatot nem feltétenül szükséges eltárolnunk külön változóban, hiszen később nem hivatkozunk már rá, nem használjuk fel újra. Azonban hasznos lehet kicsit részletesebb kimenetet írni: legyen benne hogy melyik két szám összegéről stb. beszélünk."
   ]
  },
  {
   "cell_type": "code",
   "execution_count": 5,
   "id": "a64f52f3",
   "metadata": {},
   "outputs": [
    {
     "name": "stdout",
     "output_type": "stream",
     "text": [
      "10 és 3 összege: 13\n",
      "10 és 3 különbsége: 7\n",
      "10 és 3 szorzata: 30\n"
     ]
    }
   ],
   "source": [
    "# Változó értékadás\n",
    "x = 10\n",
    "y = 3\n",
    "\n",
    "# Kiíratás\n",
    "print(x, \"és\", y, \"összege:\", x+y)\n",
    "print(x, \"és\", y, \"különbsége:\", x-y)\n",
    "print(x, \"és\", y, \"szorzata:\", x*y)"
   ]
  },
  {
   "cell_type": "markdown",
   "id": "8c2eee6c",
   "metadata": {},
   "source": [
    "## 2. Feladat - Szó bekérés\n",
    "\n",
    "Kérj be egy szót a felhasználótól és írasd ki\n",
    "\n",
    "### Megoldás"
   ]
  },
  {
   "cell_type": "code",
   "execution_count": 12,
   "id": "b968ebf9",
   "metadata": {},
   "outputs": [
    {
     "name": "stdout",
     "output_type": "stream",
     "text": [
      "Adj meg egy szót: alma\n",
      "alma\n"
     ]
    }
   ],
   "source": [
    "szó = input(\"Adj meg egy szót: \")\n",
    "print(szó)"
   ]
  },
  {
   "cell_type": "markdown",
   "id": "438d46ce",
   "metadata": {},
   "source": [
    "## 3. Feladat - Köszönés\n",
    "\n",
    "Kérj be a felhasználótól egy nevet majd köszönj neki.\n",
    "\n",
    "### Megoldás\n",
    "\n",
    "* Bekérünk a felhasználótól egy nevet és elmentjük (eltároljuk) egy `név` nevű változóban [1]\n",
    "* Kiíratunk egy köszönést és a nevet, amit megadott a felhasználó a változó (`név`) segítségével, amiben eltároltuk a nevet [2]\n",
    "\n",
    "Láthatjuk, hogy ez nagyon hasonló, mint az előző feladat. Csupán annyival bővült, hogy a kiíratásnál nem csak azt kell kiírnunk,a mit a felhasználó megadott, hanem egy köszönő szöveget is."
   ]
  },
  {
   "cell_type": "code",
   "execution_count": 11,
   "id": "301782d0",
   "metadata": {},
   "outputs": [
    {
     "name": "stdout",
     "output_type": "stream",
     "text": [
      "Add meg a neved: Barbara\n",
      "Hello Barbara\n"
     ]
    }
   ],
   "source": [
    "név = input(\"Add meg a neved: \") # [1]\n",
    "\n",
    "print(\"Hello\", név) # [2]"
   ]
  }
 ],
 "metadata": {
  "kernelspec": {
   "display_name": "Python 3 (ipykernel)",
   "language": "python",
   "name": "python3"
  },
  "language_info": {
   "codemirror_mode": {
    "name": "ipython",
    "version": 3
   },
   "file_extension": ".py",
   "mimetype": "text/x-python",
   "name": "python",
   "nbconvert_exporter": "python",
   "pygments_lexer": "ipython3",
   "version": "3.8.10"
  }
 },
 "nbformat": 4,
 "nbformat_minor": 5
}
