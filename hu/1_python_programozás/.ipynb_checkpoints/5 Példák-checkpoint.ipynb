{
 "cells": [
  {
   "cell_type": "markdown",
   "id": "fce8d3b5",
   "metadata": {},
   "source": [
    "# Tartalom jegyzék\n",
    "\n",
    "1. Írassuk ki 3-szor egymás alá, hogy \"Hello!\".\n",
    "2. Kérjünk be egy számot a felhasználótól és annyiszor írassuk ki egymás alá, hogy \"Legyen szép napod!\".\n",
    "3. Írassuk ki a számokat egymás alá 0-tól 10-ig.\n",
    "4. Írassuk ki a páros számokat egymás alá 1-től 10-ig.\n",
    "5. Kérjünk be egy számot a felhasználótól és 0-tól a bekért számig írassuk ki egymás alá a számokat.\n",
    "6. Két számot kérjünk be a felhasználótól és az első bekért számtól a másodikig írassuk ki egymás alá a számokat.\n",
    "7. Két számot kérjünk be a felhasználótól és az első bekért számtól a másodikig írassuk ki egymás alá a számokat. Rakjunk bele hiba ellenőrzést is: csak akkor írassuk ki a számokat ha a második szám nagyobb vagy egyenlő-e mint az első, ha ez nem teljesül adjunk hibaüzenetet.\n",
    "8. Hozzunk létre egy listát és írassuk ki az elemeit egymás alá.\n",
    "9. Hozzunk létre egy listát és írassuk ki az elemeit egymás alá de fordított sorrendben.\n",
    "10. Kérjünk be a felhasználótól 5 számot és tároljuk el őket egy listában.\n",
    "11. Hozzunk létre egy listát, majd írassuk ki a lista elemeinek a kétszeresét.\n",
    "12. Hozzunk létre egy listát, amely 1-től 10-ig tartalmazza a számokat.\n",
    "13. Hozzunk létre egy listát, majd módosítsuk úgy, hogy az eredeti lista elemek négyzete legyen a listában.\n",
    "14. Hozzunk létre egy listát, majd írassuk ki azokat az elemeket, amelyek kisebbek, mint 5.\n",
    "15. Hozzunk létre egy listát és írassuk ki a listában szereplő számok összegét.\n",
    "16. Hozzunk létre egy listát és írassuk ki, hány darab 3-mas szerepel benne.\n",
    "17. Hozzunk létre egy listát és írassuk ki a listában szereplő számok átlagát.\n",
    "18. Hozzunk létre egy listát és írassuk ki a listában található legnagyobb elemet.\n",
    "19. Hozzunk létre egy listát és cserléjük le a listában található legkisebb elemet, a listában található legnagyobb elemre.\n",
    "20. Hozzunk létre egy listát és számoljuk meg hog hány olyan eleme van, ami nagyobb vagy egyenlő, mint 2, de kisebb vagy egyenlő, mint 7.\n",
    "21. Hozzunk létre egy listát és írassuk ki, hogy van-e benne 3-mas szám.\n",
    "22. Hozzunk létre egy listát és írassuk ki hogy van-e benne olyan szám, ami osztható 3-mal.\n",
    "23. Hozzunk létre egy listát és rendezzük az elemeit növekvő sorrendbe.\n",
    "24. Hozzunk létre egy listát, ami egyeseket és nullákat tartalmaz csak. Írassuk ki hogy hány egyest tartalmaz a leghosszabb olyan része a listának, ahol csak egyesek vannak egymás után.\n",
    "25. Hozzunk létre egy listát és írassuk ki, hogy hányszor fordul elő, hogy egy páratlan számot egy páros szám követ.\n",
    "26. Hozzunk létre egy listát és írassuk ki a páros számok átlagát.\n",
    "27. Hozzunk létre egy listát és gyűjtsük ki két új, külön listába belőle a 10-nél kisebb vagy egyenlő és a 10-nél nagyobb számokat.\n",
    "28. Hozzunk létre egy listát és döntsük el, hogy a 2-es szám csak egyszer szerepl-e vagy többször is.\n",
    "29. Hozzunk létre egy listát és gyűjtsük ki belőle a számokat egy eredmény listába, úgy, hogy az eredmény listában minden szám csak egyszer szerepeljen.\n",
    "30. Hozzunk létre egy listát és keressük meg, hogy melyik az első olyan index, ahol 3-mas szám szerepel.\n",
    "31. Hozzunk létre egy listát és keressük meg, hogy melyik az utolsó olyan index, ahol páros szám szerepel.\n",
    "32. Hozzunk létre egy listát és gyűjtsük ki egy eredmény listába azokat az indexeket, ahol páros szám szerepel az eredeti listában.\n",
    "33. Rajzoljunk karácsonyfát.\n",
    "34. Hozzunk létre egy listát, amely az első 10 négyzetszámot tartalmazza.\n",
    "35. Hozzunk létre egy listát és írassuk ki a listában szereplő számok szórzatát.\n",
    "36. Kérjünk be egy számot a felhasználótól, majd írassuk ki a számok szórzatát 1-től a bekért számig.\n",
    "37. Hozzunk létre egy listát, amely egész számokat tartalmaz 0-tól 10-ig. Írassuk ki, hogy melyik számot (0-10) hányszor tartalmazza.\n",
    "38. Hozzunk létre egy listát, amely egész számokat tartalmaz nem tudjuk mettől meddig. Írassuk ki, hogy melyik számot hányszor tartalmazza.\n",
    "39. Hozzunk létre egy listát, majd kérjünk be a felhasználótól egy számot. Írassuk ki, hogy a lista tartalmazza-e a felhasználó által megadott számot.\n",
    "40. Hozzunk létre egy listát és írassuk ki, hogy páros vagy páratlan számokból tartalmaz-e többet.\n",
    "41. Hozzunk létre egy listát, majd kérjünk be egy számot a felhasználótól. Írassuk ki, hogy van-e (és ha igen melyik) két olyan száma listában, amelyeknek az összege egyenlő a felhasználó által megadott számmal.\n",
    "42. Kérjünk be egy számot a felhasználótól. Írassuk ki a számokat egymás alá egytől a bekért számig, úgy, hogy ha egy szám osztható 3-mal, vagy tartalmazza a 3-mas számjegyet, akkor annak a helyére csak annyit írjunk, hogy \"BUMMM\".\n",
    "43. Kérjünk be egy szót, majd írassuk ki, hogy hány betűből áll.\n",
    "44. Kérjünk be egy szót, majd írassuk ki, hogy hány 'e' betű szerepel a szóban.\n",
    "45. Kérjünk be egy számot, majd írassuk ki, hogy hány egyes számjegy szerepel a számban.\n",
    "46. Kérjünk be egy szót, majd írassuk ki a betűit egymás alá úgy, hogy minden betű után írunk egy csillagot is, új sorba.\n",
    "47. Kérjünk be egy szót, majd írassuk ki a betűit egymás mellé úgy, hogy minden betű után írunk egy csillagot is.\n",
    "48. Kérjünk be egy szót, majd írassuk ki a betűit egymás alá úgy, hogy a betűk közé egy csillagot (tehát az utolsó betű után nem).\n",
    "49. Kérjük be a jelszót a felhasználótól és ellenőrizzük le, hogy egyezik-e a programban megadottal. Ha igen írjuk ki, hogy „Helyes jelszó”, ha nem akkor azt, hogy „Helytelen, próbálja újra”. 3 lehetőséget adunk a jelszó kitalálására, ha egyszer sem sikerül a helyes jelszót megadnia írjuk ki, hogy „Nem sikerült megadni a helyes jelszót”\n",
    "50. Kérjünk be egy szót és írassuk ki visszafelé.\n",
    "51. Kérjünk be szavakat, addig, amíg a felhasználó azt nem írja, hogy \"vége\". A bekért szavakat (kivéve a végszót, tehát azt hogy \"vége\") tároljuk el egy listában.\n",
    "52. Kérjünk be szavakat, addig, amíg a felhasználó egy üres entert nem ír. A bekért szavakat tároljuk el egy listában.\n",
    "53. Kérjünk be a felhasználótól egy számot (`n`) és írassuk ki a Fibonacci sor `n`. elemét.\n",
    "54. Kérjünk be a felhasználótól egy számot (`n`) és írassuk ki a Fibonacci sor első `n` elemét.\n",
    "55. Kérjünk be egy számot a felhasználótól és döntsük el róla, hogy prímszám-e\n",
    "56. Hozzunk létre két listát, amelyek nem tartalmaznak ismétlődéseket. Egy harmadik listába gyűjtsük össze azokat a számokat, amelyek mind a két listában szerepelnek (a listák metszetét).\n",
    "\n",
    "\n",
    "# Megoldások\n",
    "\n",
    "## 1. Feladat - Hello\n",
    "\n",
    "Írassuk ki 3-szor egymás alá, hogy \"Hello!\".\n",
    "\n",
    "### I. Megoldás\n",
    "\n",
    "Mivel csak háromszor kell kiíratnunk, ezért ezt könnyen megtehetjük 3 darab `print` utasítással is akár."
   ]
  },
  {
   "cell_type": "code",
   "execution_count": 2,
   "id": "fb43432b",
   "metadata": {},
   "outputs": [
    {
     "name": "stdout",
     "output_type": "stream",
     "text": [
      "Hello!\n",
      "Hello!\n",
      "Hello!\n"
     ]
    }
   ],
   "source": [
    "print(\"Hello!\")\n",
    "print(\"Hello!\")\n",
    "print(\"Hello!\")"
   ]
  },
  {
   "cell_type": "markdown",
   "id": "28efbb90",
   "metadata": {},
   "source": [
    "### II. Megoldás\n",
    "\n",
    "Sőt, akár egyetlen egy `print` utasítással is megtehetjük, úgy hogy ugyanazt az eredményt kapjuk."
   ]
  },
  {
   "cell_type": "code",
   "execution_count": 1,
   "id": "7c74d1c5",
   "metadata": {},
   "outputs": [
    {
     "name": "stdout",
     "output_type": "stream",
     "text": [
      "Hello!\n",
      "Hello!\n",
      "Hello\n"
     ]
    }
   ],
   "source": [
    "print(\"Hello!\\nHello!\\nHello\")"
   ]
  },
  {
   "cell_type": "markdown",
   "id": "a1f65e43",
   "metadata": {},
   "source": [
    "### III. Megoldás\n",
    "\n",
    "Egy fokkal elegánsabb, ha az előző megoldást úgy módosítjuk, hogy a `print` függvénynek megadunk egy elválasztó jelet. Ez azt jelenti, hogy a függvény híváskor vesszővel egyessével felsorolt paramétereket mivel válassza el egymástól a kiíratáskor. Alap esetben láttuk, hogy szóközzel választja őket el. De megadhatjuk azt is, hogy a sortörés (`'\\n'`) legyen az új elválasztó, egyszerűen oda kell írnunk a végére vesszővel elválasztva, hogy `sep='\\n'`"
   ]
  },
  {
   "cell_type": "code",
   "execution_count": 4,
   "id": "b752f4c6",
   "metadata": {},
   "outputs": [
    {
     "name": "stdout",
     "output_type": "stream",
     "text": [
      "Hello!\n",
      "Hello!\n",
      "Hello!\n"
     ]
    }
   ],
   "source": [
    "print(\"Hello!\", \"Hello!\", \"Hello!\", sep='\\n')"
   ]
  },
  {
   "cell_type": "markdown",
   "id": "1134c828",
   "metadata": {},
   "source": [
    "### IV. Megoldás\n",
    "\n",
    "Azonban előfordulhat, hogy nem csak 3-szor kell elvégeznünk ezt a kiíratást, hanem például 100-szor. Ebben az esetben nem szeretnénk mind a száz utasítást egyesével legépelni. Viszont, mivel ugyanazt az utasítást hajtjuk végre, így érdemes `for` ciklust használni. \n",
    "\n",
    "A `range` segítségével egy 3 hosszú intervallumot hozunk létre, így a ciklus belsejét 3-szor fogja egymás után végrehajtani a program."
   ]
  },
  {
   "cell_type": "code",
   "execution_count": 5,
   "id": "2a02d91f",
   "metadata": {},
   "outputs": [
    {
     "name": "stdout",
     "output_type": "stream",
     "text": [
      "Hello!\n",
      "Hello!\n",
      "Hello!\n"
     ]
    }
   ],
   "source": [
    "for i in range(3):\n",
    "    print(\"Hello!\")"
   ]
  },
  {
   "cell_type": "markdown",
   "id": "f7e1026f",
   "metadata": {},
   "source": [
    "### V. Megoldás\n",
    "\n",
    "Általában `for` ciklust használunk, azonban `while` ciklus használatával is adhatunk helyes megoldást.\n",
    "\n",
    "* Először létrehozunk egy változót, ami kezdetben például 0. Ezzel a változóval fogjuk számolni, hogy hányszor írattuk már ki azt, hogy `\"Hello\"`. Kezdetben még egyszer sem, ezért adjuk neki a 0 értéket [1]\n",
    "* Utána létrehozunk egy `while` ciklust és a feltételben megadjuk, hogy **addig** ismételje a belsejét, **amíg** a számlálónk nem egyenlő 3-mal. Ha egyenlő lesz 3-mal az azt jelenti, hogy sikerült háromszor kiíratnunk. [2]\n",
    "* A ciklus belsejében 2 dolgot kell csinálnunk, egyrészt kiíratjuk, hogy `\"Hello\"` [3]\n",
    "* Másrészt, minden egyes kiíratás után megnöveljük a számlálónk értékét, amiben számon tartjuk, hogy hányszor írattunk már ki [4]"
   ]
  },
  {
   "cell_type": "code",
   "execution_count": 6,
   "id": "d7ec537e",
   "metadata": {},
   "outputs": [
    {
     "name": "stdout",
     "output_type": "stream",
     "text": [
      "Hello!\n",
      "Hello!\n",
      "Hello!\n"
     ]
    }
   ],
   "source": [
    "számláló = 0 # [1]\n",
    "\n",
    "while számláló != 3: # [2]\n",
    "    print(\"Hello!\") # [3]\n",
    "    számláló = számláló + 1 # [4]"
   ]
  },
  {
   "cell_type": "markdown",
   "id": "ec88a083",
   "metadata": {},
   "source": [
    "### VI. Megoldás\n",
    "\n",
    "Pythonban tudunk szövegeket és számokat szorozni. Ilyenkor a szöveget, annyiszor ismétli meg ahanyas számmal szoroztuk meg. Most ugyanazt a szót kell kiíratnunk újra és újra, így a szórzás is működik. Arra kell figyelni, hogy ne csak magát a `\"Hello!\"` szöveget szorzzuk, hanem egy sortörést is tegyünk a végére, így: `\"Hello!\\n\"`, hogy a következő Hello! mindig új sorba kerüljön. "
   ]
  },
  {
   "cell_type": "code",
   "execution_count": 25,
   "id": "55e94933",
   "metadata": {},
   "outputs": [
    {
     "name": "stdout",
     "output_type": "stream",
     "text": [
      "Hello!\n",
      "Hello!\n",
      "Hello!\n",
      "\n"
     ]
    }
   ],
   "source": [
    "print(\"Hello!\\n\" * 3)"
   ]
  },
  {
   "cell_type": "markdown",
   "id": "ae9a526b",
   "metadata": {},
   "source": [
    "Az előző megoldásokhoz képest, ennek az a hátránya, hogy a végére a 3 Hello! után még kerül egy üres sor. Mivel az utolsó Hello! után ír egy sortörést és a `print` is automatikusan sortöréssel zárja le a kiíratandó szöveget. (Ezt a problémák később, a slicing segítségével meg tudjuk majd oldani)"
   ]
  },
  {
   "cell_type": "markdown",
   "id": "b24ee7a1",
   "metadata": {},
   "source": [
    "## 2. Feladat - Szép napot\n",
    "\n",
    "Kérjünk be egy számot a felhasználótól és annyiszor írassuk ki egymás alá, hogy \"Legyen szép napod!\".\n",
    "\n",
    "### Megoldás\n",
    "\n",
    "Ez nagyon hasonlít az előző feladathoz: megint ki kell íratnunk valamit sokszor egymás alá. A lényeges különbség az, hogy a kód írásakor még nem tudjuk megmondani, hogy hányszor. Be kell kérnünk egy számot a program futása során és annyiszor kell kiíratnunk. Ezért nem tudjuk egymás alá leírni a print utasítást valahányszor, mert nem tudjuk, hogy hányszor kellene leírnunk. Emiatt muszáj `for` ciklust használnunk, hiszen annak meg tudunk adni egy változót, hogy annyiszor hajtsa végre a ciklus belsejét. A változóba pedig előtte eltároljuk a bekért számot.\n",
    "\n",
    "* Bekérünk egy számot a felhasználótól és rögtön átalakítjuk `int`-é és eltároljuk egy `n` változóban. A kiíratást `n`-szer kell majd végrehajtani. [1]\n",
    "* A `for` ciklusnak a `range` segítségével megadjuk, hogy `n`-szer fusson le [2]\n",
    "* Az utasítás amit `n`-szer végre kell hajtani, az a `\"Legyen szép napod!\"` szöveg kiíratása [3]"
   ]
  },
  {
   "cell_type": "code",
   "execution_count": 8,
   "id": "de8216ef",
   "metadata": {},
   "outputs": [
    {
     "name": "stdout",
     "output_type": "stream",
     "text": [
      "Adjon meg egy számot: 5\n",
      "Legyen szép napod!\n",
      "Legyen szép napod!\n",
      "Legyen szép napod!\n",
      "Legyen szép napod!\n",
      "Legyen szép napod!\n"
     ]
    }
   ],
   "source": [
    "n = int(input(\"Adjon meg egy számot: \")) # [1]\n",
    "\n",
    "for i in range(n): # [2]\n",
    "    print(\"Legyen szép napod!\") # [3]"
   ]
  },
  {
   "cell_type": "markdown",
   "id": "a1be8060",
   "metadata": {},
   "source": [
    "## 3. Feladat - számok\n",
    "\n",
    "Írassuk ki a számokat egymás alá 0-tól 10-ig.\n",
    "\n",
    "Nagyon hasonló az előző feladathoz. Megint ki kell íratnunk valamit többször. A következő lépést az jelenti, hogy most nem ugyanazt kell többször kiíratnunk, hanem mindig mást. Ha nem lenne rendszer abban, ahogy a számok egymást követik, akkor nem tudnánk olyan egyszerűen kiíratni őket egymás alá. Most azonban egy nagyon egyszerű rendszer szerint követik egymást a számok: a következő mindig eggyel nagyobb az előzőnél. \n",
    "\n",
    "### I. Megoldás\n",
    "\n",
    "Egy kézenfekvő megoldás, hogy ciklus segítségével kiíratjuk, ugyanannak a változónak az értékét és a kiíratás után a változó értékét mindig megnöveljük eggyel.\n",
    "\n",
    "* Felveszünk egy `x` változót. Az értéke kezdetben 0, mivel ez az első szám, amit ki akarunk íratni [1]\n",
    "* A `for` ciklusban megadjuk, hogy hányszor szeretnénk végrehajtani a kiíratást. Mivel 0-tól 10-ig íratjuk ki a számokat, ami 11 szám, így 11-szer szeretnénk a kiíratást végrehajtnai. [2]\n",
    "* Először kiírjuk az `x` értékét [3]\n",
    "* Majd megnöveljük eggyel az `x` értékét. Azért íratjuk ki először, mivel kezdetben 0 volt az értéke és ha először növelnénk még, akkor 1-et írna ki először [4]"
   ]
  },
  {
   "cell_type": "code",
   "execution_count": 14,
   "id": "ea13257f",
   "metadata": {},
   "outputs": [
    {
     "name": "stdout",
     "output_type": "stream",
     "text": [
      "0\n",
      "1\n",
      "2\n",
      "3\n",
      "4\n",
      "5\n",
      "6\n",
      "7\n",
      "8\n",
      "9\n",
      "10\n"
     ]
    }
   ],
   "source": [
    "x = 0 # [1]\n",
    "\n",
    "for i in range(11): # [2]\n",
    "    print(x) # [3]\n",
    "    x += 1 # [4]"
   ]
  },
  {
   "cell_type": "markdown",
   "id": "da04f75a",
   "metadata": {},
   "source": [
    "### II. Megoldás\n",
    "\n",
    "Azonban sokkal egyszerűbb dolgunk van, ha észrevesszük, hogy az `i` ciklus változó értékét nem is használtuk. Pedig ha a `range`-et használunk, akkor a ciklus változó pont a számokat veszi fel 0-tól egymás után, tehát `for` ciklusban `range` használatával végig tudunk menni a számokon (egy intervallumon). Így csak az `i` értékét kiíratva is ugyanazt az eredményt kapjuk. Arra kell figyelni, hogy a `range`-be írt számot már nem veszi fel a ciklusváltozó (`i`), így 10 helyett 11-et kell írni."
   ]
  },
  {
   "cell_type": "code",
   "execution_count": 15,
   "id": "c37f2319",
   "metadata": {},
   "outputs": [
    {
     "name": "stdout",
     "output_type": "stream",
     "text": [
      "0\n",
      "1\n",
      "2\n",
      "3\n",
      "4\n",
      "5\n",
      "6\n",
      "7\n",
      "8\n",
      "9\n",
      "10\n"
     ]
    }
   ],
   "source": [
    "for i in range(11):\n",
    "    print(i)"
   ]
  },
  {
   "cell_type": "markdown",
   "id": "c65c0ac2",
   "metadata": {},
   "source": [
    "### III. Megoldás\n",
    "\n",
    "Itt is használhatunk akár `while` ciklust is.\n",
    "\n",
    "* Létrehozunk egy változót (`i`), aminek az értékét kiíratjuk majd. Kezdetben 0 értéket adunk (mivel ez az első szám, amit ki akarunk íratni) [1]\n",
    "* A `while` ciklus feltételében megadjuk, hogy addig ismételje a ciklusmag végrehajtását, amíg az `i` értéke kisebb vagy egyenlő, mint 10 (mivel az `i` kezdetben 0 és utána csak növelni fogjuk az értékét, így a számok, amiket fel fog venni, azok pontosan a: 0, 1, 2, 3, 4, 5, 6, 7, 8, 9, 10) [2]\n",
    "* A cikluson belül először kiíratjuk az `i` értékét [3]\n",
    "* Majd megnöveljük eggyel az értékét. Megint először kell kiíratnunk és csak utána növeljük meg az értékét, mivel az kezdetben 0-át adtunk értékül a változónak. [4]"
   ]
  },
  {
   "cell_type": "code",
   "execution_count": 16,
   "id": "9067fe06",
   "metadata": {},
   "outputs": [
    {
     "name": "stdout",
     "output_type": "stream",
     "text": [
      "0\n",
      "1\n",
      "2\n",
      "3\n",
      "4\n",
      "5\n",
      "6\n",
      "7\n",
      "8\n",
      "9\n",
      "10\n"
     ]
    }
   ],
   "source": [
    "i = 0 # [1]\n",
    "\n",
    "while i <= 10: # [2]\n",
    "    print(i) # [3]\n",
    "    i += 1 # [4]"
   ]
  },
  {
   "cell_type": "markdown",
   "id": "596e8cec",
   "metadata": {},
   "source": [
    "## 4. Feladat - páros\n",
    "\n",
    "Írassuk ki a páros számokat egymás alá 1-től 10-ig.\n",
    "\n",
    "Megint valamilyen rendszer szerint kell kiíratnunk a számokat, most a következő szám, mindig 2-vel nagyobb, mint az előző.\n",
    "\n",
    "### I. Megoldás\n",
    "\n",
    "Tudjuk, hogy csak a páros számokat kell kiíratni és 1-től 10-ig az első páros szám a 2. Valamint, 1-től 10-ig 5 darab páros szám van. Tehát a kiíratást 2-től kell kezdeni és 5-ször kell végrehajtani.\n",
    "\n",
    "* Felveszünk egy változót (`x`), aminek az értéke kezdetben 2. [1]\n",
    "* A `for` ciklusban megadjuk, hogy 5-ször ismételje a belsejét [2]\n",
    "* Elvégezzük a kiíratását `x`-nek [3]\n",
    "* Majd kettővel növeljük `x` értékét [4]"
   ]
  },
  {
   "cell_type": "code",
   "execution_count": 17,
   "id": "046eb26c",
   "metadata": {},
   "outputs": [
    {
     "name": "stdout",
     "output_type": "stream",
     "text": [
      "2\n",
      "4\n",
      "6\n",
      "8\n",
      "10\n"
     ]
    }
   ],
   "source": [
    "x = 2\n",
    "\n",
    "for i in range(5):\n",
    "    print(x)\n",
    "    x += 2"
   ]
  },
  {
   "cell_type": "markdown",
   "id": "440664de",
   "metadata": {},
   "source": [
    "### II. Megoldás\n",
    "\n",
    "A `for` ciklus használatával még egyszerűbben megadhatjuk, ugyanis a `range`-nek megadhatunk kezdőpontot, végpontot és lépésközt is. Eddig csak a végpontot adtuk meg. Ilyenkor a kezdőpont automatikusan 0, a lépésköz pedig 1. A `range` megfelelő beállítása után használhatjuk a ciklusváltozó `i` értékét a kiíratáskor. Ebben az esetben meg kell adni, hogy 2-től megy 11-ig (hogy a 10-es számot még felvegye) és a lépésköz pedig 2 legyen (hogy csak a páros számokat írja ki)."
   ]
  },
  {
   "cell_type": "code",
   "execution_count": 18,
   "id": "d16fed4e",
   "metadata": {},
   "outputs": [
    {
     "name": "stdout",
     "output_type": "stream",
     "text": [
      "2\n",
      "4\n",
      "6\n",
      "8\n",
      "10\n"
     ]
    }
   ],
   "source": [
    "for i in range(2, 11, 2):\n",
    "    print(i)"
   ]
  },
  {
   "cell_type": "markdown",
   "id": "f3320753",
   "metadata": {},
   "source": [
    "### III. Megoldás\n",
    "\n",
    "`while` ciklus segítségével.\n",
    "\n",
    "Az előző feladathoz nagyon hasonlóan oldjuk meg. Az egyetlen különbség, hogy ahelyett, hogy eggyel növelnénk mindig a változót, amit ki kell írni, most 2-vel növeljük."
   ]
  },
  {
   "cell_type": "code",
   "execution_count": 19,
   "id": "005abdca",
   "metadata": {},
   "outputs": [
    {
     "name": "stdout",
     "output_type": "stream",
     "text": [
      "2\n",
      "4\n",
      "6\n",
      "8\n",
      "10\n"
     ]
    }
   ],
   "source": [
    "i = 2\n",
    "\n",
    "while i <= 10:\n",
    "    print(i)\n",
    "    i += 2"
   ]
  },
  {
   "cell_type": "markdown",
   "id": "89a9bd8e",
   "metadata": {},
   "source": [
    "### IV. Megoldás\n",
    "\n",
    "Csinálhatjuk azt is, hogy a ciklusban, például `for` ciklusban az összes számon végigmegyünk 1-től 10-ig és csak akkor íratjuk ki, ha az aktuális szám páros.\n",
    "\n",
    "* A `for` ciklus segítségével végig megyünk a számokon 1-től 10-ig. Csak a kezdő és vég pontot adjuk meg a `range`-nek. [1]\n",
    "* **Ha** a ciklusváltozó (`i`) páros, akkor kiíratjuk. [2]\n",
    "\n",
    "Programozásban azt, hogy egy szám páros-e a következő képpen vizsgáljuk: `i % 2 == 0`. Ez a kifejezés, akkor lesz igaz, ha `i` páros és akkor lesz hamis, ha `i` páratlan. Mit is jelent ez a kifejezés? `i % 2` egy művelet, mint az összeadás vagy az osztás. A jelnetése maradékos osztás. Például a `4 % 3` eredmény az, hogy \"ha elosztom a 4-et 3-mal, akkor mi lesz a maradék\""
   ]
  },
  {
   "cell_type": "code",
   "execution_count": 22,
   "id": "7daa0925",
   "metadata": {},
   "outputs": [
    {
     "name": "stdout",
     "output_type": "stream",
     "text": [
      "4-et elosztva 3-mal, a maradék: 1\n",
      "7-et elosztva 4-el, a maradék: 3\n"
     ]
    }
   ],
   "source": [
    "print(\"4-et elosztva 3-mal, a maradék:\", 4 % 3)\n",
    "print(\"7-et elosztva 4-el, a maradék:\", 7 % 4)"
   ]
  },
  {
   "cell_type": "markdown",
   "id": "c86e2a5c",
   "metadata": {},
   "source": [
    "Tehát, ha arra vagyok kíváncsi, hogy egy szám páros-e, akkor azt kell megnézni, hogy 2-vel ostva a maradék 0-e. Egy szám ugyanis akkor osztható egy másikkal, ha az osztási maradék 0. Ezt vizsgáljuk a 2 egyenlőség jellel."
   ]
  },
  {
   "cell_type": "code",
   "execution_count": 24,
   "id": "adbe1d55",
   "metadata": {},
   "outputs": [
    {
     "name": "stdout",
     "output_type": "stream",
     "text": [
      "2\n",
      "4\n",
      "6\n",
      "8\n",
      "10\n"
     ]
    }
   ],
   "source": [
    "for i in range(1, 11): # [1]\n",
    "    if i % 2 == 0: # [2]\n",
    "        print(i)"
   ]
  },
  {
   "cell_type": "markdown",
   "id": "2bc8f580",
   "metadata": {},
   "source": [
    "## 5. Feladat - bekért szám\n",
    "\n",
    "Kérjünk be egy számot a felhasználótól és 0-tól a bekért számig írassuk ki egymás alá a számokat.\n",
    "\n",
    "### Megoldás\n",
    "\n",
    "Az előző feladatok megoldhatóak akár ciklus nélkül is, csak egymás alá írva az utasításokat. Most azonban nem tudjuk előre a kód írásakor, hogy hány számot kell kiírnunk, így mindenképpen ciklust kell használni. A különbség az, hogy bekérünk egy számot és eltároljuk egy `n` változóban, majd a `range`-ben megadjuk, hogy `n+1`-ig megyünk a számokkal, hogy az `n`-et is kiírja."
   ]
  },
  {
   "cell_type": "code",
   "execution_count": 26,
   "id": "72742950",
   "metadata": {},
   "outputs": [
    {
     "name": "stdout",
     "output_type": "stream",
     "text": [
      "Adjon meg egy számot: 5\n",
      "0\n",
      "1\n",
      "2\n",
      "3\n",
      "4\n",
      "5\n"
     ]
    }
   ],
   "source": [
    "n = int(input(\"Adjon meg egy számot: \"))\n",
    "\n",
    "for i in range(0, n+1):\n",
    "    print(i)"
   ]
  },
  {
   "cell_type": "markdown",
   "id": "5fd9d481",
   "metadata": {},
   "source": [
    "## 6. Feladat - tól-ig\n",
    "\n",
    "Két számot kérjünk be a felhasználótól és az első bekért számtól a másodikig írassuk ki egymás alá a számokat.\n",
    "\n",
    "### Megoldás\n",
    "\n",
    "Az előzőhöz képest most nem csak a felső határt kérjük be és adjuk át a `range`-nek hanem a kezdőpontot is."
   ]
  },
  {
   "cell_type": "code",
   "execution_count": 27,
   "id": "ec8e512f",
   "metadata": {},
   "outputs": [
    {
     "name": "stdout",
     "output_type": "stream",
     "text": [
      "Adjon meg egy számot: 3\n",
      "Adjon meg még egy számot: 7\n",
      "3\n",
      "4\n",
      "5\n",
      "6\n",
      "7\n"
     ]
    }
   ],
   "source": [
    "a = int(input(\"Adja meg az első számot: \"))\n",
    "b = int(input(\"Adja meg a második számot: \"))\n",
    "\n",
    "for i in range(a, b+1):\n",
    "    print(i)"
   ]
  },
  {
   "cell_type": "markdown",
   "id": "ebc70bd6",
   "metadata": {},
   "source": [
    "## 7. Feladat - tól-ig: hiba\n",
    "\n",
    "Két számot kérjünk be a felhasználótól és az első bekért számtól a másodikig írassuk ki egymás alá a számokat. Rakjunk bele hiba ellenőrzést is: csak akkor írassuk ki a számokat ha a második szám nagyobb vagy egyenlő-e mint az első, ha ez nem teljesül adjunk hibaüzenetet.\n",
    "\n",
    "### Megoldás\n",
    "\n",
    "Az előző feladatot ki kell egészíteni egy ellenőrzéssel, amikor megnézzük, hogy a végpont nagyobb vagy egyenlő-e mint a kezdőpont. **Ha** ez igaz, akkor kiíratjuk a számokat, **máskülönben** kiíratunk egy ihbaüzenetet."
   ]
  },
  {
   "cell_type": "code",
   "execution_count": 28,
   "id": "53b0d0f5",
   "metadata": {},
   "outputs": [
    {
     "name": "stdout",
     "output_type": "stream",
     "text": [
      "Adja meg az első számot: 12\n",
      "Adja meg a második számot: 3\n",
      "Hiba! A végpont nagyobb vagy egyenlő kell, hogy legyen, mint a kezdőpont.\n"
     ]
    }
   ],
   "source": [
    "a = int(input(\"Adja meg az első számot: \"))\n",
    "b = int(input(\"Adja meg a második számot: \"))\n",
    "\n",
    "if b >= a:\n",
    "    for i in range(a, b+1):\n",
    "        print(i)\n",
    "else:\n",
    "    print(\"Hiba! A végpont nagyobb vagy egyenlő kell, hogy legyen, mint a kezdőpont.\")"
   ]
  },
  {
   "cell_type": "markdown",
   "id": "37736f9e",
   "metadata": {},
   "source": [
    "## 8. Feladat - lista\n",
    "\n",
    "Hozzunk létre egy listát és írassuk ki az elemeit egymás alá.\n",
    "\n",
    "### I. Megoldás\n",
    "\n",
    "`for` ciklussal végig megyünk egy lista elemein (a ciklusváltozót `elme`-nek neveztem el, hogy olvashatóbb legyen, de ez nem kötelező bárhogy nevezhetjük)"
   ]
  },
  {
   "cell_type": "code",
   "execution_count": 29,
   "id": "77a06a7c",
   "metadata": {},
   "outputs": [
    {
     "name": "stdout",
     "output_type": "stream",
     "text": [
      "a\n",
      "b\n",
      "c\n"
     ]
    }
   ],
   "source": [
    "lista = ['a', 'b', 'c']\n",
    "\n",
    "for elem in lista:\n",
    "    print(elem)"
   ]
  },
  {
   "cell_type": "markdown",
   "id": "add17e47",
   "metadata": {},
   "source": [
    "### II. Megoldás\n",
    "\n",
    "Nem közvetlenül a listán megyünk végig hanem az indexeken (egészen pontosan egy intervallumon megyünk végig, tehát a számokon 0-tól a lista hossza-1-ig, ami pont a lista indexeit jelenti sorban)."
   ]
  },
  {
   "cell_type": "code",
   "execution_count": 30,
   "id": "0155c3bd",
   "metadata": {},
   "outputs": [
    {
     "name": "stdout",
     "output_type": "stream",
     "text": [
      "a\n",
      "b\n",
      "c\n"
     ]
    }
   ],
   "source": [
    "lista = ['a', 'b', 'c']\n",
    "\n",
    "for i in range(len(lista)):\n",
    "    print(lista[i])"
   ]
  },
  {
   "cell_type": "markdown",
   "id": "94f4c24a",
   "metadata": {},
   "source": [
    "## 9. Feladat - fordított\n",
    "\n",
    "Hozzunk létre egy listát és írassuk ki az elemeit egymás alá de fordított sorrendben.\n",
    "\n",
    "Sok féle megoldás van, mindegyiknél az indexekkel kell játszani.\n",
    "\n",
    "* **I. Megoldás** Csinálhatjuk úgy, hogy 0-2 ([0,2] intervallumon) megyünk a `for` ciklussal. Az indexelésénél pedig `-i` indexet veszük, hogy visszafelé írja a számokat, így az index a -0, -1, -2 számokat veszi fel, így még egyet ki kell belőle vonni (`-i-1`), hogy a -1, -2, -3 számokat vegye fel\n",
    "* **II. Megoldás** Ennél egy fokkal egyszerűbb, ha az `i` értékekkel eleve az 1-3 ([1,3] intervallumon) megyünk és egyszerűen a `-i` indexeket íratjuk ki.\n",
    "* **III. Megoldás** Azt is csinálhatjuk, hogy a `range`-ben kezdő értéknek a lista hossza-1-et adunk meg; a lépésköznek pedig -1-et, hogy visszafelé lépkedjen; a végpontot úgy választjuk meg, hogy a 0 legyen az utolsó szám, amit felvesz: szóval -1-et írunk a végponthoz is.\n",
    "* **IV. Megoldás** `while` ciklus segítségével a lista utolsó elemétől lépkedünk, **addig**, amíg ki nem írtuk a 0. elemet is.\n",
    "\n",
    "\n",
    "### I. Megoldás"
   ]
  },
  {
   "cell_type": "code",
   "execution_count": 34,
   "id": "83b5e0ad",
   "metadata": {},
   "outputs": [
    {
     "name": "stdout",
     "output_type": "stream",
     "text": [
      "c\n",
      "b\n",
      "a\n"
     ]
    }
   ],
   "source": [
    "lista = ['a', 'b', 'c']\n",
    "\n",
    "for i in range(len(lista)):\n",
    "    print(lista[-i-1])"
   ]
  },
  {
   "cell_type": "markdown",
   "id": "91f819a5",
   "metadata": {},
   "source": [
    "### II. Megoldás"
   ]
  },
  {
   "cell_type": "code",
   "execution_count": 35,
   "id": "4b4648d9",
   "metadata": {},
   "outputs": [
    {
     "name": "stdout",
     "output_type": "stream",
     "text": [
      "c\n",
      "b\n",
      "a\n"
     ]
    }
   ],
   "source": [
    "lista = ['a', 'b', 'c']\n",
    "\n",
    "for i in range(1, len(lista)+1):\n",
    "    print(lista[-i])"
   ]
  },
  {
   "cell_type": "markdown",
   "id": "ca06b159",
   "metadata": {},
   "source": [
    "### III. Megoldás"
   ]
  },
  {
   "cell_type": "code",
   "execution_count": 37,
   "id": "74e00642",
   "metadata": {},
   "outputs": [
    {
     "name": "stdout",
     "output_type": "stream",
     "text": [
      "c\n",
      "b\n",
      "a\n"
     ]
    }
   ],
   "source": [
    "lista = ['a', 'b', 'c']\n",
    "\n",
    "for i in range(len(lista)-1,-1, -1):\n",
    "    print(lista[i])"
   ]
  },
  {
   "cell_type": "markdown",
   "id": "c3183972",
   "metadata": {},
   "source": [
    "### IV. Megoldás"
   ]
  },
  {
   "cell_type": "code",
   "execution_count": 39,
   "id": "bc6d1784",
   "metadata": {},
   "outputs": [
    {
     "name": "stdout",
     "output_type": "stream",
     "text": [
      "c\n",
      "b\n",
      "a\n"
     ]
    }
   ],
   "source": [
    "lista = ['a', 'b', 'c']\n",
    "\n",
    "i = len(lista) - 1 \n",
    "\n",
    "while i >= 0:\n",
    "    print(lista[i])\n",
    "    i -= 1"
   ]
  },
  {
   "cell_type": "markdown",
   "id": "4dafac55",
   "metadata": {},
   "source": [
    "## 10. Feladat - tárolás\n",
    "\n",
    "Kérjünk be a felhasználótól 5 számot és tároljuk el őket egy listában.\n",
    "\n",
    "### Megoldás\n",
    "\n",
    "* Létrehozunk egy üres listát [1]\n",
    "* `for` ciklus segítségével 5-ször végrehajtjuk a következő utasításokat egymás után: [2]\n",
    "* Bekérünk egy számot a felhasználótól [3]\n",
    "* Hozzáfűzzük a kezdetben üres lista végéhez a bekért számot [4]\n",
    "* Kiíratjuk a listát [5]"
   ]
  },
  {
   "cell_type": "code",
   "execution_count": 40,
   "id": "9375f99c",
   "metadata": {},
   "outputs": [
    {
     "name": "stdout",
     "output_type": "stream",
     "text": [
      "Adjon meg egy számot: 3\n",
      "Adjon meg egy számot: 6\n",
      "Adjon meg egy számot: 7\n",
      "Adjon meg egy számot: 2\n",
      "Adjon meg egy számot: 4\n",
      "[3, 6, 7, 2, 4]\n"
     ]
    }
   ],
   "source": [
    "lista = [] # [1]\n",
    "\n",
    "for i in range(5): # [2]\n",
    "    x = int(input(\"Adjon meg egy számot: \")) # [3]\n",
    "    lista.append(x) # [4]\n",
    "    \n",
    "print(lista) # [5]"
   ]
  },
  {
   "cell_type": "markdown",
   "id": "66e13304",
   "metadata": {},
   "source": [
    "## 11. Feladat - kétszeres\n",
    "\n",
    "Hozzunk létre egy listát, majd írassuk ki a lista elemeinek a kétszeresét.\n",
    "\n",
    "### Megoldás\n",
    "\n",
    "Végig kell mennünk a lista elemein egy ciklusváltozó (`elem`) segítségével és ezúttal nem egyszerűen a ciklusváltozót kell kiíratni, hanem a kétszeresét."
   ]
  },
  {
   "cell_type": "code",
   "execution_count": 41,
   "id": "5f0da1d8",
   "metadata": {},
   "outputs": [
    {
     "name": "stdout",
     "output_type": "stream",
     "text": [
      "4\n",
      "10\n",
      "2\n",
      "6\n",
      "14.6\n"
     ]
    }
   ],
   "source": [
    "lista = [2, 5, 1, 3, 7.3]\n",
    "\n",
    "for elem in lista:\n",
    "    print(elem*2)"
   ]
  },
  {
   "cell_type": "markdown",
   "id": "4603e96a",
   "metadata": {},
   "source": [
    "## 12. Feladat - létrehozás\n",
    "\n",
    "Hozzunk létre egy listát, amely 1-től 10-ig tartalmazza a számokat.\n",
    "\n",
    "### Megoldás\n",
    "\n",
    "Mivel csak 10 számot kell leírnunk, így egyszerűen mondhatnánk, hogy `lista = [1,2,3,4,5,6,7,8,9,10]`, de ha már 100 számot kellene leírni, akkor nem biztos, hogy így szeretnénk létrehozni ezt a listát. Használjunk hozzá ciklust.\n",
    "\n",
    "* Hozzunk létre egy kezdetben üres listát [1]\n",
    "* `for` ciklus segítségével menjünk végig a számokon 1-től 10-ig [2]\n",
    "* Adjuk hozzá a számot a istához [3]\n",
    "* Írassuk ki a listát [4]"
   ]
  },
  {
   "cell_type": "code",
   "execution_count": 42,
   "id": "775c10ed",
   "metadata": {},
   "outputs": [
    {
     "name": "stdout",
     "output_type": "stream",
     "text": [
      "[1, 2, 3, 4, 5, 6, 7, 8, 9, 10]\n"
     ]
    }
   ],
   "source": [
    "lista = [] # [1]\n",
    "\n",
    "for i in range(1, 11): # [2]\n",
    "    lista.append(i) # [3]\n",
    "    \n",
    "print(lista) # [4]"
   ]
  },
  {
   "cell_type": "markdown",
   "id": "43c70d55",
   "metadata": {},
   "source": [
    "## 13. Feladat - négyzet\n",
    "\n",
    "Hozzunk létre egy listát, majd módosítsuk úgy, hogy az eredeti lista elemek négyzete legyen a listában.\n",
    "\n",
    "### Megoldás\n",
    "\n",
    "A lista elemeit csak az indexek segítségével tudjuk változtatni. Emiatt most nem közvetlenül a lista elemeken kell végig mennünk, hanem az indexeken és lecserélni az `i`. elemet az `i`. elem négyzetére."
   ]
  },
  {
   "cell_type": "code",
   "execution_count": 43,
   "id": "01efff02",
   "metadata": {},
   "outputs": [
    {
     "name": "stdout",
     "output_type": "stream",
     "text": [
      "[1, 36, 4, 2025]\n"
     ]
    }
   ],
   "source": [
    "lista = [1, 6, 2, 45]\n",
    "\n",
    "for i in range(len(lista)):\n",
    "    lista[i] = lista[i]**2\n",
    "\n",
    "print(lista)"
   ]
  },
  {
   "cell_type": "markdown",
   "id": "7844c3eb",
   "metadata": {},
   "source": [
    "## 14. Feladat - ötnél kisebb\n",
    "\n",
    "Hozzunk létre egy listát, majd írassuk ki azokat az elemeket, amelyek kisebbek, mint 5.\n",
    "\n",
    "### Megoldás\n",
    "\n",
    "Közvetlenül a lista elemeit szeretnénk vizsgálni, az indexekre nincs szükségünk. Így közvetlenül a lista elemein megyünk végig és csak azokat íratjuk ki, amelyek kisebbek, mint 5 (tehát **ha** az elem kisebb, mint 5, akkor kiírjuk)"
   ]
  },
  {
   "cell_type": "code",
   "execution_count": 44,
   "id": "8a638ec1",
   "metadata": {},
   "outputs": [
    {
     "name": "stdout",
     "output_type": "stream",
     "text": [
      "1\n",
      "2\n"
     ]
    }
   ],
   "source": [
    "lista = [1, 6, 2, 45]\n",
    "\n",
    "for elem in lista:\n",
    "    if elem < 5:\n",
    "        print(elem)"
   ]
  },
  {
   "cell_type": "markdown",
   "id": "ae3c8786",
   "metadata": {},
   "source": [
    "## 15. Feladat - összeg\n",
    "\n",
    "Hozzunk létre egy listát és írassuk ki a listában szereplő számok összegét.\n",
    "\n",
    "### Megoldás\n",
    "\n"
   ]
  }
 ],
 "metadata": {
  "kernelspec": {
   "display_name": "Python 3 (ipykernel)",
   "language": "python",
   "name": "python3"
  },
  "language_info": {
   "codemirror_mode": {
    "name": "ipython",
    "version": 3
   },
   "file_extension": ".py",
   "mimetype": "text/x-python",
   "name": "python",
   "nbconvert_exporter": "python",
   "pygments_lexer": "ipython3",
   "version": "3.8.10"
  }
 },
 "nbformat": 4,
 "nbformat_minor": 5
}
