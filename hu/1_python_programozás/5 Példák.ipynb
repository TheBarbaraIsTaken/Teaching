{
 "cells": [
  {
   "cell_type": "markdown",
   "id": "99f993dc",
   "metadata": {},
   "source": [
    "# Tartalom jegyzék\n",
    "\n",
    "1. Írassuk ki 3-szor egymás alá, hogy \"Hello!\".\n",
    "2. Kérjünk be egy számot a felhasználótól és annyiszor írassuk ki egymás alá, hogy \"Legyen szép napod!\".\n",
    "3. Írassuk ki a számokat egymás alá 0-tól 10-ig.\n",
    "4. Írassuk ki a páros számokat egymás alá 1-től 10-ig.\n",
    "5. Kérjünk be egy számot a felhasználótól és 0-tól a bekért számig írassuk ki egymás alá a számokat.\n",
    "6. Két számot kérjünk be a felhasználótól és az első bekért számtól a másodikig írassuk ki egymás alá a számokat.\n",
    "7. Két számot kérjünk be a felhasználótól és az első bekért számtól a másodikig írassuk ki egymás alá a számokat. Rakjunk bele hiba ellenőrzést is: csak akkor írassuk ki a számokat ha a második szám nagyobb vagy egyenlő-e mint az első, ha ez nem teljesül adjunk hibaüzenetet.\n",
    "8. Hozzunk létre egy listát és írassuk ki az elemeit egymás alá.\n",
    "9. Hozzunk létre egy listát és írassuk ki az elemeit egymás alá de fordított sorrendben.\n",
    "10. Kérjünk be a felhasználótól 5 számot és tároljuk el őket egy listában.\n",
    "11. Hozzunk létre egy listát, majd írassuk ki a lista elemeinek a kétszeresét.\n",
    "12. Hozzunk létre egy listát, amely 1-től 10-ig tartalmazza a számokat.\n",
    "13. Hozzunk létre egy listát, majd módosítsuk úgy, hogy az eredeti lista elemek négyzete legyen a listában.\n",
    "14. Hozzunk létre egy listát, majd írassuk ki azokat az elemeket, amelyek kisebbek, mint 5.\n",
    "15. Hozzunk létre egy listát és írassuk ki a listában szereplő számok összegét.\n",
    "16. Hozzunk létre egy listát és írassuk ki, hány darab 3-mas szerepel benne.\n",
    "17. Hozzunk létre egy listát és írassuk ki a listában szereplő számok átlagát.\n",
    "18. Hozzunk létre egy listát és írassuk ki a listában található legnagyobb elemet.\n",
    "19. Hozzunk létre egy listát és cserléjük le a listában található legkisebb elemet, a listában található legnagyobb elemre.\n",
    "20. Hozzunk létre egy listát és számoljuk meg hog hány olyan eleme van, ami nagyobb vagy egyenlő, mint 2, de kisebb vagy egyenlő, mint 7.\n",
    "21. Hozzunk létre egy listát és írassuk ki, hogy van-e benne 3-mas szám.\n",
    "22. Hozzunk létre egy listát és írassuk ki hogy van-e benne olyan szám, ami osztható 3-mal.\n",
    "23. Hozzunk létre egy listát és rendezzük az elemeit növekvő sorrendbe.\n",
    "24. Hozzunk létre egy listát, ami egyeseket és nullákat tartalmaz csak. Írassuk ki hogy hány egyest tartalmaz a leghosszabb olyan része a listának, ahol csak egyesek vannak egymás után.\n",
    "25. Hozzunk létre egy listát és írassuk ki, hogy hányszor fordul elő, hogy egy páratlan számot egy páros szám követ.\n",
    "26. Hozzunk létre egy listát és írassuk ki a páros számok átlagát.\n",
    "27. Hozzunk létre egy listát és gyűjtsük ki két új, külön listába belőle a 10-nél kisebb vagy egyenlő és a 10-nél nagyobb számokat.\n",
    "28. Hozzunk létre egy listát és döntsük el, hogy a 2-es szám csak egyszer szerepl-e vagy többször is.\n",
    "29. Hozzunk létre egy listát és gyűjtsük ki belőle a számokat egy eredmény listába, úgy, hogy az eredmény listában minden szám csak egyszer szerepeljen.\n",
    "30. Hozzunk létre egy listát és keressük meg, hogy melyik az első olyan index, ahol 3-mas szám szerepel.\n",
    "31. Hozzunk létre egy listát és keressük meg, hogy melyik az utolsó olyan index, ahol páros szám szerepel.\n",
    "32. Hozzunk létre egy listát és gyűjtsük ki egy eredmény listába azokat az indexeket, ahol páros szám szerepel az eredeti listában.\n",
    "33. Rajzoljunk karácsonyfát.\n",
    "34. Hozzunk létre egy listát, amely az első 10 négyzetszámot tartalmazza.\n",
    "35. Hozzunk létre egy listát és írassuk ki a listában szereplő számok szorzatát.\n",
    "36. Kérjünk be egy számot a felhasználótól, majd írassuk ki a számok szórzatát 1-től a bekért számig.\n",
    "37. Hozzunk létre egy listát, amely egész számokat tartalmaz 0-tól 10-ig. Írassuk ki, hogy melyik számot (0-10) hányszor tartalmazza.\n",
    "38. Hozzunk létre egy listát, amely egész számokat tartalmaz nem tudjuk mettől meddig. Írassuk ki, hogy melyik számot hányszor tartalmazza.\n",
    "39. Hozzunk létre egy listát, majd kérjünk be a felhasználótól egy számot. Írassuk ki, hogy a lista tartalmazza-e a felhasználó által megadott számot.\n",
    "40. Hozzunk létre egy listát és írassuk ki, hogy páros vagy páratlan számokból tartalmaz-e többet.\n",
    "41. Hozzunk létre egy listát, majd kérjünk be egy számot a felhasználótól. Írassuk ki, hogy van-e (és ha igen melyik) két olyan száma listában, amelyeknek az összege egyenlő a felhasználó által megadott számmal.\n",
    "42. Kérjünk be egy számot a felhasználótól. Írassuk ki a számokat egymás alá egytől a bekért számig, úgy, hogy ha egy szám osztható 3-mal, vagy tartalmazza a 3-mas számjegyet, akkor annak a helyére csak annyit írjunk, hogy \"BUMMM\".\n",
    "43. Kérjünk be egy szót, majd írassuk ki, hogy hány betűből áll.\n",
    "44. Kérjünk be egy szót, majd írassuk ki, hogy hány 'e' betű szerepel a szóban.\n",
    "45. Kérjünk be egy számot, majd írassuk ki, hogy hány egyes számjegy szerepel a számban.\n",
    "46. Kérjünk be egy szót, majd írassuk ki a betűit egymás alá úgy, hogy minden betű után írunk egy csillagot is, új sorba.\n",
    "47. Kérjünk be egy szót, majd írassuk ki a betűit egymás mellé úgy, hogy minden betű után írunk egy csillagot is.\n",
    "48. Kérjünk be egy szót, majd írassuk ki a betűit egymás alá úgy, hogy a betűk közé egy csillagot (tehát az utolsó betű után nem).\n",
    "49. Kérjük be a jelszót a felhasználótól és ellenőrizzük le, hogy egyezik-e a programban megadottal. Ha igen írjuk ki, hogy „Helyes jelszó”, ha nem akkor azt, hogy „Helytelen, próbálja újra”. 3 lehetőséget adunk a jelszó kitalálására, ha egyszer sem sikerül a helyes jelszót megadnia írjuk ki, hogy „Nem sikerült megadni a helyes jelszót”\n",
    "50. Kérjünk be egy szót és írassuk ki visszafelé.\n",
    "51. Kérjünk be szavakat, addig, amíg a felhasználó azt nem írja, hogy \"vége\". A bekért szavakat (kivéve a végszót, tehát azt hogy \"vége\") tároljuk el egy listában.\n",
    "52. Kérjünk be szavakat, addig, amíg a felhasználó egy üres entert nem ír. A bekért szavakat tároljuk el egy listában.\n",
    "53. Kérjünk be a felhasználótól egy számot (`n`) és írassuk ki a Fibonacci sor `n`. elemét.\n",
    "54. Kérjünk be a felhasználótól egy számot (`n`) és írassuk ki a Fibonacci sor első `n` elemét.\n",
    "55. Kérjünk be egy számot a felhasználótól és döntsük el róla, hogy prímszám-e\n",
    "56. Hozzunk létre két listát, amelyek nem tartalmaznak ismétlődéseket. Egy harmadik listába gyűjtsük össze azokat a számokat, amelyek mind a két listában szerepelnek (a listák metszetét).\n",
    "\n",
    "\n",
    "# Megoldások\n",
    "\n",
    "## 1. Feladat - Hello\n",
    "\n",
    "Írassuk ki 3-szor egymás alá, hogy \"Hello!\".\n",
    "\n",
    "### I. Megoldás\n",
    "\n",
    "Mivel csak háromszor kell kiíratnunk, ezért ezt könnyen megtehetjük 3 darab `print` utasítással is akár."
   ]
  },
  {
   "cell_type": "code",
   "execution_count": 2,
   "id": "fb43432b",
   "metadata": {},
   "outputs": [
    {
     "name": "stdout",
     "output_type": "stream",
     "text": [
      "Hello!\n",
      "Hello!\n",
      "Hello!\n"
     ]
    }
   ],
   "source": [
    "print(\"Hello!\")\n",
    "print(\"Hello!\")\n",
    "print(\"Hello!\")"
   ]
  },
  {
   "cell_type": "markdown",
   "id": "28efbb90",
   "metadata": {},
   "source": [
    "### II. Megoldás\n",
    "\n",
    "Sőt, akár egyetlen egy `print` utasítással is megtehetjük, úgy hogy ugyanazt az eredményt kapjuk."
   ]
  },
  {
   "cell_type": "code",
   "execution_count": 1,
   "id": "7c74d1c5",
   "metadata": {},
   "outputs": [
    {
     "name": "stdout",
     "output_type": "stream",
     "text": [
      "Hello!\n",
      "Hello!\n",
      "Hello\n"
     ]
    }
   ],
   "source": [
    "print(\"Hello!\\nHello!\\nHello\")"
   ]
  },
  {
   "cell_type": "markdown",
   "id": "a1f65e43",
   "metadata": {},
   "source": [
    "### III. Megoldás\n",
    "\n",
    "Egy fokkal elegánsabb, ha az előző megoldást úgy módosítjuk, hogy a `print` függvénynek megadunk egy elválasztó jelet. Ez azt jelenti, hogy a függvény híváskor vesszővel egyessével felsorolt paramétereket mivel válassza el egymástól a kiíratáskor. Alap esetben láttuk, hogy szóközzel választja őket el. De megadhatjuk azt is, hogy a sortörés (`'\\n'`) legyen az új elválasztó, egyszerűen oda kell írnunk a végére vesszővel elválasztva, hogy `sep='\\n'`"
   ]
  },
  {
   "cell_type": "code",
   "execution_count": 4,
   "id": "b752f4c6",
   "metadata": {},
   "outputs": [
    {
     "name": "stdout",
     "output_type": "stream",
     "text": [
      "Hello!\n",
      "Hello!\n",
      "Hello!\n"
     ]
    }
   ],
   "source": [
    "print(\"Hello!\", \"Hello!\", \"Hello!\", sep='\\n')"
   ]
  },
  {
   "cell_type": "markdown",
   "id": "1134c828",
   "metadata": {},
   "source": [
    "### IV. Megoldás\n",
    "\n",
    "Azonban előfordulhat, hogy nem csak 3-szor kell elvégeznünk ezt a kiíratást, hanem például 100-szor. Ebben az esetben nem szeretnénk mind a száz utasítást egyesével legépelni. Viszont, mivel ugyanazt az utasítást hajtjuk végre, így érdemes `for` ciklust használni. \n",
    "\n",
    "A `range` segítségével egy 3 hosszú intervallumot hozunk létre, így a ciklus belsejét 3-szor fogja egymás után végrehajtani a program."
   ]
  },
  {
   "cell_type": "code",
   "execution_count": 5,
   "id": "2a02d91f",
   "metadata": {},
   "outputs": [
    {
     "name": "stdout",
     "output_type": "stream",
     "text": [
      "Hello!\n",
      "Hello!\n",
      "Hello!\n"
     ]
    }
   ],
   "source": [
    "for i in range(3):\n",
    "    print(\"Hello!\")"
   ]
  },
  {
   "cell_type": "markdown",
   "id": "f7e1026f",
   "metadata": {},
   "source": [
    "### V. Megoldás\n",
    "\n",
    "Általában `for` ciklust használunk, azonban `while` ciklus használatával is adhatunk helyes megoldást.\n",
    "\n",
    "* Először létrehozunk egy változót, ami kezdetben például 0. Ezzel a változóval fogjuk számolni, hogy hányszor írattuk már ki azt, hogy `\"Hello\"`. Kezdetben még egyszer sem, ezért adjuk neki a 0 értéket [1]\n",
    "* Utána létrehozunk egy `while` ciklust és a feltételben megadjuk, hogy **addig** ismételje a belsejét, **amíg** a számlálónk nem egyenlő 3-mal. Ha egyenlő lesz 3-mal az azt jelenti, hogy sikerült háromszor kiíratnunk. [2]\n",
    "* A ciklus belsejében 2 dolgot kell csinálnunk, egyrészt kiíratjuk, hogy `\"Hello\"` [3]\n",
    "* Másrészt, minden egyes kiíratás után megnöveljük a számlálónk értékét, amiben számon tartjuk, hogy hányszor írattunk már ki [4]"
   ]
  },
  {
   "cell_type": "code",
   "execution_count": 6,
   "id": "d7ec537e",
   "metadata": {},
   "outputs": [
    {
     "name": "stdout",
     "output_type": "stream",
     "text": [
      "Hello!\n",
      "Hello!\n",
      "Hello!\n"
     ]
    }
   ],
   "source": [
    "számláló = 0 # [1]\n",
    "\n",
    "while számláló != 3: # [2]\n",
    "    print(\"Hello!\") # [3]\n",
    "    számláló = számláló + 1 # [4]"
   ]
  },
  {
   "cell_type": "markdown",
   "id": "ec88a083",
   "metadata": {},
   "source": [
    "### VI. Megoldás\n",
    "\n",
    "Pythonban tudunk szövegeket és számokat szorozni. Ilyenkor a szöveget, annyiszor ismétli meg ahanyas számmal szoroztuk meg. Most ugyanazt a szót kell kiíratnunk újra és újra, így a szórzás is működik. Arra kell figyelni, hogy ne csak magát a `\"Hello!\"` szöveget szorzzuk, hanem egy sortörést is tegyünk a végére, így: `\"Hello!\\n\"`, hogy a következő Hello! mindig új sorba kerüljön. "
   ]
  },
  {
   "cell_type": "code",
   "execution_count": 25,
   "id": "55e94933",
   "metadata": {},
   "outputs": [
    {
     "name": "stdout",
     "output_type": "stream",
     "text": [
      "Hello!\n",
      "Hello!\n",
      "Hello!\n",
      "\n"
     ]
    }
   ],
   "source": [
    "print(\"Hello!\\n\" * 3)"
   ]
  },
  {
   "cell_type": "markdown",
   "id": "ae9a526b",
   "metadata": {},
   "source": [
    "Az előző megoldásokhoz képest, ennek az a hátránya, hogy a végére a 3 Hello! után még kerül egy üres sor. Mivel az utolsó Hello! után ír egy sortörést és a `print` is automatikusan sortöréssel zárja le a kiíratandó szöveget. (Ezt a problémák később, a slicing segítségével meg tudjuk majd oldani)"
   ]
  },
  {
   "cell_type": "markdown",
   "id": "b24ee7a1",
   "metadata": {},
   "source": [
    "## 2. Feladat - Szép napot\n",
    "\n",
    "Kérjünk be egy számot a felhasználótól és annyiszor írassuk ki egymás alá, hogy \"Legyen szép napod!\".\n",
    "\n",
    "### Megoldás\n",
    "\n",
    "Ez nagyon hasonlít az előző feladathoz: megint ki kell íratnunk valamit sokszor egymás alá. A lényeges különbség az, hogy a kód írásakor még nem tudjuk megmondani, hogy hányszor. Be kell kérnünk egy számot a program futása során és annyiszor kell kiíratnunk. Ezért nem tudjuk egymás alá leírni a print utasítást valahányszor, mert nem tudjuk, hogy hányszor kellene leírnunk. Emiatt muszáj `for` ciklust használnunk, hiszen annak meg tudunk adni egy változót, hogy annyiszor hajtsa végre a ciklus belsejét. A változóba pedig előtte eltároljuk a bekért számot.\n",
    "\n",
    "* Bekérünk egy számot a felhasználótól és rögtön átalakítjuk `int`-é és eltároljuk egy `n` változóban. A kiíratást `n`-szer kell majd végrehajtani. [1]\n",
    "* A `for` ciklusnak a `range` segítségével megadjuk, hogy `n`-szer fusson le [2]\n",
    "* Az utasítás amit `n`-szer végre kell hajtani, az a `\"Legyen szép napod!\"` szöveg kiíratása [3]"
   ]
  },
  {
   "cell_type": "code",
   "execution_count": 8,
   "id": "de8216ef",
   "metadata": {},
   "outputs": [
    {
     "name": "stdout",
     "output_type": "stream",
     "text": [
      "Adjon meg egy számot: 5\n",
      "Legyen szép napod!\n",
      "Legyen szép napod!\n",
      "Legyen szép napod!\n",
      "Legyen szép napod!\n",
      "Legyen szép napod!\n"
     ]
    }
   ],
   "source": [
    "n = int(input(\"Adjon meg egy számot: \")) # [1]\n",
    "\n",
    "for i in range(n): # [2]\n",
    "    print(\"Legyen szép napod!\") # [3]"
   ]
  },
  {
   "cell_type": "markdown",
   "id": "a1be8060",
   "metadata": {},
   "source": [
    "## 3. Feladat - számok\n",
    "\n",
    "Írassuk ki a számokat egymás alá 0-tól 10-ig.\n",
    "\n",
    "Nagyon hasonló az előző feladathoz. Megint ki kell íratnunk valamit többször. A következő lépést az jelenti, hogy most nem ugyanazt kell többször kiíratnunk, hanem mindig mást. Ha nem lenne rendszer abban, ahogy a számok egymást követik, akkor nem tudnánk olyan egyszerűen kiíratni őket egymás alá. Most azonban egy nagyon egyszerű rendszer szerint követik egymást a számok: a következő mindig eggyel nagyobb az előzőnél. \n",
    "\n",
    "### I. Megoldás\n",
    "\n",
    "Egy kézenfekvő megoldás, hogy ciklus segítségével kiíratjuk, ugyanannak a változónak az értékét és a kiíratás után a változó értékét mindig megnöveljük eggyel.\n",
    "\n",
    "* Felveszünk egy `x` változót. Az értéke kezdetben 0, mivel ez az első szám, amit ki akarunk íratni [1]\n",
    "* A `for` ciklusban megadjuk, hogy hányszor szeretnénk végrehajtani a kiíratást. Mivel 0-tól 10-ig íratjuk ki a számokat, ami 11 szám, így 11-szer szeretnénk a kiíratást végrehajtnai. [2]\n",
    "* Először kiírjuk az `x` értékét [3]\n",
    "* Majd megnöveljük eggyel az `x` értékét. Azért íratjuk ki először, mivel kezdetben 0 volt az értéke és ha először növelnénk még, akkor 1-et írna ki először [4]"
   ]
  },
  {
   "cell_type": "code",
   "execution_count": 14,
   "id": "ea13257f",
   "metadata": {},
   "outputs": [
    {
     "name": "stdout",
     "output_type": "stream",
     "text": [
      "0\n",
      "1\n",
      "2\n",
      "3\n",
      "4\n",
      "5\n",
      "6\n",
      "7\n",
      "8\n",
      "9\n",
      "10\n"
     ]
    }
   ],
   "source": [
    "x = 0 # [1]\n",
    "\n",
    "for i in range(11): # [2]\n",
    "    print(x) # [3]\n",
    "    x += 1 # [4]"
   ]
  },
  {
   "cell_type": "markdown",
   "id": "da04f75a",
   "metadata": {},
   "source": [
    "### II. Megoldás\n",
    "\n",
    "Azonban sokkal egyszerűbb dolgunk van, ha észrevesszük, hogy az `i` ciklus változó értékét nem is használtuk. Pedig ha a `range`-et használunk, akkor a ciklus változó pont a számokat veszi fel 0-tól egymás után, tehát `for` ciklusban `range` használatával végig tudunk menni a számokon (egy intervallumon). Így csak az `i` értékét kiíratva is ugyanazt az eredményt kapjuk. Arra kell figyelni, hogy a `range`-be írt számot már nem veszi fel a ciklusváltozó (`i`), így 10 helyett 11-et kell írni."
   ]
  },
  {
   "cell_type": "code",
   "execution_count": 15,
   "id": "c37f2319",
   "metadata": {},
   "outputs": [
    {
     "name": "stdout",
     "output_type": "stream",
     "text": [
      "0\n",
      "1\n",
      "2\n",
      "3\n",
      "4\n",
      "5\n",
      "6\n",
      "7\n",
      "8\n",
      "9\n",
      "10\n"
     ]
    }
   ],
   "source": [
    "for i in range(11):\n",
    "    print(i)"
   ]
  },
  {
   "cell_type": "markdown",
   "id": "c65c0ac2",
   "metadata": {},
   "source": [
    "### III. Megoldás\n",
    "\n",
    "Itt is használhatunk akár `while` ciklust is.\n",
    "\n",
    "* Létrehozunk egy változót (`i`), aminek az értékét kiíratjuk majd. Kezdetben 0 értéket adunk (mivel ez az első szám, amit ki akarunk íratni) [1]\n",
    "* A `while` ciklus feltételében megadjuk, hogy addig ismételje a ciklusmag végrehajtását, amíg az `i` értéke kisebb vagy egyenlő, mint 10 (mivel az `i` kezdetben 0 és utána csak növelni fogjuk az értékét, így a számok, amiket fel fog venni, azok pontosan a: 0, 1, 2, 3, 4, 5, 6, 7, 8, 9, 10) [2]\n",
    "* A cikluson belül először kiíratjuk az `i` értékét [3]\n",
    "* Majd megnöveljük eggyel az értékét. Megint először kell kiíratnunk és csak utána növeljük meg az értékét, mivel az kezdetben 0-át adtunk értékül a változónak. [4]"
   ]
  },
  {
   "cell_type": "code",
   "execution_count": 16,
   "id": "9067fe06",
   "metadata": {},
   "outputs": [
    {
     "name": "stdout",
     "output_type": "stream",
     "text": [
      "0\n",
      "1\n",
      "2\n",
      "3\n",
      "4\n",
      "5\n",
      "6\n",
      "7\n",
      "8\n",
      "9\n",
      "10\n"
     ]
    }
   ],
   "source": [
    "i = 0 # [1]\n",
    "\n",
    "while i <= 10: # [2]\n",
    "    print(i) # [3]\n",
    "    i += 1 # [4]"
   ]
  },
  {
   "cell_type": "markdown",
   "id": "596e8cec",
   "metadata": {},
   "source": [
    "## 4. Feladat - páros\n",
    "\n",
    "Írassuk ki a páros számokat egymás alá 1-től 10-ig.\n",
    "\n",
    "Megint valamilyen rendszer szerint kell kiíratnunk a számokat, most a következő szám, mindig 2-vel nagyobb, mint az előző.\n",
    "\n",
    "### I. Megoldás\n",
    "\n",
    "Tudjuk, hogy csak a páros számokat kell kiíratni és 1-től 10-ig az első páros szám a 2. Valamint, 1-től 10-ig 5 darab páros szám van. Tehát a kiíratást 2-től kell kezdeni és 5-ször kell végrehajtani.\n",
    "\n",
    "* Felveszünk egy változót (`x`), aminek az értéke kezdetben 2. [1]\n",
    "* A `for` ciklusban megadjuk, hogy 5-ször ismételje a belsejét [2]\n",
    "* Elvégezzük a kiíratását `x`-nek [3]\n",
    "* Majd kettővel növeljük `x` értékét [4]"
   ]
  },
  {
   "cell_type": "code",
   "execution_count": 17,
   "id": "046eb26c",
   "metadata": {},
   "outputs": [
    {
     "name": "stdout",
     "output_type": "stream",
     "text": [
      "2\n",
      "4\n",
      "6\n",
      "8\n",
      "10\n"
     ]
    }
   ],
   "source": [
    "x = 2\n",
    "\n",
    "for i in range(5):\n",
    "    print(x)\n",
    "    x += 2"
   ]
  },
  {
   "cell_type": "markdown",
   "id": "440664de",
   "metadata": {},
   "source": [
    "### II. Megoldás\n",
    "\n",
    "A `for` ciklus használatával még egyszerűbben megadhatjuk, ugyanis a `range`-nek megadhatunk kezdőpontot, végpontot és lépésközt is. Eddig csak a végpontot adtuk meg. Ilyenkor a kezdőpont automatikusan 0, a lépésköz pedig 1. A `range` megfelelő beállítása után használhatjuk a ciklusváltozó `i` értékét a kiíratáskor. Ebben az esetben meg kell adni, hogy 2-től megy 11-ig (hogy a 10-es számot még felvegye) és a lépésköz pedig 2 legyen (hogy csak a páros számokat írja ki)."
   ]
  },
  {
   "cell_type": "code",
   "execution_count": 18,
   "id": "d16fed4e",
   "metadata": {},
   "outputs": [
    {
     "name": "stdout",
     "output_type": "stream",
     "text": [
      "2\n",
      "4\n",
      "6\n",
      "8\n",
      "10\n"
     ]
    }
   ],
   "source": [
    "for i in range(2, 11, 2):\n",
    "    print(i)"
   ]
  },
  {
   "cell_type": "markdown",
   "id": "f3320753",
   "metadata": {},
   "source": [
    "### III. Megoldás\n",
    "\n",
    "`while` ciklus segítségével.\n",
    "\n",
    "Az előző feladathoz nagyon hasonlóan oldjuk meg. Az egyetlen különbség, hogy ahelyett, hogy eggyel növelnénk mindig a változót, amit ki kell írni, most 2-vel növeljük."
   ]
  },
  {
   "cell_type": "code",
   "execution_count": 19,
   "id": "005abdca",
   "metadata": {},
   "outputs": [
    {
     "name": "stdout",
     "output_type": "stream",
     "text": [
      "2\n",
      "4\n",
      "6\n",
      "8\n",
      "10\n"
     ]
    }
   ],
   "source": [
    "i = 2\n",
    "\n",
    "while i <= 10:\n",
    "    print(i)\n",
    "    i += 2"
   ]
  },
  {
   "cell_type": "markdown",
   "id": "89a9bd8e",
   "metadata": {},
   "source": [
    "### IV. Megoldás\n",
    "\n",
    "Csinálhatjuk azt is, hogy a ciklusban, például `for` ciklusban az összes számon végigmegyünk 1-től 10-ig és csak akkor íratjuk ki, ha az aktuális szám páros.\n",
    "\n",
    "* A `for` ciklus segítségével végig megyünk a számokon 1-től 10-ig. Csak a kezdő és vég pontot adjuk meg a `range`-nek. [1]\n",
    "* **Ha** a ciklusváltozó (`i`) páros, akkor kiíratjuk. [2]\n",
    "\n",
    "Programozásban azt, hogy egy szám páros-e a következő képpen vizsgáljuk: `i % 2 == 0`. Ez a kifejezés, akkor lesz igaz, ha `i` páros és akkor lesz hamis, ha `i` páratlan. Mit is jelent ez a kifejezés? `i % 2` egy művelet, mint az összeadás vagy az osztás. A jelnetése maradékos osztás. Például a `4 % 3` eredmény az, hogy \"ha elosztom a 4-et 3-mal, akkor mi lesz a maradék\""
   ]
  },
  {
   "cell_type": "code",
   "execution_count": 22,
   "id": "7daa0925",
   "metadata": {},
   "outputs": [
    {
     "name": "stdout",
     "output_type": "stream",
     "text": [
      "4-et elosztva 3-mal, a maradék: 1\n",
      "7-et elosztva 4-el, a maradék: 3\n"
     ]
    }
   ],
   "source": [
    "print(\"4-et elosztva 3-mal, a maradék:\", 4 % 3)\n",
    "print(\"7-et elosztva 4-el, a maradék:\", 7 % 4)"
   ]
  },
  {
   "cell_type": "markdown",
   "id": "c86e2a5c",
   "metadata": {},
   "source": [
    "Tehát, ha arra vagyok kíváncsi, hogy egy szám páros-e, akkor azt kell megnézni, hogy 2-vel ostva a maradék 0-e. Egy szám ugyanis akkor osztható egy másikkal, ha az osztási maradék 0. Ezt vizsgáljuk a 2 egyenlőség jellel."
   ]
  },
  {
   "cell_type": "code",
   "execution_count": 24,
   "id": "adbe1d55",
   "metadata": {},
   "outputs": [
    {
     "name": "stdout",
     "output_type": "stream",
     "text": [
      "2\n",
      "4\n",
      "6\n",
      "8\n",
      "10\n"
     ]
    }
   ],
   "source": [
    "for i in range(1, 11): # [1]\n",
    "    if i % 2 == 0: # [2]\n",
    "        print(i)"
   ]
  },
  {
   "cell_type": "markdown",
   "id": "2bc8f580",
   "metadata": {},
   "source": [
    "## 5. Feladat - bekért szám\n",
    "\n",
    "Kérjünk be egy számot a felhasználótól és 0-tól a bekért számig írassuk ki egymás alá a számokat.\n",
    "\n",
    "### Megoldás\n",
    "\n",
    "Az előző feladatok megoldhatóak akár ciklus nélkül is, csak egymás alá írva az utasításokat. Most azonban nem tudjuk előre a kód írásakor, hogy hány számot kell kiírnunk, így mindenképpen ciklust kell használni. A különbség az, hogy bekérünk egy számot és eltároljuk egy `n` változóban, majd a `range`-ben megadjuk, hogy `n+1`-ig megyünk a számokkal, hogy az `n`-et is kiírja."
   ]
  },
  {
   "cell_type": "code",
   "execution_count": 26,
   "id": "72742950",
   "metadata": {},
   "outputs": [
    {
     "name": "stdout",
     "output_type": "stream",
     "text": [
      "Adjon meg egy számot: 5\n",
      "0\n",
      "1\n",
      "2\n",
      "3\n",
      "4\n",
      "5\n"
     ]
    }
   ],
   "source": [
    "n = int(input(\"Adjon meg egy számot: \"))\n",
    "\n",
    "for i in range(0, n+1):\n",
    "    print(i)"
   ]
  },
  {
   "cell_type": "markdown",
   "id": "5fd9d481",
   "metadata": {},
   "source": [
    "## 6. Feladat - tól-ig\n",
    "\n",
    "Két számot kérjünk be a felhasználótól és az első bekért számtól a másodikig írassuk ki egymás alá a számokat.\n",
    "\n",
    "### Megoldás\n",
    "\n",
    "Az előzőhöz képest most nem csak a felső határt kérjük be és adjuk át a `range`-nek hanem a kezdőpontot is."
   ]
  },
  {
   "cell_type": "code",
   "execution_count": 27,
   "id": "ec8e512f",
   "metadata": {},
   "outputs": [
    {
     "name": "stdout",
     "output_type": "stream",
     "text": [
      "Adjon meg egy számot: 3\n",
      "Adjon meg még egy számot: 7\n",
      "3\n",
      "4\n",
      "5\n",
      "6\n",
      "7\n"
     ]
    }
   ],
   "source": [
    "a = int(input(\"Adja meg az első számot: \"))\n",
    "b = int(input(\"Adja meg a második számot: \"))\n",
    "\n",
    "for i in range(a, b+1):\n",
    "    print(i)"
   ]
  },
  {
   "cell_type": "markdown",
   "id": "ebc70bd6",
   "metadata": {},
   "source": [
    "## 7. Feladat - tól-ig: hiba\n",
    "\n",
    "Két számot kérjünk be a felhasználótól és az első bekért számtól a másodikig írassuk ki egymás alá a számokat. Rakjunk bele hiba ellenőrzést is: csak akkor írassuk ki a számokat ha a második szám nagyobb vagy egyenlő-e mint az első, ha ez nem teljesül adjunk hibaüzenetet.\n",
    "\n",
    "### Megoldás\n",
    "\n",
    "Az előző feladatot ki kell egészíteni egy ellenőrzéssel, amikor megnézzük, hogy a végpont nagyobb vagy egyenlő-e mint a kezdőpont. **Ha** ez igaz, akkor kiíratjuk a számokat, **máskülönben** kiíratunk egy ihbaüzenetet."
   ]
  },
  {
   "cell_type": "code",
   "execution_count": 28,
   "id": "53b0d0f5",
   "metadata": {},
   "outputs": [
    {
     "name": "stdout",
     "output_type": "stream",
     "text": [
      "Adja meg az első számot: 12\n",
      "Adja meg a második számot: 3\n",
      "Hiba! A végpont nagyobb vagy egyenlő kell, hogy legyen, mint a kezdőpont.\n"
     ]
    }
   ],
   "source": [
    "a = int(input(\"Adja meg az első számot: \"))\n",
    "b = int(input(\"Adja meg a második számot: \"))\n",
    "\n",
    "if b >= a:\n",
    "    for i in range(a, b+1):\n",
    "        print(i)\n",
    "else:\n",
    "    print(\"Hiba! A végpont nagyobb vagy egyenlő kell, hogy legyen, mint a kezdőpont.\")"
   ]
  },
  {
   "cell_type": "markdown",
   "id": "37736f9e",
   "metadata": {},
   "source": [
    "## 8. Feladat - lista\n",
    "\n",
    "Hozzunk létre egy listát és írassuk ki az elemeit egymás alá.\n",
    "\n",
    "### I. Megoldás\n",
    "\n",
    "`for` ciklussal végig megyünk egy lista elemein (a ciklusváltozót `elme`-nek neveztem el, hogy olvashatóbb legyen, de ez nem kötelező bárhogy nevezhetjük)"
   ]
  },
  {
   "cell_type": "code",
   "execution_count": 29,
   "id": "77a06a7c",
   "metadata": {},
   "outputs": [
    {
     "name": "stdout",
     "output_type": "stream",
     "text": [
      "a\n",
      "b\n",
      "c\n"
     ]
    }
   ],
   "source": [
    "lista = ['a', 'b', 'c']\n",
    "\n",
    "for elem in lista:\n",
    "    print(elem)"
   ]
  },
  {
   "cell_type": "markdown",
   "id": "add17e47",
   "metadata": {},
   "source": [
    "### II. Megoldás\n",
    "\n",
    "Nem közvetlenül a listán megyünk végig hanem az indexeken (egészen pontosan egy intervallumon megyünk végig, tehát a számokon 0-tól a lista hossza-1-ig, ami pont a lista indexeit jelenti sorban)."
   ]
  },
  {
   "cell_type": "code",
   "execution_count": 30,
   "id": "0155c3bd",
   "metadata": {},
   "outputs": [
    {
     "name": "stdout",
     "output_type": "stream",
     "text": [
      "a\n",
      "b\n",
      "c\n"
     ]
    }
   ],
   "source": [
    "lista = ['a', 'b', 'c']\n",
    "\n",
    "for i in range(len(lista)):\n",
    "    print(lista[i])"
   ]
  },
  {
   "cell_type": "markdown",
   "id": "94f4c24a",
   "metadata": {},
   "source": [
    "## 9. Feladat - fordított\n",
    "\n",
    "Hozzunk létre egy listát és írassuk ki az elemeit egymás alá de fordított sorrendben.\n",
    "\n",
    "Sok féle megoldás van, mindegyiknél az indexekkel kell játszani.\n",
    "\n",
    "* **I. Megoldás** Csinálhatjuk úgy, hogy 0-2 ([0,2] intervallumon) megyünk a `for` ciklussal. Az indexelésénél pedig `-i` indexet veszük, hogy visszafelé írja a számokat, így az index a -0, -1, -2 számokat veszi fel, így még egyet ki kell belőle vonni (`-i-1`), hogy a -1, -2, -3 számokat vegye fel\n",
    "* **II. Megoldás** Ennél egy fokkal egyszerűbb, ha az `i` értékekkel eleve az 1-3 ([1,3] intervallumon) megyünk és egyszerűen a `-i` indexeket íratjuk ki.\n",
    "* **III. Megoldás** Azt is csinálhatjuk, hogy a `range`-ben kezdő értéknek a lista hossza-1-et adunk meg; a lépésköznek pedig -1-et, hogy visszafelé lépkedjen; a végpontot úgy választjuk meg, hogy a 0 legyen az utolsó szám, amit felvesz: szóval -1-et írunk a végponthoz is.\n",
    "* **IV. Megoldás** `while` ciklus segítségével a lista utolsó elemétől lépkedünk, **addig**, amíg ki nem írtuk a 0. elemet is.\n",
    "\n",
    "\n",
    "### I. Megoldás"
   ]
  },
  {
   "cell_type": "code",
   "execution_count": 34,
   "id": "83b5e0ad",
   "metadata": {},
   "outputs": [
    {
     "name": "stdout",
     "output_type": "stream",
     "text": [
      "c\n",
      "b\n",
      "a\n"
     ]
    }
   ],
   "source": [
    "lista = ['a', 'b', 'c']\n",
    "\n",
    "for i in range(len(lista)):\n",
    "    print(lista[-i-1])"
   ]
  },
  {
   "cell_type": "markdown",
   "id": "91f819a5",
   "metadata": {},
   "source": [
    "### II. Megoldás"
   ]
  },
  {
   "cell_type": "code",
   "execution_count": 35,
   "id": "4b4648d9",
   "metadata": {},
   "outputs": [
    {
     "name": "stdout",
     "output_type": "stream",
     "text": [
      "c\n",
      "b\n",
      "a\n"
     ]
    }
   ],
   "source": [
    "lista = ['a', 'b', 'c']\n",
    "\n",
    "for i in range(1, len(lista)+1):\n",
    "    print(lista[-i])"
   ]
  },
  {
   "cell_type": "markdown",
   "id": "ca06b159",
   "metadata": {},
   "source": [
    "### III. Megoldás"
   ]
  },
  {
   "cell_type": "code",
   "execution_count": 37,
   "id": "74e00642",
   "metadata": {},
   "outputs": [
    {
     "name": "stdout",
     "output_type": "stream",
     "text": [
      "c\n",
      "b\n",
      "a\n"
     ]
    }
   ],
   "source": [
    "lista = ['a', 'b', 'c']\n",
    "\n",
    "for i in range(len(lista)-1,-1, -1):\n",
    "    print(lista[i])"
   ]
  },
  {
   "cell_type": "markdown",
   "id": "c3183972",
   "metadata": {},
   "source": [
    "### IV. Megoldás"
   ]
  },
  {
   "cell_type": "code",
   "execution_count": 39,
   "id": "bc6d1784",
   "metadata": {},
   "outputs": [
    {
     "name": "stdout",
     "output_type": "stream",
     "text": [
      "c\n",
      "b\n",
      "a\n"
     ]
    }
   ],
   "source": [
    "lista = ['a', 'b', 'c']\n",
    "\n",
    "i = len(lista) - 1 \n",
    "\n",
    "while i >= 0:\n",
    "    print(lista[i])\n",
    "    i -= 1"
   ]
  },
  {
   "cell_type": "markdown",
   "id": "4dafac55",
   "metadata": {},
   "source": [
    "## 10. Feladat - tárolás\n",
    "\n",
    "Kérjünk be a felhasználótól 5 számot és tároljuk el őket egy listában.\n",
    "\n",
    "### Megoldás\n",
    "\n",
    "* Létrehozunk egy üres listát [1]\n",
    "* `for` ciklus segítségével 5-ször végrehajtjuk a következő utasításokat egymás után: [2]\n",
    "* Bekérünk egy számot a felhasználótól [3]\n",
    "* Hozzáfűzzük a kezdetben üres lista végéhez a bekért számot [4]\n",
    "* Kiíratjuk a listát [5]"
   ]
  },
  {
   "cell_type": "code",
   "execution_count": 40,
   "id": "9375f99c",
   "metadata": {},
   "outputs": [
    {
     "name": "stdout",
     "output_type": "stream",
     "text": [
      "Adjon meg egy számot: 3\n",
      "Adjon meg egy számot: 6\n",
      "Adjon meg egy számot: 7\n",
      "Adjon meg egy számot: 2\n",
      "Adjon meg egy számot: 4\n",
      "[3, 6, 7, 2, 4]\n"
     ]
    }
   ],
   "source": [
    "lista = [] # [1]\n",
    "\n",
    "for i in range(5): # [2]\n",
    "    x = int(input(\"Adjon meg egy számot: \")) # [3]\n",
    "    lista.append(x) # [4]\n",
    "    \n",
    "print(lista) # [5]"
   ]
  },
  {
   "cell_type": "markdown",
   "id": "66e13304",
   "metadata": {},
   "source": [
    "## 11. Feladat - kétszeres\n",
    "\n",
    "Hozzunk létre egy listát, majd írassuk ki a lista elemeinek a kétszeresét.\n",
    "\n",
    "### Megoldás\n",
    "\n",
    "Végig kell mennünk a lista elemein egy ciklusváltozó (`elem`) segítségével és ezúttal nem egyszerűen a ciklusváltozót kell kiíratni, hanem a kétszeresét."
   ]
  },
  {
   "cell_type": "code",
   "execution_count": 41,
   "id": "5f0da1d8",
   "metadata": {},
   "outputs": [
    {
     "name": "stdout",
     "output_type": "stream",
     "text": [
      "4\n",
      "10\n",
      "2\n",
      "6\n",
      "14.6\n"
     ]
    }
   ],
   "source": [
    "lista = [2, 5, 1, 3, 7.3]\n",
    "\n",
    "for elem in lista:\n",
    "    print(elem*2)"
   ]
  },
  {
   "cell_type": "markdown",
   "id": "4603e96a",
   "metadata": {},
   "source": [
    "## 12. Feladat - létrehozás\n",
    "\n",
    "Hozzunk létre egy listát, amely 1-től 10-ig tartalmazza a számokat.\n",
    "\n",
    "### Megoldás\n",
    "\n",
    "Mivel csak 10 számot kell leírnunk, így egyszerűen mondhatnánk, hogy `lista = [1,2,3,4,5,6,7,8,9,10]`, de ha már 100 számot kellene leírni, akkor nem biztos, hogy így szeretnénk létrehozni ezt a listát. Használjunk hozzá ciklust.\n",
    "\n",
    "* Hozzunk létre egy kezdetben üres listát [1]\n",
    "* `for` ciklus segítségével menjünk végig a számokon 1-től 10-ig [2]\n",
    "* Adjuk hozzá a számot a istához [3]\n",
    "* Írassuk ki a listát [4]"
   ]
  },
  {
   "cell_type": "code",
   "execution_count": 42,
   "id": "775c10ed",
   "metadata": {},
   "outputs": [
    {
     "name": "stdout",
     "output_type": "stream",
     "text": [
      "[1, 2, 3, 4, 5, 6, 7, 8, 9, 10]\n"
     ]
    }
   ],
   "source": [
    "lista = [] # [1]\n",
    "\n",
    "for i in range(1, 11): # [2]\n",
    "    lista.append(i) # [3]\n",
    "    \n",
    "print(lista) # [4]"
   ]
  },
  {
   "cell_type": "markdown",
   "id": "43c70d55",
   "metadata": {},
   "source": [
    "## 13. Feladat - négyzet\n",
    "\n",
    "Hozzunk létre egy listát, majd módosítsuk úgy, hogy az eredeti lista elemek négyzete legyen a listában.\n",
    "\n",
    "### Megoldás\n",
    "\n",
    "A lista elemeit csak az indexek segítségével tudjuk változtatni. Emiatt most nem közvetlenül a lista elemeken kell végig mennünk, hanem az indexeken és lecserélni az `i`. elemet az `i`. elem négyzetére."
   ]
  },
  {
   "cell_type": "code",
   "execution_count": 43,
   "id": "01efff02",
   "metadata": {},
   "outputs": [
    {
     "name": "stdout",
     "output_type": "stream",
     "text": [
      "[1, 36, 4, 2025]\n"
     ]
    }
   ],
   "source": [
    "lista = [1, 6, 2, 45]\n",
    "\n",
    "for i in range(len(lista)):\n",
    "    lista[i] = lista[i]**2\n",
    "\n",
    "print(lista)"
   ]
  },
  {
   "cell_type": "markdown",
   "id": "7844c3eb",
   "metadata": {},
   "source": [
    "## 14. Feladat - ötnél kisebb\n",
    "\n",
    "Hozzunk létre egy listát, majd írassuk ki azokat az elemeket, amelyek kisebbek, mint 5.\n",
    "\n",
    "### Megoldás\n",
    "\n",
    "Közvetlenül a lista elemeit szeretnénk vizsgálni, az indexekre nincs szükségünk. Így közvetlenül a lista elemein megyünk végig és csak azokat íratjuk ki, amelyek kisebbek, mint 5 (tehát **ha** az elem kisebb, mint 5, akkor kiírjuk)"
   ]
  },
  {
   "cell_type": "code",
   "execution_count": 44,
   "id": "8a638ec1",
   "metadata": {},
   "outputs": [
    {
     "name": "stdout",
     "output_type": "stream",
     "text": [
      "1\n",
      "2\n"
     ]
    }
   ],
   "source": [
    "lista = [1, 6, 2, 45]\n",
    "\n",
    "for elem in lista:\n",
    "    if elem < 5:\n",
    "        print(elem)"
   ]
  },
  {
   "cell_type": "markdown",
   "id": "ae3c8786",
   "metadata": {},
   "source": [
    "## 15. Feladat - összeg\n",
    "\n",
    "Hozzunk létre egy listát és írassuk ki a listában szereplő számok összegét.\n",
    "\n",
    "### Megoldás\n",
    "\n",
    "Ha egy listáról kell valamilyen jellemzőt kiszámolnunk (például a benne szerplő számok összegét), akkor mindig szükségünk van egy segéd változóra. Azért van erre szükség, mert a listának egyszerre csak egy elemét tudjuk megnézni. Tehát az elemek összegét gyűjtenünk kell egy változóban. Amikor megnézzük a lista egy elemét, akkor annak az értékét hozzáadjuk a változóhoz. Tehát abban a változóban \"gyűjtjük\" a számok összegét.\n",
    "\n",
    "Ehhez egy `for` ciklus segítségével végig megyünk a lista elemein és egy segéd változóban (`osszeg`) gyűjtjük a számok összegét. Az `osszeg` értéke kezdetben 0 és mivel csak a lista elemeit adjuk utána hozzá, így végül pont a lista elemeinek az összege lesz benne."
   ]
  },
  {
   "cell_type": "code",
   "execution_count": 1,
   "id": "5cf50818",
   "metadata": {},
   "outputs": [
    {
     "name": "stdout",
     "output_type": "stream",
     "text": [
      "54\n"
     ]
    }
   ],
   "source": [
    "lista = [1, 6, 2, 45]\n",
    "\n",
    "osszeg = 0\n",
    "for elem in lista:\n",
    "    osszeg += elem\n",
    "    \n",
    "print(osszeg)"
   ]
  },
  {
   "cell_type": "markdown",
   "id": "f5239b67",
   "metadata": {},
   "source": [
    "## 16. Feladat - 3-masok\n",
    "\n",
    "Hozzunk létre egy listát és írassuk ki, hány darab 3-mas szerepel benne.\n",
    "\n",
    "### Megoldás\n",
    "\n",
    "Az előzőhöz hasonlóan megint ki kell számolnunk valamilyen jellemzőjét a listának. Most a hármasok darab számát kell \"összegyűjteni\". Ehhez megint egy segéd változóra lesz szükség, amiben azt gyűjtjük, hogy hány darab hármast találtunk már miközben megyünk végig a listán. Az értéke ennek is kezdetben 0 és mire végigérünk a listán (tehát minden elemet megnéztünk) a listában szereplő hármasok számával lesz egyenlő az értéke. \n",
    "\n",
    "Ezt úgy érjük el, hogy minden elemet megvizsgálunk és **ha** az egyenlő 3-mal (tehát találtunk egy hármas számot a listában), akkor a segéd változó (`szamlalo`) értékét eggyel megnöveljük."
   ]
  },
  {
   "cell_type": "code",
   "execution_count": 2,
   "id": "8b6d0f22",
   "metadata": {},
   "outputs": [
    {
     "name": "stdout",
     "output_type": "stream",
     "text": [
      "3\n"
     ]
    }
   ],
   "source": [
    "lista = [1, 3, 6, 2, 3, 3, 45]\n",
    "\n",
    "szamlalo = 0\n",
    "for elem in lista:\n",
    "    if elem == 3:\n",
    "        szamlalo += 1\n",
    "    \n",
    "print(szamlalo)"
   ]
  },
  {
   "cell_type": "markdown",
   "id": "cbd8965c",
   "metadata": {},
   "source": [
    "## 17. Feladat - átlag\n",
    "\n",
    "Hozzunk létre egy listát és írassuk ki a listában szereplő számok átlagát.\n",
    "\n",
    "### I. Megoldás\n",
    "\n",
    "Az átlag számolás két részből áll: egyrészt össze kell adnunk a listában szereplő számokat. Másrészt pedig el kell osztani a kapott összeget a darabszámmal ahány számot összeadtunk.\n",
    "\n",
    "Ezt egyrészt csinálhatjuk úgy, hogy egy segéd változóban kiszámoljuk a számok összegét és egy másik segéd változóban pedig megszámoljuk, hogy hány számot adunk össze."
   ]
  },
  {
   "cell_type": "code",
   "execution_count": 2,
   "id": "4748194d",
   "metadata": {},
   "outputs": [
    {
     "name": "stdout",
     "output_type": "stream",
     "text": [
      "Átlag: 9.0\n"
     ]
    }
   ],
   "source": [
    "lista = [1, 3, 6, 2, 3, 3, 45]\n",
    "\n",
    "szamlalo = 0\n",
    "osszeg = 0\n",
    "for elem in lista:\n",
    "    szamlalo += 1\n",
    "    osszeg += elem\n",
    "    \n",
    "print(\"Átlag:\", osszeg/szamlalo)"
   ]
  },
  {
   "cell_type": "markdown",
   "id": "467ee0b7",
   "metadata": {},
   "source": [
    "### II. Megoldás\n",
    "\n",
    "De a számlálót nem muszáj saját magunknak létrehozni és egyessével megszámolni ebben az esetben mivel a lista összes elemét összeadjuk, tehát a számlálóban biztosan a lista elemeinek száma lesz, más szóval a lista hossza. Így a `len` függvényt is használhatjuk."
   ]
  },
  {
   "cell_type": "code",
   "execution_count": 3,
   "id": "3fbc2cbc",
   "metadata": {},
   "outputs": [
    {
     "name": "stdout",
     "output_type": "stream",
     "text": [
      "Átlag: 9.0\n"
     ]
    }
   ],
   "source": [
    "lista = [1, 3, 6, 2, 3, 3, 45]\n",
    "\n",
    "osszeg = 0\n",
    "for elem in lista:\n",
    "    osszeg += elem\n",
    "    \n",
    "print(\"Átlag:\", osszeg/len(lista))"
   ]
  },
  {
   "cell_type": "markdown",
   "id": "46a0b90e",
   "metadata": {},
   "source": [
    "## 18. Feladat - legnagyobb\n",
    "\n",
    "Hozzunk létre egy listát és írassuk ki a listában található legnagyobb elemet.\n",
    "\n",
    "### I. Megoldás\n",
    "\n",
    "Ha a legnagyobb elemet keressük, akkor kereshetjük annak az értékét. Például melyik a legnagyobb szám. Vagy kereshetjük a helyét a listában: hanyas indexen található a legnagyobb szám. Először keressük az értékét.\n",
    "\n",
    "Ilyenkor először feltételezzük, hogy az első elem a legnagyobb, azt értékül adjuk egy segéd változónak, amiben a legnagyobb elemet szeretnénk eltárolni. Ezután elindulunk végig a lista elemein egy `for` ciklussal és ha találunk egy nagyobb elemet, mint ami a segéd változóban van, akkor lecseréljük a talált értékre. \n",
    "\n",
    "Mivel a lista elemein megyünk végig, ezért a kapott érték biztosan benne van a listában és mivel ha találunk egy nagyobbat, mint ami benne van akkor lecseréljük a nagyobbra, ezért biztosn a legnagyob elem lesz végül a változóban miután lefutott a ciklus és az összes elemen végigmentünk."
   ]
  },
  {
   "cell_type": "code",
   "execution_count": 4,
   "id": "3f4ff812",
   "metadata": {},
   "outputs": [
    {
     "name": "stdout",
     "output_type": "stream",
     "text": [
      "A legnagyobb elem: 45\n"
     ]
    }
   ],
   "source": [
    "lista = [1, 3, 6, 2, 3, 3, 45]\n",
    "\n",
    "maximum = lista[0]\n",
    "\n",
    "for elem in lista:\n",
    "    if elem > maximum:\n",
    "        maximum = elem\n",
    "    \n",
    "print(\"A legnagyobb elem:\", maximum)"
   ]
  },
  {
   "cell_type": "markdown",
   "id": "fed4d1ad",
   "metadata": {},
   "source": [
    "### II. Megoldás\n",
    "\n",
    "Ha a keresett elem helyét, azaz indexét keressük, akkor a helyzet nagyon hasonló az előző megoldáshoz, de nem magát az értéket tároljuk el egy változóban, hanem az indexét. \n",
    "\n",
    "Először feltételezzük, hogy a 0. indexű elem a legnagyobb és az indexeken végigmenve ha találunk egy olyan indexet, ahol a listában nagyobb szám található, mint a maximum indexen, akkor lecseréljük a maximum indexet a másikra."
   ]
  },
  {
   "cell_type": "code",
   "execution_count": 5,
   "id": "dfbf6d3e",
   "metadata": {},
   "outputs": [
    {
     "name": "stdout",
     "output_type": "stream",
     "text": [
      "A legnagyobb elem értéke: 45 \n",
      "Indexe: 6\n"
     ]
    }
   ],
   "source": [
    "lista = [1, 3, 6, 2, 3, 3, 45]\n",
    "\n",
    "maximum_index = 0\n",
    "\n",
    "for i in range(len(lista)):\n",
    "    if lista[i] > lista[maximum_index]:\n",
    "        maximum_index = i\n",
    "    \n",
    "print(\"A legnagyobb elem értéke:\", lista[maximum_index], \"\\nIndexe:\", maximum_index)"
   ]
  },
  {
   "cell_type": "markdown",
   "id": "3297ef89",
   "metadata": {},
   "source": [
    "## 19. Feladat - legkisebb<->legnagyobb\n",
    "\n",
    "Hozzunk létre egy listát és cserléjük le a listában található legkisebb elemet, a listában található legnagyobb elemre.\n",
    "\n",
    "### I. Megoldás\n",
    "\n",
    "Megint szükségünk van a legnagyobb elemre és ezúttal a legkisebbre is. Mivel meg kell őket cserélnünk (ami azt jelenti, hogy módosítanunk kell a listát) ezért az indexeikre is szükségünk van **mivel a lista elemeit csak az indexek segítségével módosíthatjuk**. \n",
    "\n",
    "Miután mind a kettőt megtaláltuk az értékeket elmentjük egy egy ideiglenes változóban. Azért, mivel ha először lecserélnénk a maximum indexen lévő elemet a minimum indexen lévő elemre, akkor minde a két helyen a minimum érték van. Ezután a minimum indexen lévő értékét nem tudnánk lecserélni a maximumra, mert azt az értéket elvesztettük, amikor lecseréltük."
   ]
  },
  {
   "cell_type": "code",
   "execution_count": 6,
   "id": "80794b68",
   "metadata": {},
   "outputs": [
    {
     "name": "stdout",
     "output_type": "stream",
     "text": [
      "[45, 3, 6, 2, 3, 3, 1]\n"
     ]
    }
   ],
   "source": [
    "lista = [1, 3, 6, 2, 3, 3, 45]\n",
    "\n",
    "maximum_index = 0\n",
    "minimum_index = 0\n",
    "\n",
    "for i in range(len(lista)):\n",
    "    if lista[i] > lista[maximum_index]:\n",
    "        maximum_index = i\n",
    "        \n",
    "    if lista[i] < lista[minimum_index]:\n",
    "        minimum_index = i\n",
    "    \n",
    "maximum = lista[maximum_index]\n",
    "minimum = lista[minimum_index]\n",
    "\n",
    "lista[maximum_index] = minimum\n",
    "lista[minimum_index] = maximum\n",
    "\n",
    "print(lista)"
   ]
  },
  {
   "cell_type": "markdown",
   "id": "0ede947c",
   "metadata": {},
   "source": [
    "### II. Megoldás\n",
    "\n",
    "Nincs szükség ideiglenes változóra, ha a cserét nem egymás alá írjuk, hanem egy sorban vesszővel elválasztva. Ilyenkor ugyanis egyszerre cserélnek értéket a változók. Pélául:"
   ]
  },
  {
   "cell_type": "code",
   "execution_count": 9,
   "id": "0c654109",
   "metadata": {},
   "outputs": [
    {
     "name": "stdout",
     "output_type": "stream",
     "text": [
      "a: 1\n",
      "b: 6\n",
      "*csere*\n",
      "a: 6\n",
      "b: 1\n"
     ]
    }
   ],
   "source": [
    "a = 1\n",
    "b = 6\n",
    "\n",
    "print(\"a:\", a)\n",
    "print(\"b:\", b)\n",
    "\n",
    "print(\"*csere*\")\n",
    "a, b = b, a\n",
    "\n",
    "print(\"a:\", a)\n",
    "print(\"b:\", b)"
   ]
  },
  {
   "cell_type": "markdown",
   "id": "1579ceef",
   "metadata": {},
   "source": [
    "Ennek a segítségével a feladat megoldása:"
   ]
  },
  {
   "cell_type": "code",
   "execution_count": 11,
   "id": "27ffc362",
   "metadata": {},
   "outputs": [
    {
     "name": "stdout",
     "output_type": "stream",
     "text": [
      "[45, 3, 6, 2, 3, 3, 1]\n"
     ]
    }
   ],
   "source": [
    "lista = [1, 3, 6, 2, 3, 3, 45]\n",
    "\n",
    "maximum_index = 0\n",
    "minimum_index = 0\n",
    "\n",
    "for i in range(len(lista)):\n",
    "    if lista[i] > lista[maximum_index]:\n",
    "        maximum_index = i\n",
    "        \n",
    "    if lista[i] < lista[minimum_index]:\n",
    "        minimum_index = i\n",
    "\n",
    "lista[maximum_index], lista[minimum_index] = lista[minimum_index], lista[maximum_index]\n",
    "\n",
    "print(lista)"
   ]
  },
  {
   "cell_type": "markdown",
   "id": "33bc21a0",
   "metadata": {},
   "source": [
    "## 20. Feladat - $2 \\leq x \\leq 7$\n",
    "\n",
    "Hozzunk létre egy listát és számoljuk meg hog hány olyan eleme van, ami nagyobb vagy egyenlő, mint 2, de kisebb vagy egyenlő, mint 7.\n",
    "\n",
    "### I. Megoldás\n",
    "\n",
    "Egy segéd változó segítségével megszámoljuk hány elemre teljesül a feladatban megadott feltétel. A feltétel a következő: $2 \\leq x \\leq 7$ tehát azokat az x számokat kell megszámolunk, amik 2 és 7 között vannak. `x` jelen esetben a lista elemeit jelenti, méghozzá azokat az elemek, amik nagyobb vagy egyenlőek, mint 2 **és** kisebb vagy egyenlőek, mint 7."
   ]
  },
  {
   "cell_type": "code",
   "execution_count": 13,
   "id": "0e68cb50",
   "metadata": {},
   "outputs": [
    {
     "name": "stdout",
     "output_type": "stream",
     "text": [
      "5\n"
     ]
    }
   ],
   "source": [
    "lista = [1, 3, 6, 2, 3, 3, 45]\n",
    "\n",
    "szamlalo = 0\n",
    "for elem in lista:\n",
    "    if 2 <= elem and elem <= 7:\n",
    "        szamlalo += 1\n",
    "\n",
    "print(szamlalo)"
   ]
  },
  {
   "cell_type": "markdown",
   "id": "6fc19272",
   "metadata": {},
   "source": [
    "### II. Megoldás\n",
    "\n",
    "Pythonban ezt a feltételt egyszerűbben is leírhatjuk az \"és\" nélkül."
   ]
  },
  {
   "cell_type": "code",
   "execution_count": 14,
   "id": "d64b5bbd",
   "metadata": {},
   "outputs": [
    {
     "name": "stdout",
     "output_type": "stream",
     "text": [
      "5\n"
     ]
    }
   ],
   "source": [
    "lista = [1, 3, 6, 2, 3, 3, 45]\n",
    "\n",
    "szamlalo = 0\n",
    "for elem in lista:\n",
    "    if 2 <= elem <= 7:\n",
    "        szamlalo += 1\n",
    "\n",
    "print(szamlalo)"
   ]
  },
  {
   "cell_type": "markdown",
   "id": "6c201175",
   "metadata": {},
   "source": [
    "## 21. Feladat - van-e 3-mas\n",
    "\n",
    "Hozzunk létre egy listát és írassuk ki, hogy van-e benne 3-mas szám.\n",
    "\n",
    "### I. Megoldás\n",
    "\n",
    "Példaul a megszámolás módszerének a segítségével megszámoljuk, hogy a listában hány hármas van. Ha 0, akkor nincs benne hármas, ha valamilyen pozitív szám, akkor van benne hármas."
   ]
  },
  {
   "cell_type": "code",
   "execution_count": 15,
   "id": "f5672233",
   "metadata": {},
   "outputs": [
    {
     "name": "stdout",
     "output_type": "stream",
     "text": [
      "Van 3-mas a listában\n"
     ]
    }
   ],
   "source": [
    "lista = [1, 3, 6, 2, 3, 3, 45]\n",
    "\n",
    "szamlalo = 0\n",
    "for elem in lista:\n",
    "    if elem == 3:\n",
    "        szamlalo += 1\n",
    "\n",
    "if szamlalo > 0:\n",
    "    print(\"Van 3-mas a listában\")\n",
    "elif szamlalo == 0:\n",
    "    print(\"Nincs 3-mas a listában\")"
   ]
  },
  {
   "cell_type": "markdown",
   "id": "fad8bc95",
   "metadata": {},
   "source": [
    "### II. Megoldás\n",
    "\n",
    "Az előző megoldásban az a \"probléma\", hogy ha a lista első eleme egy 3-mas, akkor is végig megy a `for` ciklus a teljes listán és csak utána írja ki az eredményt. Ez felesleges és ha nagyon sok elemünk van a listában akkor sokat is kell rá várni.\n",
    "\n",
    "* A `while` ciklusnak megmondhatjuk, hogy addig menjen, amíg nem talált egy hármast a listában, ha talált, akkor álljon meg. [1]\n",
    "* Ezután el kell döntenünk hogy azért állt meg a `while` ciklus mert talált egy hármast, vagy azért mert végig ért a lista minden elemén. Ha minden elemen végig ért, akkor az index nem lesz kisebb, mint a lista hossza. Ha viszont kisebb, akkor talált benne hármast, ezért állt meg. [2]"
   ]
  },
  {
   "cell_type": "code",
   "execution_count": 16,
   "id": "13a17790",
   "metadata": {},
   "outputs": [
    {
     "name": "stdout",
     "output_type": "stream",
     "text": [
      "Van 3-mas a listában\n"
     ]
    }
   ],
   "source": [
    "lista = [1, 3, 6, 2, 3, 3, 45]\n",
    "\n",
    "i = 0\n",
    "while i < len(lista) and lista[i] != 3: # [1]\n",
    "    i += 1\n",
    "    \n",
    "van = i < len(lista) # [2]\n",
    "\n",
    "if van:\n",
    "    print(\"Van 3-mas a listában\")\n",
    "else:\n",
    "    print(\"Nincs 3-mas a listában\")"
   ]
  },
  {
   "cell_type": "markdown",
   "id": "0a23c162",
   "metadata": {},
   "source": [
    "## 22. Feladat - van-e osztható\n",
    "\n",
    "Hozzunk létre egy listát és írassuk ki hogy van-e benne olyan szám, ami osztható 3-mal.\n",
    "\n",
    "### Megoldás\n",
    "\n",
    "Az előző feladathoz hasonló, csak most nem hármast keresünk, hanem egy olyan számot, ami osztható 3-mal, így a `while` ciklus feltételét ennek megfelelően módosítjuk."
   ]
  },
  {
   "cell_type": "code",
   "execution_count": 17,
   "id": "2801a9c0",
   "metadata": {},
   "outputs": [
    {
     "name": "stdout",
     "output_type": "stream",
     "text": [
      "Van 3-mal osztható szám a listában\n"
     ]
    }
   ],
   "source": [
    "lista = [1, 3, 6, 2, 3, 3, 45]\n",
    "\n",
    "i = 0\n",
    "while i < len(lista) and lista[i] % 3 != 0:\n",
    "    i += 1\n",
    "    \n",
    "van = i < len(lista)\n",
    "\n",
    "if van:\n",
    "    print(\"Van 3-mal osztható szám a listában\")\n",
    "else:\n",
    "    print(\"Nincs 3-mal osztható szám a listában\")"
   ]
  },
  {
   "cell_type": "markdown",
   "id": "a9169067",
   "metadata": {},
   "source": [
    "## 23. Feladat - rendezés\n",
    "\n",
    "Hozzunk létre egy listát és rendezzük az elemeit növekvő sorrendbe.\n",
    "\n",
    "### Megoldás\n",
    "\n",
    "Először is kiválasztjuk a legnagyobb elemet a listából és azt a végére rakjuk. Majd a legnagyobbat a listából, úgy hogy az utolsó elemet nem vesszük figyelembe, hiszen az a legnagyobb és azt is a végére rakjuk. Ennek a segítségével a végén egy rendezett listát kapunk."
   ]
  },
  {
   "cell_type": "code",
   "execution_count": 18,
   "id": "fee2a181",
   "metadata": {},
   "outputs": [
    {
     "name": "stdout",
     "output_type": "stream",
     "text": [
      "[1, 2, 3, 3, 3, 6, 45]\n"
     ]
    }
   ],
   "source": [
    "# TODO: RÉSZLETESEBB LEÍRÁS!!\n",
    "\n",
    "lista = [1, 3, 6, 2, 3, 3, 45]\n",
    "\n",
    "for i in range(len(lista)):\n",
    "    rendezetlen_resz = len(lista) - i\n",
    "    \n",
    "    maximum_index = 0\n",
    "    for j in range(0, rendezetlen_resz):\n",
    "        if lista[j] > lista[maximum_index]:\n",
    "            maximum_index = j\n",
    "    \n",
    "    lista[rendezetlen_resz - 1], lista[maximum_index] = lista[maximum_index], lista[rendezetlen_resz - 1]\n",
    "\n",
    "print(lista)"
   ]
  },
  {
   "cell_type": "markdown",
   "id": "ba6b3439",
   "metadata": {},
   "source": [
    "## 24. Feladat - egyes sorozat\n",
    "\n",
    "Hozzunk létre egy listát, ami egyeseket és nullákat tartalmaz csak. Írassuk ki hogy hány egyest tartalmaz a leghosszabb olyan része a listának, ahol csak egyesek vannak egymás után.\n",
    "\n",
    "### I. Megoldás\n",
    "\n",
    "Létrehozunk egy listát, amiben eltároljuk, hogy milyen hosszú egyes sorozataink vannak és ezek közül a leghosszabbat megkeressük.\n",
    "\n",
    "Amikor a sorozatot keressük eltároljuk az előző elemet is és ha az 0 volt, de most egyesünk van, akkor egy új sorozat kezdődik, ha az egyes volt és most is egyesünk van, akkor ugyanaz a sor folytatódik, ha az 1-es volt és most 0-nk van, akkor véget ért egy sorozat, ha az 0 volt és most is 0 van, akkor nincs épp sorozatunk.\n",
    "\n",
    "Ha egy sorozat lezárul, akkor nullázzuk a segéd változót, amiben az aktuális sor hosszát tartjuk számon, de előtte hozzáadjuk azt a számot, amekkora az éppen véget ért sorozat volt a listához, amiben a sorozatok hosszúságait tartjuk számon (`hosszok`).\n",
    "\n",
    "Ha az utolsó szám egy 1-es, akkor az utolsó sorozat végét külön kéne vizsgálnunk, ezért először egy 0-át hozzáfűzűnk a végéhez a listának."
   ]
  },
  {
   "cell_type": "code",
   "execution_count": 22,
   "id": "184be505",
   "metadata": {},
   "outputs": [
    {
     "name": "stdout",
     "output_type": "stream",
     "text": [
      "[3, 1, 4, 1, 1, 2, 7]\n",
      "A leghosszabb sorozat hossza: 7\n"
     ]
    }
   ],
   "source": [
    "lista = [0,0,1,1,1,0,1,0,1,1,1,1,0,0,1,0,1,0,1,1,0,1,1,1,1,1,1,1]\n",
    "\n",
    "lista.append(0)\n",
    "\n",
    "hosszok = []\n",
    "elozo = 0\n",
    "szamlalo = 0\n",
    "for elem in lista:\n",
    "    if elem == 1:\n",
    "        szamlalo += 1\n",
    "    elif elem == 0 and elozo == 1:\n",
    "        hosszok.append(szamlalo)\n",
    "        szamlalo = 0\n",
    "    \n",
    "    elozo = elem\n",
    "        \n",
    "print(hosszok)\n",
    "\n",
    "maximum = hosszok[0]\n",
    "for elem in hosszok:\n",
    "    if elem > maximum:\n",
    "        maximum = elem\n",
    "        \n",
    "print(\"A leghosszabb egyes sorozat hossza:\", maximum)"
   ]
  },
  {
   "cell_type": "markdown",
   "id": "bf0dc495",
   "metadata": {},
   "source": [
    "## 25. Feladat - páratlan után páros\n",
    "\n",
    "Hozzunk létre egy listát és írassuk ki, hogy hányszor fordul elő, hogy egy páratlan számot egy páros szám követ.\n",
    "\n",
    "### Megoldás\n",
    "\n",
    "Meg kell számolnunk, hogy hányszor teljesül az a feltétel, hogy az aktuális elem páros és az előző elem páratlan volt. Ehhez az előző elemet egy változóban eltároljuk (kezdetben egy páros számot adunk neki értékül, hogy az első számra ne teljesüljön a féltétel) és a ciklus mag végén mindig lecseréljük az előző elemet a mostanira (mert a következő lefutásakor a ciklusnak az már az előző kell, hogy legyen)"
   ]
  },
  {
   "cell_type": "code",
   "execution_count": 24,
   "id": "b9b1855c",
   "metadata": {},
   "outputs": [
    {
     "name": "stdout",
     "output_type": "stream",
     "text": [
      "2\n"
     ]
    }
   ],
   "source": [
    "lista = [1, 3, 6, 2, 3, 3, 46]\n",
    "\n",
    "szamlalo = 0\n",
    "elozo = 0\n",
    "\n",
    "for elem in lista:\n",
    "    if elem % 2 == 0 and elozo % 2 != 0:\n",
    "        szamlalo += 1\n",
    "        \n",
    "    elozo = elem\n",
    "\n",
    "print(szamlalo)"
   ]
  },
  {
   "cell_type": "markdown",
   "id": "3cdbcf4e",
   "metadata": {},
   "source": [
    "## 26. Feladat - páros átlag\n",
    "\n",
    "Hozzunk létre egy listát és írassuk ki a páros számok átlagát.\n",
    "\n",
    "### Megoldás\n",
    "\n",
    "Ezúttal egy feltételünk is van. Nem minden szám átlagára vagyun kíváncsiak, csak a páros számokéra. Ehhez mindenképpen szükségünk van arra hogy hány darab páros szám található a listában és hogy mi az összege ezeknek a számoknak."
   ]
  },
  {
   "cell_type": "code",
   "execution_count": 25,
   "id": "2cf8b5c9",
   "metadata": {},
   "outputs": [
    {
     "name": "stdout",
     "output_type": "stream",
     "text": [
      "18.0\n"
     ]
    }
   ],
   "source": [
    "lista = [1, 3, 6, 2, 3, 3, 46]\n",
    "\n",
    "szamlalo = 0\n",
    "osszeg = 0\n",
    "for elem in lista:\n",
    "    if elem % 2 == 0:\n",
    "        szamlalo += 1\n",
    "        osszeg += elem\n",
    "        \n",
    "print(osszeg/szamlalo)"
   ]
  },
  {
   "cell_type": "markdown",
   "id": "4ca08cc9",
   "metadata": {},
   "source": [
    "## 27. Feladat - kigyűjteni\n",
    "\n",
    "Hozzunk létre egy listát és gyűjtsük ki két új, külön listába belőle a 10-nél kisebb vagy egyenlő és a 10-nél nagyobb számokat.\n",
    "\n",
    "### Megoldás\n",
    "\n",
    "Szükségünk van két kezdetben üres listára. Az egyikbe a tíznél kisebb vagy egyenlő, a másikba a tíznél nagyobb számokat gyűjtjük (fűzzük hozzá), miközben végig megyünk az eredeti listán."
   ]
  },
  {
   "cell_type": "code",
   "execution_count": 26,
   "id": "c9d36fb8",
   "metadata": {},
   "outputs": [
    {
     "name": "stdout",
     "output_type": "stream",
     "text": [
      "A tíznél kisebb vagy egyenlő számok a listából: [3, 6, 2, 3, 3]\n",
      "A tíznél nagyobb számok a listából: [11, 46]\n"
     ]
    }
   ],
   "source": [
    "lista = [11, 3, 6, 2, 3, 3, 46]\n",
    "\n",
    "kisebb_egyenlo = []\n",
    "nagyobb = []\n",
    "\n",
    "for elem in lista:\n",
    "    if elem <= 10:\n",
    "        kisebb_egyenlo.append(elem)\n",
    "    else:\n",
    "        nagyobb.append(elem)\n",
    "        \n",
    "print(\"A tíznél kisebb vagy egyenlő számok a listából:\", kisebb_egyenlo)\n",
    "print(\"A tíznél nagyobb számok a listából:\", nagyobb)"
   ]
  },
  {
   "cell_type": "markdown",
   "id": "98de052c",
   "metadata": {},
   "source": [
    "## 28. Feladat - egyszer?\n",
    "\n",
    "Hozzunk létre egy listát és döntsük el, hogy a 2-es szám csak egyszer szerepl-e vagy többször is.\n",
    "\n",
    "### Megoldás\n",
    "\n",
    "Meg kell számolnunk hogy hányszor fordul elő kettes a listában és kiíratni, hogy csak egyszer vagy többször."
   ]
  },
  {
   "cell_type": "code",
   "execution_count": 27,
   "id": "294bbb4b",
   "metadata": {},
   "outputs": [
    {
     "name": "stdout",
     "output_type": "stream",
     "text": [
      "Több kettes is van a listában\n"
     ]
    }
   ],
   "source": [
    "lista = [11, 3, 6, 2, 2, 3, 46]\n",
    "\n",
    "szamlalo = 0\n",
    "for elem in lista:\n",
    "    if elem == 2:\n",
    "        szamlalo += 1\n",
    "\n",
    "if szamlalo == 0:\n",
    "    print(\"Nincs kettes a listában\")\n",
    "elif szamlalo == 1:\n",
    "    print(\"Csak egy kettes van a listában\")\n",
    "else:\n",
    "    print(\"Több kettes is van a listában\")"
   ]
  },
  {
   "cell_type": "markdown",
   "id": "ea44af11",
   "metadata": {},
   "source": [
    "## 29. Feladat - ismétlés nélkül\n",
    "\n",
    "Hozzunk létre egy listát és gyűjtsük ki belőle a számokat egy eredmény listába, úgy, hogy az eredmény listában minden szám csak egyszer szerepeljen.\n",
    "\n",
    "### I. Megoldás\n",
    "\n",
    "A megoldás során indexekkel megyünk végig a listán. Minden `i` indexre ellenőrizzük, hogy a lista mögötte lévő részében szerepel-e még egyszer az a szám. Tehát egy `while` ciklus és `inx` változó segítségével végigmegyünk még egyszer a listán, addig amíg nem találunk egy olyan elemet, ami megeyezik az`i`-edikkel vagy végig nem érünk az összes elemen."
   ]
  },
  {
   "cell_type": "code",
   "execution_count": 3,
   "id": "17e7baa2",
   "metadata": {},
   "outputs": [
    {
     "name": "stdout",
     "output_type": "stream",
     "text": [
      "[11, 6, 2, 46, 3]\n"
     ]
    }
   ],
   "source": [
    "lista = [11, 3, 6, 2, 2, 3, 46, 3]\n",
    "eredmeny = []\n",
    "\n",
    "for i in range(len(lista)):\n",
    "    inx = i+1\n",
    "    \n",
    "    while inx < len(lista) and lista[i] != lista[inx]:\n",
    "        inx += 1\n",
    "    vane = inx < len(lista)\n",
    "    \n",
    "    if not vane:\n",
    "        eredmeny.append(lista[i])\n",
    "\n",
    "print(eredmeny)"
   ]
  },
  {
   "cell_type": "markdown",
   "id": "4f428a52",
   "metadata": {},
   "source": [
    "### II. Megoldás\n",
    "\n",
    "A megoldás során indexekkel megyünk végig a listán. Minden `i` indexre ellenőrizzük, hogy a lista mögötte lévő `lista[i+1:]` részében szerepel-e az a szám és ha nem, akkor hozzáadjuk az eredmény listához."
   ]
  },
  {
   "cell_type": "code",
   "execution_count": 4,
   "id": "8728650f",
   "metadata": {},
   "outputs": [
    {
     "name": "stdout",
     "output_type": "stream",
     "text": [
      "[11, 6, 2, 46, 3]\n"
     ]
    }
   ],
   "source": [
    "lista = [11, 3, 6, 2, 2, 3, 46, 3]\n",
    "eredmeny = []\n",
    "\n",
    "for i in range(len(lista)):\n",
    "    if lista[i] not in lista[i+1:]:\n",
    "        eredmeny.append(lista[i])\n",
    "\n",
    "print(eredmeny)"
   ]
  },
  {
   "cell_type": "markdown",
   "id": "5569fe6e",
   "metadata": {},
   "source": [
    "### III. Megoldás\n",
    "\n",
    "Egy másik megközelítés, ha azt ellenőrizzük, hogy az eredmény listában benne van-e már és csak akkor adjuk hozzá, ha nincs"
   ]
  },
  {
   "cell_type": "code",
   "execution_count": 48,
   "id": "6dd29861",
   "metadata": {},
   "outputs": [
    {
     "name": "stdout",
     "output_type": "stream",
     "text": [
      "[11, 3, 6, 2, 46]\n"
     ]
    }
   ],
   "source": [
    "lista = [11, 3, 6, 2, 2, 3, 46, 3]\n",
    "eredmeny = []\n",
    "\n",
    "for elem in lista:\n",
    "    if elem not in eredmeny:\n",
    "        eredmeny.append(elem)\n",
    "        \n",
    "print(eredmeny)"
   ]
  },
  {
   "cell_type": "markdown",
   "id": "8f3194bf",
   "metadata": {},
   "source": [
    "## 30. Feladat - keresés első\n",
    "\n",
    "Hozzunk létre egy listát és keressük meg, hogy melyik az első olyan index, ahol 3-mas szám szerepel.\n",
    "\n",
    "### I. Megoldás\n",
    "\n",
    "Szükségünk van egy változóra (`inx`), amiben eltároljuk majd az indexet. Ennek az értéke kezdetben legyen -1. Ha találunk egy hármast és az `inx`-ben a -1-es érték van, az azt jelenti, hogy az az első hármas, amit találtunk, ezért lecseréljük a tartalmát máskülönben nem csinálnuk semmit."
   ]
  },
  {
   "cell_type": "code",
   "execution_count": 1,
   "id": "c6e148f3",
   "metadata": {},
   "outputs": [
    {
     "name": "stdout",
     "output_type": "stream",
     "text": [
      "A listában az első hármas helye: 1\n"
     ]
    }
   ],
   "source": [
    "lista = [11, 3, 6, 2, 2, 3, 46, 3]\n",
    "inx = -1\n",
    "\n",
    "for i in range(len(lista)):\n",
    "    if lista[i] == 3 and inx == -1:\n",
    "        inx = i\n",
    "\n",
    "if inx == -1:\n",
    "    print(\"A listában nem volt 3-mas.\")\n",
    "else:\n",
    "    print(\"A listában az első hármas indexe:\",inx)"
   ]
  },
  {
   "cell_type": "markdown",
   "id": "4e76f891",
   "metadata": {},
   "source": [
    "### II. Megoldás\n",
    "\n",
    "Ebben az esetben (ha az első hármast keressük), akkor felesleges a teljes listán végig mennünk miután már találtunk egy hármast. Ezért ebben az esetben `while` ciklust szoktunk alkalmazni. Amivel addig megyünk, míg a lista véget nem ér (fontos, hogy ez kerüljön előre és ezt ellenőrizze először) és nem találunk egy hármast. Ha találtunk egy hármast megállhatunk. Végül ellenőriznünk kell, hogy a listán belül van-e az index. Ha ez igaz, akkor azért állt meg a ciklus, mert talált egy hármast. Ha nem igaz, akkor végig ment a teljes listán."
   ]
  },
  {
   "cell_type": "code",
   "execution_count": 2,
   "id": "b8f68d18",
   "metadata": {},
   "outputs": [
    {
     "name": "stdout",
     "output_type": "stream",
     "text": [
      "A listában az első hármas indexe: 1\n"
     ]
    }
   ],
   "source": [
    "lista = [11, 3, 6, 2, 2, 3, 46, 3]\n",
    "i = 0\n",
    "\n",
    "while i < len(lista) and lista[i] != 3:\n",
    "    i += 1\n",
    "van = i < len(lista)\n",
    "\n",
    "if not van:\n",
    "    print(\"A listában nem volt 3-mas.\")\n",
    "else:\n",
    "    print(\"A listában az első hármas indexe:\",inx)"
   ]
  },
  {
   "cell_type": "markdown",
   "id": "e80dddd1",
   "metadata": {},
   "source": [
    "## 31. Feladat - Keresés utolsó\n",
    "\n",
    "\n",
    "Hozzunk létre egy listát és keressük meg, hogy melyik az utolsó olyan index, ahol páros szám szerepel.\n",
    "\n",
    "### Megoldás\n",
    "\n",
    "Ebben az esetben muszáj a teljes listán végig mennünk. Ezért azt a megoldást fogjuk alkalmazni, mint az előző feladat I. megoldásában. Csak most nem kell ellenőriznünk, hogy az `inx` értéke -1-e. Elég ha folyamatosan lecseréljük valahányszor találtunk egy hármast. Így végül a legutolsó hármas indexét fogja tartalmazni, vagy -1-et, ha egyáltalán nem volt hármas a listában."
   ]
  },
  {
   "cell_type": "code",
   "execution_count": 4,
   "id": "dfade5bd",
   "metadata": {},
   "outputs": [
    {
     "name": "stdout",
     "output_type": "stream",
     "text": [
      "A listában az utolsó hármas indexe: 7\n"
     ]
    }
   ],
   "source": [
    "lista = [11, 3, 6, 2, 2, 3, 46, 3]\n",
    "inx = -1\n",
    "\n",
    "for i in range(len(lista)):\n",
    "    if lista[i] == 3:\n",
    "        inx = i\n",
    "\n",
    "if inx == -1:\n",
    "    print(\"A listában nem volt 3-mas.\")\n",
    "else:\n",
    "    print(\"A listában az utolsó hármas indexe:\",inx)"
   ]
  },
  {
   "cell_type": "markdown",
   "id": "721a05f7",
   "metadata": {},
   "source": [
    "## 32. Feladat - Kigyűjtés\n",
    "\n",
    "Hozzunk létre egy listát és gyűjtsük ki egy eredmény listába azokat az indexeket, ahol páros szám szerepel az eredeti listában.\n",
    "\n",
    "### Megoldás\n",
    "\n",
    "Mivel a páros számok indexeit kell kigyűjteni, ezért az indexek segítségével megyünk végig a listán. Amikor a feltételnél ellenőrzünk, akkor a lista elemeit ellenőrizzük (`lista[i]`), azonban, amikor hozzáadunk a óz eredmény listához, akkor az indexet adjuk, hozzá, mivel arra vagyunk kíváncsiak."
   ]
  },
  {
   "cell_type": "code",
   "execution_count": 5,
   "id": "9083af5b",
   "metadata": {},
   "outputs": [
    {
     "name": "stdout",
     "output_type": "stream",
     "text": [
      "[2, 3, 4, 6]\n"
     ]
    }
   ],
   "source": [
    "lista = [11, 3, 6, 2, 2, 3, 46, 3]\n",
    "eredmeny = []\n",
    "\n",
    "for i in range(len(lista)):\n",
    "    if lista[i] % 2 == 0:\n",
    "        eredmeny.append(i)\n",
    "\n",
    "print(eredmeny)"
   ]
  },
  {
   "cell_type": "markdown",
   "id": "ce8f26a4",
   "metadata": {},
   "source": [
    "## 33. Feladat - Karácsonyfa\n",
    "\n",
    "Rajzoljunk karácsonyfát.\n",
    "\n",
    "Bővebben:\n",
    "\n",
    "Rajzoljunk csillagokat egymás alá és mellé úgy, hogy annak karácsonyfa alakja legyen.\n",
    "\n",
    "### I. Megoldás\n",
    "\n",
    "Minden sorba eggyel több csillagot rajzolunk, hogy valami ehhez hasonló alakzatot kapjunk:\n",
    "\n",
    "~~~\n",
    "*\n",
    "**\n",
    "***\n",
    "****\n",
    "~~~\n",
    "\n",
    "A sorok számát a felhasználótól kérjük be.\n",
    "\n",
    "Minden sorba annyi csillagot rajzolunk, mint ahanyadik sornál járunk. Ez egyszerűen megoldhatjuk ha szöveget szorzunk számmal."
   ]
  },
  {
   "cell_type": "code",
   "execution_count": 6,
   "id": "f8293a9c",
   "metadata": {},
   "outputs": [
    {
     "name": "stdout",
     "output_type": "stream",
     "text": [
      "Adja meg a sorok számát: 5\n",
      "*\n",
      "**\n",
      "***\n",
      "****\n",
      "*****\n"
     ]
    }
   ],
   "source": [
    "n = int(input(\"Adja meg a sorok számát: \"))\n",
    "\n",
    "for i in range(1, n+1):\n",
    "    print(i * \"*\")"
   ]
  },
  {
   "cell_type": "markdown",
   "id": "7bf90d32",
   "metadata": {},
   "source": [
    "### II. Megoldás\n",
    "\n",
    "~~~\n",
    "   *\n",
    "  ***\n",
    " *****\n",
    "*******\n",
    "~~~\n",
    "\n",
    "Ha ilyen alakú fát akarunk rajzolni, akkor minden sor elejére space-eket kell írnunk. Az alsó sor elé 0-t, a következő elé 1-et, majd 2-t stb. Tehát az első sor elé `n-1`-et, ahol `n` a sorok száma.\n",
    "\n",
    "Majd kirajzolunk páratlan sok csillagot (`i*2-1`).\n",
    "\n",
    "VÉgül beállítjuk, hogy az elválasztójel ne legyen semmi (`sep=\"\"`), tehát a `print`-ben vesszővel elválasztott elemek köz ne rakjon space-t, különben eltolná a fa tetejét. "
   ]
  },
  {
   "cell_type": "code",
   "execution_count": 7,
   "id": "e1d7b592",
   "metadata": {},
   "outputs": [
    {
     "name": "stdout",
     "output_type": "stream",
     "text": [
      "Adja meg a sorok számát: 5\n",
      "    *\n",
      "   ***\n",
      "  *****\n",
      " *******\n",
      "*********\n"
     ]
    }
   ],
   "source": [
    "n = int(input(\"Adja meg a sorok számát: \"))\n",
    "\n",
    "for i in range(1, n+1):\n",
    "    print((n-i)*\" \", (i*2-1) * \"*\", sep=\"\")"
   ]
  },
  {
   "cell_type": "markdown",
   "id": "04e88959",
   "metadata": {},
   "source": [
    "## 34. Feladat - Négyzetszám\n",
    "\n",
    "Hozzunk létre egy listát, amely az első 10 négyzetszámot tartalmazza.\n",
    "\n",
    "### Megoldás\n",
    "\n",
    "* Szükségünk van egy kezdetben üres listára, amiben a égyzetszámokat fogjuk tárolni\n",
    "* Az első 10 négyzetszám tulajdonképpen az első 10 szám (1, 2, ... 10) négyzete\n",
    "* Tehát végig kell mennünk egy for ciklussal, az első 10 pozitív egész számon\n",
    "* És a négyzetüket hozzáadni a listához"
   ]
  },
  {
   "cell_type": "code",
   "execution_count": 28,
   "id": "3df3d52c",
   "metadata": {},
   "outputs": [
    {
     "name": "stdout",
     "output_type": "stream",
     "text": [
      "[1, 4, 9, 16, 25, 36, 49, 64, 81, 100]\n"
     ]
    }
   ],
   "source": [
    "lista = []\n",
    "\n",
    "for i in range(1, 11):\n",
    "    lista.append(i**2)\n",
    "    \n",
    "print(lista)"
   ]
  },
  {
   "cell_type": "markdown",
   "id": "25c03bcd",
   "metadata": {},
   "source": [
    "## 35. Feladat - szorzat\n",
    "\n",
    "Hozzunk létre egy listát és írassuk ki a listában szereplő számok szorzatát.\n",
    "\n",
    "### Megoldás\n",
    "\n",
    "Az összeghez hasonlóan, itt is szükség van egy segédváltozóra (`szorzat`). Kezdetben most nem 0 lesz, az értéke, mert akkor bármivel megszoroznánk a végén is 0 maradna. Kezdetben ezért 1 lesz az értéke, így az első számot hozzászorozva utána az első szám lesz az értéke. Ugyanis végig kell menni a lista elemein és a segéd változóba \"gyűjteni\" az elemek szorzatát."
   ]
  },
  {
   "cell_type": "code",
   "execution_count": 31,
   "id": "1887caf8",
   "metadata": {},
   "outputs": [
    {
     "name": "stdout",
     "output_type": "stream",
     "text": [
      "327888\n"
     ]
    }
   ],
   "source": [
    "lista = [11, 3, 6, 2, 2, 3, 46, 3]\n",
    "szorzat = 1\n",
    "\n",
    "for elem in lista:\n",
    "    szorzat *= elem\n",
    "\n",
    "print(szorzat)"
   ]
  },
  {
   "cell_type": "markdown",
   "id": "57dc19c5",
   "metadata": {},
   "source": [
    "## 36. Feladat - szorzat 2\n",
    "\n",
    "Kérjünk be egy számot a felhasználótól, majd írassuk ki a számok szórzatát 1-től a bekért számig.\n",
    "\n",
    "### Megoldás\n",
    "\n",
    "Az előző feladathoz hasonlóan megint szorzatot kell számolnunk. Most nem egy listában lévő számokat kell összeszorozni, hanem az összes pozitív egész számot, egy bekért (`n`) számig."
   ]
  },
  {
   "cell_type": "code",
   "execution_count": 33,
   "id": "54aec2ea",
   "metadata": {},
   "outputs": [
    {
     "name": "stdout",
     "output_type": "stream",
     "text": [
      "adjon meg egy számot: 5\n",
      "120\n"
     ]
    }
   ],
   "source": [
    "n = int(input(\"adjon meg egy számot: \"))\n",
    "\n",
    "szorzat = 1\n",
    "for i in range(1, n+1):\n",
    "    szorzat *= i\n",
    "    \n",
    "print(szorzat)"
   ]
  },
  {
   "cell_type": "markdown",
   "id": "3e2a4ee7",
   "metadata": {},
   "source": [
    "## 37. Feladat - darab intervallumon belül\n",
    "\n",
    "Hozzunk létre egy listát, amely egész számokat tartalmaz 0-tól 10-ig. Írassuk ki, hogy melyik számot (0-10) hányszor tartalmazza.\n",
    "\n",
    "### I. Megoldás\n",
    "\n",
    "Először végig kell menni a számokon 0-tól 10-ig. Majd ezen belül minden egyes alkalommal végig kell menni a listán és megszámolni, hogy az a szám hányszor szerepel a listában és kiíratni."
   ]
  },
  {
   "cell_type": "code",
   "execution_count": 45,
   "id": "1cfc6d97",
   "metadata": {},
   "outputs": [
    {
     "name": "stdout",
     "output_type": "stream",
     "text": [
      "0: 0 db\n",
      "1: 2 db\n",
      "2: 5 db\n",
      "3: 0 db\n",
      "4: 3 db\n",
      "5: 1 db\n",
      "6: 1 db\n",
      "7: 1 db\n",
      "8: 0 db\n",
      "9: 0 db\n",
      "10: 0 db\n"
     ]
    }
   ],
   "source": [
    "lista = [1,1,4,2,6,4,2,5,7,2,4,2,2]\n",
    "\n",
    "for i in range(11):\n",
    "    db = 0\n",
    "    \n",
    "    for elem in lista:\n",
    "        if elem == i:\n",
    "            db += 1\n",
    "            \n",
    "    print(str(i) + \":\", db, \"db\")"
   ]
  },
  {
   "cell_type": "markdown",
   "id": "7e1e958d",
   "metadata": {},
   "source": [
    "### II. Megoldás\n",
    "\n",
    "Létrehozunk egy listát, amiben tárolni fogjuk, hogy melyik számból hány darab szerepel (`db`). Mivel tudjuk, hogy 11 féle szám lehet a listában (a feladat leírása miatt), ezért 11 darab 0-val töltjük fel kezdetben, azt jelezve, hogy mielőtt végigmegyünk a listán mindegyiket 0-szor találtuk meg.\n",
    "\n",
    "A `db` listában az `i`. indexen azt tároljuk hogy az `i` szám hánszor szerepel az eredeti listában.\n",
    "\n",
    "Majd végigmegyünk a lista elemein és a darab `elem`. indexen lévő elemét megnöveljük eggyel.\n",
    "\n",
    "VÉgül még egyszer végig megyünk a `db`-on a kiíratáshoz."
   ]
  },
  {
   "cell_type": "code",
   "execution_count": 46,
   "id": "0cb18207",
   "metadata": {},
   "outputs": [
    {
     "name": "stdout",
     "output_type": "stream",
     "text": [
      "0: 0 db\n",
      "1: 2 db\n",
      "2: 5 db\n",
      "3: 0 db\n",
      "4: 3 db\n",
      "5: 1 db\n",
      "6: 1 db\n",
      "7: 1 db\n",
      "8: 0 db\n",
      "9: 0 db\n",
      "10: 0 db\n"
     ]
    }
   ],
   "source": [
    "lista = [1,1,4,2,6,4,2,5,7,2,4,2,2]\n",
    "db = []\n",
    "\n",
    "for i in range(11):\n",
    "    db.append(0)\n",
    "\n",
    "for elem in lista:\n",
    "    db[elem] += 1\n",
    "\n",
    "for i in range(len(db)):\n",
    "    print(str(i)+\":\", db[i],\"db\")"
   ]
  },
  {
   "cell_type": "markdown",
   "id": "659c3e52",
   "metadata": {},
   "source": [
    "## 38. Feladat - darab\n",
    "\n",
    "Hozzunk létre egy listát, amely egész számokat tartalmaz nem tudjuk mettől meddig. Írassuk ki, hogy melyik számot hányszor tartalmazza.\n",
    "\n",
    "### I. Megoldás\n",
    "\n",
    "Ebben az esetben nem tudunk létrehozni egy darab listát, mert nincsen meg, hogy mettől meddig tartalmazhat elemekt a listánk. Vagy először meg kell keresnünk a legnagyobb elemet és a legkisebbet. Ha a legkisebb kisebb, mint 0, akkor negatív indexekre lenne szükség, ezért szintent nem alkalmazható a megoldás.\n",
    "\n",
    "Az első típusú megoldás azonban működhet."
   ]
  },
  {
   "cell_type": "code",
   "execution_count": 49,
   "id": "d1e37ea0",
   "metadata": {},
   "outputs": [
    {
     "name": "stdout",
     "output_type": "stream",
     "text": [
      "2: 2 db\n",
      "3: 3 db\n",
      "6: 1 db\n",
      "11: 1 db\n",
      "46: 1 db\n"
     ]
    }
   ],
   "source": [
    "lista = [11, 3, 6, 2, 2, 3, 46, 3]\n",
    "\n",
    "mini = min(lista)\n",
    "maxi = max(lista)\n",
    "\n",
    "for i in range(mini, maxi+1):\n",
    "    db = 0\n",
    "    for elem in lista:\n",
    "        if elem == i:\n",
    "            db += 1\n",
    "    \n",
    "    if db != 0:\n",
    "        print(str(i)+\":\", db, \"db\")"
   ]
  },
  {
   "cell_type": "markdown",
   "id": "d45fa6c6",
   "metadata": {},
   "source": [
    "### II. Megoldás\n",
    "\n",
    "Nem kell minden számon végig mennünk a legkisebbtől a legnagyobbig. Elég ha kigyűjtjük, hogy milyen számok szerepelnek a listában és azokon megyünk végig és számoljuk meg, hogy hányszor szerepelnek."
   ]
  },
  {
   "cell_type": "code",
   "execution_count": 50,
   "id": "3e337958",
   "metadata": {},
   "outputs": [
    {
     "name": "stdout",
     "output_type": "stream",
     "text": [
      "11: 1 db\n",
      "3: 3 db\n",
      "6: 1 db\n",
      "2: 2 db\n",
      "46: 1 db\n"
     ]
    }
   ],
   "source": [
    "lista = [11, 3, 6, 2, 2, 3, 46, 3]\n",
    "egyedi = []\n",
    "\n",
    "for elem in lista:\n",
    "    if elem not in egyedi:\n",
    "        egyedi.append(elem)\n",
    "        \n",
    "for i in egyedi:\n",
    "    db = 0\n",
    "    for elem in lista:\n",
    "        if elem == i:\n",
    "            db += 1\n",
    "    \n",
    "    print(str(i)+\":\", db, \"db\")"
   ]
  },
  {
   "cell_type": "markdown",
   "id": "09c0bb1e",
   "metadata": {},
   "source": [
    "## 39. Feladat - keresés\n",
    "\n",
    "Hozzunk létre egy listát, majd kérjünk be a felhasználótól egy számot. Írassuk ki, hogy a lista tartalmazza-e a felhasználó által megadott számot.\n",
    "\n",
    "### I. Megoldás\n",
    "\n",
    "for ciklus segítségével. Egy segéd változót használunk, aminek igaz vagy hamis lehet az értéke. Kezdetben hamis és ha találunk egy olyan elemet a listában, ami megegyezik a felhasználó által megadottal, akkor igazra állítjuk az értékét.\n",
    "\n",
    "Most nem csak számokra ellenőrizzük, hátha a felhasználó egy szöveget keres."
   ]
  },
  {
   "cell_type": "code",
   "execution_count": 51,
   "id": "b48a9fd3",
   "metadata": {},
   "outputs": [
    {
     "name": "stdout",
     "output_type": "stream",
     "text": [
      "Adjon meg egy elemet: 5\n",
      "Nincs ilyen elem a listában.\n"
     ]
    }
   ],
   "source": [
    "lista = [11, 3, 6, 2, 2, 3, 46, 3]\n",
    "n = input(\"Adjon meg egy elemet: \")\n",
    "\n",
    "van = False\n",
    "for elem in lista:\n",
    "    if str(elem) == n:\n",
    "        van = True\n",
    "        \n",
    "if van:\n",
    "    print(\"Van ilyen elem a listában.\")\n",
    "else:\n",
    "    print(\"Nincs ilyen elem a listában.\")"
   ]
  },
  {
   "cell_type": "markdown",
   "id": "21d2a857",
   "metadata": {},
   "source": [
    "### II. Megoldás\n",
    "\n",
    "While ciklus segítségével."
   ]
  },
  {
   "cell_type": "code",
   "execution_count": 52,
   "id": "4477820d",
   "metadata": {},
   "outputs": [
    {
     "name": "stdout",
     "output_type": "stream",
     "text": [
      "Adjon meg egy elemet: 3\n",
      "Van ilyen elem a listában.\n"
     ]
    }
   ],
   "source": [
    "lista = [11, 3, 6, 2, 2, 3, 46, 3]\n",
    "n = input(\"Adjon meg egy elemet: \")\n",
    "\n",
    "i = 0\n",
    "while i < len(lista) and str(lista[i]) != n:\n",
    "    i += 1\n",
    "\n",
    "van = i < len(lista)\n",
    "        \n",
    "if van:\n",
    "    print(\"Van ilyen elem a listában.\")\n",
    "else:\n",
    "    print(\"Nincs ilyen elem a listában.\")"
   ]
  },
  {
   "cell_type": "markdown",
   "id": "06217e99",
   "metadata": {},
   "source": [
    "## 40. Feladat - Páros vagy páratlan?\n",
    "\n",
    "Hozzunk létre egy listát és írassuk ki, hogy páros vagy páratlan számokból tartalmaz-e többet.\n",
    "\n",
    "### Megoldás\n",
    "\n",
    "Megszámoljuk hány páratlan és hány páros számot tartalmaz a lista és az összehasonlítás eredményét kiíratjuk."
   ]
  },
  {
   "cell_type": "code",
   "execution_count": 54,
   "id": "01bd5bff",
   "metadata": {},
   "outputs": [
    {
     "name": "stdout",
     "output_type": "stream",
     "text": [
      "Ugyanannyi páros szám van a listában, mint páratlan.\n"
     ]
    }
   ],
   "source": [
    "lista = [11, 3, 6, 2, 2, 3, 46, 3]\n",
    "\n",
    "paros = 0\n",
    "paratlan = 0\n",
    "\n",
    "for elem in lista:\n",
    "    if elem % 2 == 0:\n",
    "        paros += 1\n",
    "    else:\n",
    "        paratlan += 1\n",
    "        \n",
    "if paros > paratlan:\n",
    "    print(\"Több páros szám van, mint páratlan a listában.\")\n",
    "elif paros < paratlan:\n",
    "    print(\"Több páratlan szám van, mint páros a listában.\")\n",
    "else:\n",
    "    print(\"Ugyanannyi páros szám van a listában, mint páratlan.\")"
   ]
  },
  {
   "cell_type": "markdown",
   "id": "5399d39d",
   "metadata": {},
   "source": [
    "## 41. Feladat - összeg\n",
    "\n",
    "Hozzunk létre egy listát, amely nem tartalmaz ismétlődéseket, majd kérjünk be egy számot a felhasználótól. Írassuk ki, hogy van-e (és ha igen melyik) két olyan száma listában, amelyeknek az összege egyenlő a felhasználó által megadott számmal.\n",
    "\n",
    "### I. Megoldás"
   ]
  },
  {
   "cell_type": "code",
   "execution_count": 56,
   "id": "1c6859e1",
   "metadata": {},
   "outputs": [
    {
     "name": "stdout",
     "output_type": "stream",
     "text": [
      "Adjon meg egy szamot: 15\n",
      "Megoldás: 13 + 2 = 15\n"
     ]
    }
   ],
   "source": [
    "lista = [11, 13, 6, 2, 46, 3]\n",
    "n = int(input(\"Adjon meg egy szamot: \"))\n",
    "\n",
    "\n",
    "for i in range(len(lista)):\n",
    "    for j in range(i, len(lista)):\n",
    "        if lista[i] + lista[j] == n:\n",
    "            print(\"Megoldás:\",lista[i], \"+\", lista[j], \"=\", n)"
   ]
  },
  {
   "cell_type": "markdown",
   "id": "66b11a0d",
   "metadata": {},
   "source": [
    "### II. Megoláds\n",
    "\n",
    "Végig megyünk a lista elemein és minden elemre megkeressük, hogy szerepel-e a különbsége is a listában."
   ]
  },
  {
   "cell_type": "code",
   "execution_count": 69,
   "id": "96661457",
   "metadata": {},
   "outputs": [
    {
     "name": "stdout",
     "output_type": "stream",
     "text": [
      "Adjon meg egy szamot: 15\n",
      "Megoldás: 2 + 13 = 15\n",
      "Megoldás: 13 + 2 = 15\n"
     ]
    }
   ],
   "source": [
    "lista = [11, 13, 6, 2, 46, 3]\n",
    "n = int(input(\"Adjon meg egy szamot: \"))\n",
    "\n",
    "\n",
    "for ind in range(len(lista)):\n",
    "    keres = n-lista[ind]\n",
    "    i = 0\n",
    "    while i<len(lista) and not (lista[i] == keres and i!=ind):\n",
    "        i += 1\n",
    "    \n",
    "    if i<len(lista):\n",
    "        print(\"Megoldás:\",lista[i], \"+\", lista[ind], \"=\", n)"
   ]
  },
  {
   "cell_type": "markdown",
   "id": "63f69602",
   "metadata": {},
   "source": [
    "### III. Megoldás\n",
    "\n",
    "AZt is csinálhatjuk, hogy először rendezzük a listát és egy változóval elindulunk az indexeken az elejétől, eggyel pedig a végéről. Mindig megnézzük, hogy az összeg egyenlő-e a keresettel és ha igen, akkor megállunk, ha nem akkor megnézzük hogy növelni vagy csökkenteni kell-e az összeget. Ha növelni akkor az elejéről lépünk a nagyobb számok felé, ha csökkenteni akkor a végéről a kisebbek felé."
   ]
  },
  {
   "cell_type": "code",
   "execution_count": 63,
   "id": "0d42a540",
   "metadata": {},
   "outputs": [
    {
     "name": "stdout",
     "output_type": "stream",
     "text": [
      "Adjon meg egy szamot: 15\n",
      "Megoldás: 2 + 13 = 15\n"
     ]
    }
   ],
   "source": [
    "lista = [11, 13, 6, 2, 46, 3]\n",
    "n = int(input(\"Adjon meg egy szamot: \"))\n",
    "\n",
    "lista = sorted(lista)\n",
    "i = 0\n",
    "j = len(lista)-1\n",
    "\n",
    "while i<j and lista[i]+lista[j] != n:\n",
    "    if lista[i]+lista[j] < n:\n",
    "        i += 1\n",
    "    else:\n",
    "        j -= 1\n",
    "\n",
    "if i<j:\n",
    "    print(\"Megoldás:\",lista[i], \"+\", lista[j], \"=\", n)"
   ]
  },
  {
   "cell_type": "markdown",
   "id": "416fd904",
   "metadata": {},
   "source": [
    "## 42. Feladat - BUMMM\n",
    "\n",
    "Kérjünk be egy számot a felhasználótól. Írassuk ki a számokat egymás alá egytől a bekért számig, úgy, hogy ha egy szám osztható 3-mal, vagy tartalmazza a 3-mas számjegyet, akkor annak a helyére csak annyit írjunk, hogy \"BUMMM\".\n",
    "\n",
    "### Megoldás"
   ]
  },
  {
   "cell_type": "code",
   "execution_count": 70,
   "id": "8e16a961",
   "metadata": {},
   "outputs": [
    {
     "name": "stdout",
     "output_type": "stream",
     "text": [
      "Adjon meg egy számot: 33\n",
      "1\n",
      "2\n",
      "BUMMM\n",
      "4\n",
      "5\n",
      "BUMMM\n",
      "7\n",
      "8\n",
      "BUMMM\n",
      "10\n",
      "11\n",
      "BUMMM\n",
      "BUMMM\n",
      "14\n",
      "BUMMM\n",
      "16\n",
      "17\n",
      "BUMMM\n",
      "19\n",
      "20\n",
      "BUMMM\n",
      "22\n",
      "BUMMM\n",
      "BUMMM\n",
      "25\n",
      "26\n",
      "BUMMM\n",
      "28\n",
      "29\n",
      "BUMMM\n",
      "BUMMM\n",
      "BUMMM\n",
      "BUMMM\n"
     ]
    }
   ],
   "source": [
    "n = int(input(\"Adjon meg egy számot: \"))\n",
    "\n",
    "for i in range(1, n+1):\n",
    "    if i % 3 == 0 or (\"3\" in str(i)):\n",
    "        print(\"BUMMM\")\n",
    "    else:\n",
    "        print(i)"
   ]
  },
  {
   "cell_type": "markdown",
   "id": "c3ba6b37",
   "metadata": {},
   "source": [
    "## 43. Feladat - Hány betű\n",
    "\n",
    "Kérjünk be egy szót, majd írassuk ki, hogy hány betűből áll.\n",
    "\n",
    "### I. Megoldás\n",
    "\n",
    "A szövegeken végig mehetünk úgy, mintha karakterek listája lenne."
   ]
  },
  {
   "cell_type": "code",
   "execution_count": 71,
   "id": "d08d0d6b",
   "metadata": {},
   "outputs": [
    {
     "name": "stdout",
     "output_type": "stream",
     "text": [
      "Adjon meg egy szót: alma\n",
      "4\n"
     ]
    }
   ],
   "source": [
    "szó = input(\"Adjon meg egy szót: \")\n",
    "\n",
    "szamlaló = 0\n",
    "for betű in szó:\n",
    "    szamlaló += 1\n",
    "\n",
    "print(szamlaló)"
   ]
  },
  {
   "cell_type": "markdown",
   "id": "699cae8d",
   "metadata": {},
   "source": [
    "### II. Megoldás"
   ]
  },
  {
   "cell_type": "code",
   "execution_count": 72,
   "id": "60f42a71",
   "metadata": {},
   "outputs": [
    {
     "name": "stdout",
     "output_type": "stream",
     "text": [
      "Adjon meg egy szót: alma\n",
      "4\n"
     ]
    }
   ],
   "source": [
    "szó = input(\"Adjon meg egy szót: \")\n",
    "\n",
    "print(len(szó))"
   ]
  },
  {
   "cell_type": "markdown",
   "id": "a2a7e731",
   "metadata": {},
   "source": [
    "## 44. Feladat - e betű\n",
    "\n",
    "Kérjünk be egy szót, majd írassuk ki, hogy hány 'e' betű szerepel a szóban.\n",
    "\n",
    "### Megoldás"
   ]
  },
  {
   "cell_type": "code",
   "execution_count": 74,
   "id": "f5c69e7b",
   "metadata": {},
   "outputs": [
    {
     "name": "stdout",
     "output_type": "stream",
     "text": [
      "Adjon meg egy szót: Elemér\n",
      "2\n"
     ]
    }
   ],
   "source": [
    "szó = input(\"Adjon meg egy szót: \")\n",
    "\n",
    "szamlaló = 0\n",
    "for betű in szó:\n",
    "    if betű == 'e' or betű == 'E':\n",
    "        szamlaló += 1\n",
    "\n",
    "print(szamlaló)"
   ]
  },
  {
   "cell_type": "markdown",
   "id": "5cb40044",
   "metadata": {},
   "source": [
    "## 45. Feladat - egyesek\n",
    "\n",
    "Kérjünk be egy számot, majd írassuk ki, hogy hány egyes számjegy szerepel a számban.\n",
    "\n",
    "### Megoldás\n",
    "\n",
    "Ehhez a számot is szövegként kell kezelnünk"
   ]
  },
  {
   "cell_type": "code",
   "execution_count": 75,
   "id": "6793ef67",
   "metadata": {},
   "outputs": [
    {
     "name": "stdout",
     "output_type": "stream",
     "text": [
      "Adjon meg egy szót: 112121\n",
      "4\n"
     ]
    }
   ],
   "source": [
    "szám = input(\"Adjon meg egy szót: \")\n",
    "\n",
    "szamlaló = 0\n",
    "for betű in szám:\n",
    "    if betű == '1':\n",
    "        szamlaló += 1\n",
    "\n",
    "print(szamlaló)"
   ]
  },
  {
   "cell_type": "markdown",
   "id": "ffb3ecd1",
   "metadata": {},
   "source": [
    "## 46. Feladat - kiírás 1\n",
    "\n",
    "Kérjünk be egy szót, majd írassuk ki a betűit egymás alá úgy, hogy minden betű után írunk egy csillagot is, új sorba.\n",
    "\n",
    "### Megoldás"
   ]
  },
  {
   "cell_type": "code",
   "execution_count": 76,
   "id": "6ee63661",
   "metadata": {},
   "outputs": [
    {
     "name": "stdout",
     "output_type": "stream",
     "text": [
      "Adjon meg egy szót: almafa\n",
      "a\n",
      "*\n",
      "l\n",
      "*\n",
      "m\n",
      "*\n",
      "a\n",
      "*\n",
      "f\n",
      "*\n",
      "a\n",
      "*\n"
     ]
    }
   ],
   "source": [
    "szó = input(\"Adjon meg egy szót: \")\n",
    "\n",
    "for betű in szó:\n",
    "    print(betű)\n",
    "    print(\"*\")"
   ]
  },
  {
   "cell_type": "markdown",
   "id": "9ba52303",
   "metadata": {},
   "source": [
    "## 47. Feladat - kiírás 2\n",
    "\n",
    "Kérjünk be egy szót, majd írassuk ki a betűit egymás mellé úgy, hogy minden betű után írunk egy csillagot is.\n",
    "\n",
    "### Megoldás\n",
    "\n",
    "A `print` függvénynek megadhatjuk, hogy ne sortörést rakjon a végére, hanem valami más szöveget, például egy csillagot `end=\"*\"`."
   ]
  },
  {
   "cell_type": "code",
   "execution_count": 77,
   "id": "3d667ba1",
   "metadata": {},
   "outputs": [
    {
     "name": "stdout",
     "output_type": "stream",
     "text": [
      "Adjon meg egy szót: almafa\n",
      "a*l*m*a*f*a*"
     ]
    }
   ],
   "source": [
    "szó = input(\"Adjon meg egy szót: \")\n",
    "\n",
    "for betű in szó:\n",
    "    print(betű, end=\"*\")"
   ]
  },
  {
   "cell_type": "markdown",
   "id": "e0fb0139",
   "metadata": {},
   "source": [
    "## 48. Feladat - kiírás 3\n",
    "\n",
    "Kérjünk be egy szót, majd írassuk ki a betűit egymás alá úgy, hogy a betűk közé egy csillagot (tehát az utolsó betű után nem).\n",
    "\n",
    "### I. Megoldás\n",
    "\n",
    "indexekkel megyünk végig"
   ]
  },
  {
   "cell_type": "code",
   "execution_count": 79,
   "id": "c59761fe",
   "metadata": {},
   "outputs": [
    {
     "name": "stdout",
     "output_type": "stream",
     "text": [
      "Adjon meg egy szót: almafa\n",
      "a*l*m*a*f*a\n"
     ]
    }
   ],
   "source": [
    "szó = input(\"Adjon meg egy szót: \")\n",
    "\n",
    "for i in range(len(szó)):\n",
    "    if i != len(szó)-1:\n",
    "        print(szó[i], end=\"*\")\n",
    "    else:\n",
    "        print(szó[i])"
   ]
  },
  {
   "cell_type": "markdown",
   "id": "292d7be4",
   "metadata": {},
   "source": [
    "### II. Megoldás\n",
    "\n",
    "Az utolsó indexet külön írjuk ki"
   ]
  },
  {
   "cell_type": "code",
   "execution_count": 82,
   "id": "d3cecbca",
   "metadata": {},
   "outputs": [
    {
     "name": "stdout",
     "output_type": "stream",
     "text": [
      "Adjon meg egy szót: almafa\n",
      "a*l*m*a*f*a\n"
     ]
    }
   ],
   "source": [
    "szó = input(\"Adjon meg egy szót: \")\n",
    "\n",
    "for i in range(len(szó)-1):\n",
    "    print(szó[i], end=\"*\")\n",
    "\n",
    "print(szó[-1])"
   ]
  },
  {
   "cell_type": "markdown",
   "id": "936c1a79",
   "metadata": {},
   "source": [
    "### III. Megoldás\n",
    "\n",
    "Tördeljük a szót (slicing)"
   ]
  },
  {
   "cell_type": "code",
   "execution_count": 87,
   "id": "80ea18fe",
   "metadata": {},
   "outputs": [
    {
     "name": "stdout",
     "output_type": "stream",
     "text": [
      "Adjon meg egy szót: almafa\n",
      "a*l*m*a*f*a\n"
     ]
    }
   ],
   "source": [
    "szó = input(\"Adjon meg egy szót: \")\n",
    "\n",
    "for betű in szó[:-1]:\n",
    "    print(betű, end=\"*\")\n",
    "\n",
    "print(szó[-1])"
   ]
  },
  {
   "cell_type": "markdown",
   "id": "4269c4df",
   "metadata": {},
   "source": [
    "## 49. Feladat - jelszó\n",
    "\n",
    "Kérjük be a jelszót a felhasználótól és ellenőrizzük le, hogy egyezik-e a programban megadottal. Ha igen írjuk ki, hogy „Helyes jelszó”, ha nem akkor azt, hogy „Helytelen, próbálja újra”. 3 lehetőséget adunk a jelszó kitalálására, ha egyszer sem sikerül a helyes jelszót megadnia írjuk ki, hogy „Nem sikerült megadni a helyes jelszót”\n",
    "\n",
    "### Megoldás\n"
   ]
  },
  {
   "cell_type": "code",
   "execution_count": 91,
   "id": "68ef8528",
   "metadata": {},
   "outputs": [
    {
     "name": "stdout",
     "output_type": "stream",
     "text": [
      "Adja meg a jelszót: a\n",
      "Helytelen, próbáld újra\n",
      "Adja meg a jelszót: a\n",
      "Helytelen, próbáld újra\n",
      "Adja meg a jelszót: a\n",
      "Nem sikerült megadni a helyes jelszót\n"
     ]
    }
   ],
   "source": [
    "jelszó = \"alma\"\n",
    "szó = input(\"Adja meg a jelszót: \")\n",
    "i = 1\n",
    "\n",
    "while i < 3 and jelszó != szó:\n",
    "    print(\"Helytelen, próbáld újra\")\n",
    "    szó = input(\"Adja meg a jelszót: \")\n",
    "    i += 1\n",
    "\n",
    "if i<3:\n",
    "    print(\"Helyes jelszó\")\n",
    "else:\n",
    "    print(\"Nem sikerült megadni a helyes jelszót\")"
   ]
  },
  {
   "cell_type": "markdown",
   "id": "f54e7d98",
   "metadata": {},
   "source": [
    "## 50. Feladat - Visszafelé\n",
    "\n",
    "Kérjünk be egy szót és írassuk ki visszafelé.\n",
    "\n",
    "### I. Megoldás"
   ]
  },
  {
   "cell_type": "code",
   "execution_count": 97,
   "id": "a910dbda",
   "metadata": {},
   "outputs": [
    {
     "name": "stdout",
     "output_type": "stream",
     "text": [
      "Adjon meg egy szót: alma\n",
      "amla"
     ]
    }
   ],
   "source": [
    "szó = input(\"Adjon meg egy szót: \")\n",
    "\n",
    "for i in range(len(szó)-1, -1, -1):\n",
    "    print(szó[i], end=\"\")"
   ]
  },
  {
   "cell_type": "markdown",
   "id": "8d79de9b",
   "metadata": {},
   "source": [
    "### II. Megoldás"
   ]
  },
  {
   "cell_type": "code",
   "execution_count": 99,
   "id": "def57537",
   "metadata": {},
   "outputs": [
    {
     "name": "stdout",
     "output_type": "stream",
     "text": [
      "Adjon meg egy szót: alma\n",
      "amla"
     ]
    }
   ],
   "source": [
    "szó = input(\"Adjon meg egy szót: \")\n",
    "\n",
    "for i in range(1, len(szó)+1):\n",
    "    print(szó[-i], end=\"\")"
   ]
  },
  {
   "cell_type": "markdown",
   "id": "2ae6f77e",
   "metadata": {},
   "source": [
    "### III. Megoldás"
   ]
  },
  {
   "cell_type": "code",
   "execution_count": 102,
   "id": "6725e5d4",
   "metadata": {},
   "outputs": [
    {
     "name": "stdout",
     "output_type": "stream",
     "text": [
      "Adjon meg egy szót: alma\n",
      "amla"
     ]
    }
   ],
   "source": [
    "szó = input(\"Adjon meg egy szót: \")\n",
    "\n",
    "for i in range(1, len(szó)+1):\n",
    "    print(szó[len(szó)-i], end=\"\")"
   ]
  },
  {
   "cell_type": "markdown",
   "id": "e8fe0514",
   "metadata": {},
   "source": [
    "### IV. Megoldás"
   ]
  },
  {
   "cell_type": "code",
   "execution_count": 103,
   "id": "c18f977c",
   "metadata": {},
   "outputs": [
    {
     "name": "stdout",
     "output_type": "stream",
     "text": [
      "Adjon meg egy szót: alma\n",
      "amla\n"
     ]
    }
   ],
   "source": [
    "szó = input(\"Adjon meg egy szót: \")\n",
    "\n",
    "print(szó[::-1])"
   ]
  },
  {
   "cell_type": "markdown",
   "id": "ca968c9b",
   "metadata": {},
   "source": [
    "## 51. Feladat - gyűjteni\n",
    "\n",
    "Kérjünk be szavakat, addig, amíg a felhasználó azt nem írja, hogy \"vége\". A bekért szavakat (kivéve a végszót, tehát azt hogy \"vége\") tároljuk el egy listában.\n",
    "\n",
    "### Megoldás\n",
    "\n"
   ]
  },
  {
   "cell_type": "code",
   "execution_count": 104,
   "id": "d577f701",
   "metadata": {},
   "outputs": [
    {
     "name": "stdout",
     "output_type": "stream",
     "text": [
      "Adjon meg egy szót: alma\n",
      "Adjon meg egy szót: kecske\n",
      "Adjon meg egy szót: szőlő\n",
      "Adjon meg egy szót: vége\n",
      "['alma', 'kecske', 'szőlő']\n"
     ]
    }
   ],
   "source": [
    "lista = []\n",
    "\n",
    "szó = input(\"Adjon meg egy szót: \")\n",
    "\n",
    "while szó != \"vége\":\n",
    "    lista.append(szó)\n",
    "    szó = input(\"Adjon meg egy szót: \")\n",
    "\n",
    "print(lista)"
   ]
  },
  {
   "cell_type": "markdown",
   "id": "8a7db143",
   "metadata": {},
   "source": [
    "## 52. Feladat - üres gyűjteni\n",
    "\n",
    "Kérjünk be szavakat, addig, amíg a felhasználó egy üres entert nem ír. A bekért szavakat tároljuk el egy listában.\n",
    "\n",
    "### Megoldás\n",
    "\n",
    "Az üres sor logikai értéke hamis."
   ]
  },
  {
   "cell_type": "code",
   "execution_count": 105,
   "id": "e5f8e482",
   "metadata": {},
   "outputs": [
    {
     "name": "stdout",
     "output_type": "stream",
     "text": [
      "Adjon meg egy szót: alma\n",
      "Adjon meg egy szót: kecske\n",
      "Adjon meg egy szót: \n",
      "['alma', 'kecske']\n"
     ]
    }
   ],
   "source": [
    "lista = []\n",
    "\n",
    "szó = input(\"Adjon meg egy szót: \")\n",
    "\n",
    "while szó:\n",
    "    lista.append(szó)\n",
    "    szó = input(\"Adjon meg egy szót: \")\n",
    "\n",
    "print(lista)"
   ]
  },
  {
   "cell_type": "markdown",
   "id": "3bfa60df",
   "metadata": {},
   "source": [
    "## 53. Feladat - Fibonacci n\n",
    "\n",
    "Kérjünk be a felhasználótól egy számot (`n`) és írassuk ki a Fibonacci sor `n`. elemét.\n",
    "\n",
    "### Megoldás"
   ]
  },
  {
   "cell_type": "code",
   "execution_count": 118,
   "id": "ded169be",
   "metadata": {},
   "outputs": [
    {
     "name": "stdout",
     "output_type": "stream",
     "text": [
      "adjon meg egy számot: 6\n",
      "8\n"
     ]
    }
   ],
   "source": [
    "n = int(input(\"adjon meg egy számot: \"))\n",
    "\n",
    "n_0 = 1\n",
    "n_1 = 1\n",
    "\n",
    "for i in range(n-2):\n",
    "    n_0, n_1 = n_1, n_0+n_1\n",
    "\n",
    "print(n_1)"
   ]
  },
  {
   "cell_type": "markdown",
   "id": "3ba22257",
   "metadata": {},
   "source": [
    "## 54. Feladat - Fibonacci\n",
    "\n",
    "Kérjünk be a felhasználótól egy számot (`n`) és írassuk ki a Fibonacci sor első `n` elemét.\n",
    "\n",
    "### Megoldás"
   ]
  },
  {
   "cell_type": "code",
   "execution_count": 134,
   "id": "82d17d55",
   "metadata": {},
   "outputs": [
    {
     "name": "stdout",
     "output_type": "stream",
     "text": [
      "adjon meg egy számot: 6\n",
      "1\n",
      "1\n",
      "2\n",
      "3\n",
      "5\n",
      "8\n"
     ]
    }
   ],
   "source": [
    "n = int(input(\"adjon meg egy számot: \"))\n",
    "\n",
    "print(1)\n",
    "\n",
    "if n == 2:\n",
    "    print(1)\n",
    "    \n",
    "n_0 = 1\n",
    "n_1 = 1\n",
    "\n",
    "for i in range(n-2):\n",
    "    print(n_1)\n",
    "    n_0, n_1 = n_1, n_0+n_1\n",
    "\n",
    "if n > 2:\n",
    "    print(n_1)"
   ]
  },
  {
   "cell_type": "markdown",
   "id": "b235341d",
   "metadata": {},
   "source": [
    "## 55. Feladat - prím\n",
    "\n",
    "Kérjünk be egy számot a felhasználótól és döntsük el róla, hogy prímszám-e\n",
    "\n",
    "### Megoldás"
   ]
  },
  {
   "cell_type": "code",
   "execution_count": 138,
   "id": "de412c92",
   "metadata": {},
   "outputs": [
    {
     "name": "stdout",
     "output_type": "stream",
     "text": [
      "Adjon meg egy számot: 2\n",
      "Prímszám\n"
     ]
    }
   ],
   "source": [
    "n = int(input(\"Adjon meg egy számot: \"))\n",
    "\n",
    "prim = True\n",
    "for i in range(2,n):\n",
    "    if n % i == 0:\n",
    "        prim = False\n",
    "\n",
    "if prim:\n",
    "    print(\"Prímszám\")\n",
    "else:\n",
    "    print(\"Nem prím\")"
   ]
  },
  {
   "cell_type": "markdown",
   "id": "38f51b5a",
   "metadata": {},
   "source": [
    "## 56. Feladat - metszet\n",
    "\n",
    "Hozzunk létre két listát, amelyek nem tartalmaznak ismétlődéseket. Egy harmadik listába gyűjtsük össze azokat a számokat, amelyek mind a két listában szerepelnek (a listák metszetét).\n",
    "\n",
    "### Megoldás"
   ]
  },
  {
   "cell_type": "code",
   "execution_count": 140,
   "id": "704373c8",
   "metadata": {},
   "outputs": [
    {
     "name": "stdout",
     "output_type": "stream",
     "text": [
      "[1, 5, 3]\n"
     ]
    }
   ],
   "source": [
    "lista1 = [1,5,2,7,3]\n",
    "lista2 = [4,6,5,1,3,9,10]\n",
    "\n",
    "lista3 = []\n",
    "\n",
    "for elem1 in lista1:\n",
    "    if elem1 in lista2:\n",
    "        lista3.append(elem1)\n",
    "\n",
    "print(lista3)"
   ]
  }
 ],
 "metadata": {
  "kernelspec": {
   "display_name": "Python 3 (ipykernel)",
   "language": "python",
   "name": "python3"
  },
  "language_info": {
   "codemirror_mode": {
    "name": "ipython",
    "version": 3
   },
   "file_extension": ".py",
   "mimetype": "text/x-python",
   "name": "python",
   "nbconvert_exporter": "python",
   "pygments_lexer": "ipython3",
   "version": "3.8.10"
  }
 },
 "nbformat": 4,
 "nbformat_minor": 5
}
