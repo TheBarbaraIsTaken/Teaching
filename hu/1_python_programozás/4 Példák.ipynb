{
 "cells": [
  {
   "cell_type": "markdown",
   "id": "c1eea350",
   "metadata": {},
   "source": [
    "# Tartalom jegyzék\n",
    "1. Hozzunk létre egy 5 hosszúságú, egész számokat tartalmazó listát. Írassuk ki az első elem kétszeresét, a második elem felét, a haramdik elem háromszorosát, a negyedik elem harmadát és az ötödik elem négyzetét.\n",
    "2. Kérjünk be a felhasználótól 3 számot és tároljuk el őket egy listában.\n",
    "3. Hozzunk létre egy 4 hosszúságú listát. Módosítsuk a lista elemeit méghozzá olyan módon, hogy az első ele maradjon az eredeti, a második elem értékét csökkentsük eggyel, a haramdikat növeljük a lista első elemének az értékével, a negyediket pedig módosítsd úgy, hogy az eredeti tizede legyen.\n",
    "4. Kérjünk be egy számot a felhasználótól és írassuk ki annak az ötösre kerekített értékét.\n",
    "\n",
    "\n",
    "# Megoldások\n",
    "\n",
    "## 1. Feladat - kiírás\n",
    "\n",
    "Hozzunk létre egy 5 hosszúságú, egész számokat tartalmazó listát. Írassuk ki az első elem kétszeresét, a második elem felét, a haramdik elem háromszorosát, a negyedik elem harmadát és az ötödik elem négyzetét.\n",
    "\n",
    "### Megoldás\n",
    "\n",
    "Az eredeti listát nem szeretnénk megváltoztatni, csak egy matematikai kifejezésben használjuk fel az elemeit.\n",
    "\n",
    "* Létrehozzuk a listát [1]\n",
    "* Kiíratjuk az első elem kétszeresét (0. index) [2]\n",
    "* Kiíratjuk a második elem felét [3]\n",
    "* Kiíratjuk a haramdik elem háromszorosát [4]\n",
    "* A negyedik elem harmadát [5]\n",
    "* És az ötödik elem négyzetét [6]"
   ]
  },
  {
   "cell_type": "code",
   "execution_count": 4,
   "id": "f6c97901",
   "metadata": {},
   "outputs": [
    {
     "name": "stdout",
     "output_type": "stream",
     "text": [
      "Az első elem kétszerese: 6\n",
      "A második elem fele: 0.5\n",
      "A harmadik elem háromszorosa: 21\n",
      "A negyedik elem harmada: 1.0\n",
      "Az ötödik elem négyzete: 16\n"
     ]
    }
   ],
   "source": [
    "lista = [3, 1, 7, 3, 4] # [1]\n",
    "\n",
    "print(\"Az első elem kétszerese:\", lista[0] * 2) # [2]\n",
    "print(\"A második elem fele:\", lista[1]/2) # [3]\n",
    "print(\"A harmadik elem háromszorosa:\", lista[2] * 3) # [4]\n",
    "print(\"A negyedik elem harmada:\", lista[3]/3) # [5]\n",
    "print(\"Az ötödik elem négyzete:\", lista[4]**2) # [6]"
   ]
  },
  {
   "cell_type": "markdown",
   "id": "3690ef10",
   "metadata": {},
   "source": [
    "## 2. feladat - tárolás\n",
    "\n",
    "Kérjünk be a felhasználótól 3 számot és tároljuk el őket egy listában.\n",
    "\n",
    "### Megoldás \n",
    "\n",
    "* Létrehozunk egy kezdetben üres listát [1]\n",
    "* Bekérünk egy számot a felhasználótól (és át is alakítjuk egész számmá) [2]\n",
    "* A bekért számot hozzá fűttük a listához [3]\n",
    "* Még kétszer megismételjük az előzőeket [4]\n",
    "* Kiíratjuk a listát, amely tartalmazza mind a 3 bekért számot [5]"
   ]
  },
  {
   "cell_type": "code",
   "execution_count": 5,
   "id": "7a138d71",
   "metadata": {},
   "outputs": [
    {
     "name": "stdout",
     "output_type": "stream",
     "text": [
      "Adjon meg egy számot: 2\n",
      "Adjon meg egy számot: 5\n",
      "Adjon meg egy számot: 7\n",
      "[2, 5, 7]\n"
     ]
    }
   ],
   "source": [
    "lista = [] # [1]\n",
    "\n",
    "x = int(input(\"Adjon meg egy számot: \")) # [2]\n",
    "lista.append(x) # [3]\n",
    "\n",
    "x = int(input(\"Adjon meg egy számot: \")) # [4]\n",
    "lista.append(x) # [4]\n",
    "\n",
    "x = int(input(\"Adjon meg egy számot: \")) # [4]\n",
    "lista.append(x) # [4]\n",
    "\n",
    "print(lista) # [5]"
   ]
  },
  {
   "cell_type": "markdown",
   "id": "dae1d58d",
   "metadata": {},
   "source": [
    "## 3. Feladat - módosítás\n",
    "\n",
    "Hozzunk létre egy 4 hosszúságú listát. Módosítsuk a lista elemeit méghozzá olyan módon, hogy az első ele maradjon az eredeti, a második elem értékét csökkentsük eggyel, a haramdikat növeljük a lista első elemének az értékével, a negyediket pedig módosítsd úgy, hogy az eredeti tizede legyen.\n",
    "\n",
    "### Megoldás\n",
    "\n",
    "Ezúttal módosítanunk kell a lista elemeit. \n",
    "\n",
    "* Létrehozunk egy 4 hosszúságú listát [1]\n",
    "* A második (1. indexű) elemet úgy módosítjuk, hogy lekérjük addig mi volt az értéke és kivonunk belőle egyet [2]\n",
    "* A harmadik elem legyen egyenlő az első (0. indexű) elemmel [3]\n",
    "* A negyedik elem legyen egyenlő azzal ami addig volt a negyedik elem értéke osztva 10-zel [4]\n",
    "* Végül kiíratjuk a módosított listát [5]"
   ]
  },
  {
   "cell_type": "code",
   "execution_count": 8,
   "id": "587bdc62",
   "metadata": {},
   "outputs": [
    {
     "name": "stdout",
     "output_type": "stream",
     "text": [
      "[3, 6, 2, 3]\n",
      "[3, 5, 3, 0.3]\n"
     ]
    }
   ],
   "source": [
    "lista = [3, 6, 2, 3] # [1]\n",
    "\n",
    "print(lista) # a lista a módosítások előtt\n",
    "\n",
    "lista[1] = lista[1] - 1 # [2]\n",
    "lista[2] = lista[0] # [3]\n",
    "lista[3] = lista[3]/10 # [4]\n",
    "\n",
    "print(lista) # [5]"
   ]
  },
  {
   "cell_type": "markdown",
   "id": "87a8c48b",
   "metadata": {},
   "source": [
    "## 4. Feladat - kerekítés\n",
    "\n",
    "Kérjünk be egy számot a felhasználótól és írassuk ki annak az ötösre kerekített értékét.\n",
    "\n",
    "### Megoldás\n",
    "\n",
    "A megoldás során azt fogjuk felhasználni, hogy a string-eket tudjuk indexelni. Tehát ha a számot nem alakítjuk át `int`-é rögtön, akkor az utolsó számjegyet vizsgálva el tudjuk végezni a kerekítést.\n",
    "\n",
    "* Bekérünk egy számot a felhasználótól [1]\n",
    "* Eltátoljuk egy `utolsó` nevű változóban a szám utolsó számjegyét szám formátumban [2]\n",
    "* Később matematikai műveleteket akarunk végezni a számmal, így `int`-té alakítjuk [3]\n",
    "* **Ha** az utolsó számjegy 0 vagy 5, akkor kiírhatjuk az eredeti számot, nincs szükség kerekítésre [4]\n",
    "* **Ha** az utolsó számjegy 1 vagy 6, akkor ki kell vonni egyet az eredeti számból, hogy az 5-ösre kerekített értéket kapjuk. [5]\n",
    "* **Ha** az utolsó számjegy 2 vagy 7, akkor 2-t kell kivonni [6]\n",
    "* **Ha** az utolsó számjegy 3 vagy 8, akkor 2-t hozzá kell adni [7]\n",
    "* **Máskülönben**, tehát ha az utolsó számjegy 4 vagy 9, akkor 1-et kell hozzáadni [8í]"
   ]
  },
  {
   "cell_type": "code",
   "execution_count": 9,
   "id": "14034f07",
   "metadata": {},
   "outputs": [
    {
     "name": "stdout",
     "output_type": "stream",
     "text": [
      "Adjon megy egy számot: 117\n",
      "A szám ötösre kerekítet értéke:\n",
      "115\n"
     ]
    }
   ],
   "source": [
    "szám = input(\"Adjon megy egy számot: \") # [1]\n",
    "\n",
    "utolsó = int(szám[-1]) # [2]\n",
    "szám = int(szám) # [3]\n",
    "\n",
    "print(\"A szám ötösre kerekítet értéke:\")\n",
    "if utolsó == 0 or utolsó == 5:\n",
    "    print(szám)\n",
    "elif utolsó == 1 or utolsó == 6:\n",
    "    print(szám-1)\n",
    "elif utolsó == 2 or utolsó == 7:\n",
    "    print(szám-2)\n",
    "elif utolsó == 3 or utolsó == 8:\n",
    "    print(szám+2)\n",
    "else:\n",
    "    print(szám+1)\n"
   ]
  },
  {
   "cell_type": "markdown",
   "id": "36556496",
   "metadata": {},
   "source": [
    ">Megjegyzés:\\\n",
    "Ha az `utolsó`-nál nem alakítjuk át az utolsó számjegyet `int`-é, akkor az összehasonlításnál ki kell tennünk az idézőjeleket, mivel `0` és `\"0\"` nem egyenlő egymással!"
   ]
  },
  {
   "cell_type": "code",
   "execution_count": null,
   "id": "89a2abcd",
   "metadata": {},
   "outputs": [],
   "source": []
  }
 ],
 "metadata": {
  "kernelspec": {
   "display_name": "Python 3 (ipykernel)",
   "language": "python",
   "name": "python3"
  },
  "language_info": {
   "codemirror_mode": {
    "name": "ipython",
    "version": 3
   },
   "file_extension": ".py",
   "mimetype": "text/x-python",
   "name": "python",
   "nbconvert_exporter": "python",
   "pygments_lexer": "ipython3",
   "version": "3.8.10"
  }
 },
 "nbformat": 4,
 "nbformat_minor": 5
}
